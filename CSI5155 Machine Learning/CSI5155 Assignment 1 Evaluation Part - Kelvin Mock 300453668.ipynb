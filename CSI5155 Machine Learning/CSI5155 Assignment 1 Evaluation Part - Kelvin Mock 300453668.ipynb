{
 "cells": [
  {
   "cell_type": "markdown",
   "metadata": {},
   "source": [
    "# CSI5155 Machine Learning Assignment 1"
   ]
  },
  {
   "cell_type": "markdown",
   "metadata": {},
   "source": [
    "This notebook is only for evaluating models from an existing machine learning pipeline."
   ]
  },
  {
   "cell_type": "markdown",
   "metadata": {},
   "source": [
    "## Installing Prerequisites and Dependencies"
   ]
  },
  {
   "cell_type": "code",
   "execution_count": 1,
   "metadata": {},
   "outputs": [
    {
     "name": "stdout",
     "output_type": "stream",
     "text": [
      "Requirement already satisfied: pandas in c:\\users\\kelvi\\appdata\\local\\programs\\python\\python310\\lib\\site-packages (1.5.0)\n",
      "Requirement already satisfied: pytz>=2020.1 in c:\\users\\kelvi\\appdata\\local\\programs\\python\\python310\\lib\\site-packages (from pandas) (2022.4)\n",
      "Requirement already satisfied: python-dateutil>=2.8.1 in c:\\users\\kelvi\\appdata\\local\\programs\\python\\python310\\lib\\site-packages (from pandas) (2.8.2)\n",
      "Requirement already satisfied: numpy>=1.21.0 in c:\\users\\kelvi\\appdata\\local\\programs\\python\\python310\\lib\\site-packages (from pandas) (1.23.3)\n",
      "Requirement already satisfied: six>=1.5 in c:\\users\\kelvi\\appdata\\local\\programs\\python\\python310\\lib\\site-packages (from python-dateutil>=2.8.1->pandas) (1.16.0)\n",
      "Note: you may need to restart the kernel to use updated packages.\n"
     ]
    },
    {
     "name": "stderr",
     "output_type": "stream",
     "text": [
      "\n",
      "[notice] A new release of pip available: 22.2.2 -> 24.2\n",
      "[notice] To update, run: python.exe -m pip install --upgrade pip\n"
     ]
    },
    {
     "name": "stdout",
     "output_type": "stream",
     "text": [
      "Requirement already satisfied: numpy in c:\\users\\kelvi\\appdata\\local\\programs\\python\\python310\\lib\\site-packages (1.23.3)\n",
      "Note: you may need to restart the kernel to use updated packages.\n"
     ]
    },
    {
     "name": "stderr",
     "output_type": "stream",
     "text": [
      "\n",
      "[notice] A new release of pip available: 22.2.2 -> 24.2\n",
      "[notice] To update, run: python.exe -m pip install --upgrade pip\n"
     ]
    },
    {
     "name": "stdout",
     "output_type": "stream",
     "text": [
      "Requirement already satisfied: scikit-learn in c:\\users\\kelvi\\appdata\\local\\programs\\python\\python310\\lib\\site-packages (1.1.2)\n",
      "Requirement already satisfied: threadpoolctl>=2.0.0 in c:\\users\\kelvi\\appdata\\local\\programs\\python\\python310\\lib\\site-packages (from scikit-learn) (3.1.0)\n",
      "Requirement already satisfied: scipy>=1.3.2 in c:\\users\\kelvi\\appdata\\local\\programs\\python\\python310\\lib\\site-packages (from scikit-learn) (1.9.1)\n",
      "Requirement already satisfied: numpy>=1.17.3 in c:\\users\\kelvi\\appdata\\local\\programs\\python\\python310\\lib\\site-packages (from scikit-learn) (1.23.3)\n",
      "Requirement already satisfied: joblib>=1.0.0 in c:\\users\\kelvi\\appdata\\local\\programs\\python\\python310\\lib\\site-packages (from scikit-learn) (1.2.0)\n",
      "Note: you may need to restart the kernel to use updated packages.\n"
     ]
    },
    {
     "name": "stderr",
     "output_type": "stream",
     "text": [
      "\n",
      "[notice] A new release of pip available: 22.2.2 -> 24.2\n",
      "[notice] To update, run: python.exe -m pip install --upgrade pip\n"
     ]
    },
    {
     "name": "stdout",
     "output_type": "stream",
     "text": [
      "Requirement already satisfied: joblib in c:\\users\\kelvi\\appdata\\local\\programs\\python\\python310\\lib\\site-packages (1.2.0)\n",
      "Note: you may need to restart the kernel to use updated packages.\n"
     ]
    },
    {
     "name": "stderr",
     "output_type": "stream",
     "text": [
      "\n",
      "[notice] A new release of pip available: 22.2.2 -> 24.2\n",
      "[notice] To update, run: python.exe -m pip install --upgrade pip\n"
     ]
    },
    {
     "name": "stdout",
     "output_type": "stream",
     "text": [
      "Requirement already satisfied: matplotlib in c:\\users\\kelvi\\appdata\\local\\programs\\python\\python310\\lib\\site-packages (3.6.0)\n",
      "Requirement already satisfied: pillow>=6.2.0 in c:\\users\\kelvi\\appdata\\local\\programs\\python\\python310\\lib\\site-packages (from matplotlib) (9.2.0)\n",
      "Requirement already satisfied: cycler>=0.10 in c:\\users\\kelvi\\appdata\\local\\programs\\python\\python310\\lib\\site-packages (from matplotlib) (0.11.0)\n",
      "Requirement already satisfied: fonttools>=4.22.0 in c:\\users\\kelvi\\appdata\\local\\programs\\python\\python310\\lib\\site-packages (from matplotlib) (4.37.4)\n",
      "Requirement already satisfied: python-dateutil>=2.7 in c:\\users\\kelvi\\appdata\\local\\programs\\python\\python310\\lib\\site-packages (from matplotlib) (2.8.2)\n",
      "Requirement already satisfied: contourpy>=1.0.1 in c:\\users\\kelvi\\appdata\\local\\programs\\python\\python310\\lib\\site-packages (from matplotlib) (1.0.5)\n",
      "Requirement already satisfied: pyparsing>=2.2.1 in c:\\users\\kelvi\\appdata\\local\\programs\\python\\python310\\lib\\site-packages (from matplotlib) (3.0.9)\n",
      "Requirement already satisfied: kiwisolver>=1.0.1 in c:\\users\\kelvi\\appdata\\local\\programs\\python\\python310\\lib\\site-packages (from matplotlib) (1.4.4)\n",
      "Requirement already satisfied: numpy>=1.19 in c:\\users\\kelvi\\appdata\\local\\programs\\python\\python310\\lib\\site-packages (from matplotlib) (1.23.3)\n",
      "Requirement already satisfied: packaging>=20.0 in c:\\users\\kelvi\\appdata\\local\\programs\\python\\python310\\lib\\site-packages (from matplotlib) (21.3)\n",
      "Requirement already satisfied: six>=1.5 in c:\\users\\kelvi\\appdata\\local\\programs\\python\\python310\\lib\\site-packages (from python-dateutil>=2.7->matplotlib) (1.16.0)\n",
      "Note: you may need to restart the kernel to use updated packages.\n"
     ]
    },
    {
     "name": "stderr",
     "output_type": "stream",
     "text": [
      "\n",
      "[notice] A new release of pip available: 22.2.2 -> 24.2\n",
      "[notice] To update, run: python.exe -m pip install --upgrade pip\n"
     ]
    }
   ],
   "source": [
    "%pip install pandas\n",
    "%pip install numpy\n",
    "%pip install scikit-learn\n",
    "%pip install joblib\n",
    "%pip install matplotlib"
   ]
  },
  {
   "cell_type": "code",
   "execution_count": 2,
   "metadata": {},
   "outputs": [],
   "source": [
    "import pandas as pd;\n",
    "import numpy as np;\n",
    "from models import Models;\n",
    "import constants;\n",
    "from fileOrganizer import unpack;\n",
    "import joblib; # for saving Python objects (like models) in .pkl format\n",
    "import performance;"
   ]
  },
  {
   "cell_type": "markdown",
   "metadata": {},
   "source": [
    "## Obtain Models and Data from files"
   ]
  },
  {
   "cell_type": "markdown",
   "metadata": {},
   "source": [
    "### Unpacking Model files"
   ]
  },
  {
   "cell_type": "code",
   "execution_count": 3,
   "metadata": {},
   "outputs": [],
   "source": [
    "# choc dataset\n",
    "choco_decisionTree = unpack(constants.filepaths[\"choc_posttrained_decisionTree\"]);\n",
    "choco_gradientBoost = unpack(constants.filepaths[\"choc_posttrained_gradientBoost\"]);\n",
    "choco_KNN = unpack(constants.filepaths[\"choc_posttrained_KNN\"]);\n",
    "choco_MLP = unpack(constants.filepaths[\"choc_posttrained_MLP\"]);\n",
    "choco_randomForst = unpack(constants.filepaths[\"choc_posttrained_randomForest\"]);\n",
    "choco_SVC = unpack(constants.filepaths[\"choc_posttrained_SVC\"]);\n",
    "\n",
    "# mushrooms dataset\n",
    "mushrooms_decisionTree = unpack(constants.filepaths[\"mushrooms_posttrained_decisionTree\"]);\n",
    "mushrooms_gradientBoost = unpack(constants.filepaths[\"mushrooms_posttrained_gradientBoost\"]);\n",
    "mushrooms_KNN = unpack(constants.filepaths[\"mushrooms_posttrained_KNN\"]);\n",
    "mushrooms_MLP = unpack(constants.filepaths[\"mushrooms_posttrained_MLP\"]);\n",
    "mushrooms_randomForest = unpack(constants.filepaths[\"mushrooms_posttrained_randomForest\"]);\n",
    "mushrooms_SVC = unpack(constants.filepaths[\"mushrooms_posttrained_SVC\"]);"
   ]
  },
  {
   "cell_type": "code",
   "execution_count": 4,
   "metadata": {},
   "outputs": [
    {
     "name": "stdout",
     "output_type": "stream",
     "text": [
      "Decision Tree classifier - for Chocolate dataset: DecisionTreeClassifier(criterion='entropy', splitter='random')\n",
      "Decision Tree classifier - for Mushrooms dataset: DecisionTreeClassifier(criterion='entropy', splitter='random')\n",
      "Gradient Boosting classifier - for Chocolate dataset: GradientBoostingClassifier()\n",
      "Gradient Boosting classifier - for Mushrooms dataset: GradientBoostingClassifier()\n",
      "KNN classifier - for Chocolate dataset: KNeighborsClassifier(n_jobs=-1, weights='distance')\n",
      "KNN classifier - for Mushrooms dataset: KNeighborsClassifier(n_jobs=-1, weights='distance')\n",
      "MLP classifier - for Chocolate dataset: MLPClassifier(hidden_layer_sizes=3769, learning_rate='adaptive', max_iter=500)\n",
      "MLP classifier - for Mushrooms dataset: MLPClassifier(hidden_layer_sizes=3769, learning_rate='adaptive', max_iter=500)\n",
      "Random Forest classifier - for Chocolate dataset: RandomForestClassifier(criterion='entropy')\n",
      "Random Forest classifier - for Mushrooms dataset: RandomForestClassifier(criterion='entropy')\n",
      "SVM classifier - for Chocolate dataset: SVC()\n",
      "SVM classifier - for Mushrooms dataset: SVC()\n"
     ]
    }
   ],
   "source": [
    "# Verify data\n",
    "print(f\"Decision Tree classifier - for Chocolate dataset: {choco_decisionTree}\");\n",
    "print(f\"Decision Tree classifier - for Mushrooms dataset: {mushrooms_decisionTree}\");\n",
    "print(f\"Gradient Boosting classifier - for Chocolate dataset: {choco_gradientBoost}\");\n",
    "print(f\"Gradient Boosting classifier - for Mushrooms dataset: {mushrooms_gradientBoost}\");\n",
    "print(f\"KNN classifier - for Chocolate dataset: {choco_KNN}\");\n",
    "print(f\"KNN classifier - for Mushrooms dataset: {mushrooms_KNN}\");\n",
    "print(f\"MLP classifier - for Chocolate dataset: {choco_MLP}\");\n",
    "print(f\"MLP classifier - for Mushrooms dataset: {mushrooms_MLP}\");\n",
    "print(f\"Random Forest classifier - for Chocolate dataset: {choco_randomForst}\");\n",
    "print(f\"Random Forest classifier - for Mushrooms dataset: {mushrooms_randomForest}\");\n",
    "print(f\"SVM classifier - for Chocolate dataset: {choco_SVC}\");\n",
    "print(f\"SVM classifier - for Mushrooms dataset: {mushrooms_SVC}\");\n"
   ]
  },
  {
   "cell_type": "markdown",
   "metadata": {},
   "source": [
    "### Unpacking Test Set data"
   ]
  },
  {
   "cell_type": "code",
   "execution_count": 5,
   "metadata": {},
   "outputs": [],
   "source": [
    "# choc dataset\n",
    "choco_X_test = unpack(constants.filepaths[\"choc_test-set_samples\"]);\n",
    "choco_y_test = unpack(constants.filepaths[\"choc_test-set_labels\"]);\n",
    "\n",
    "# mushrooms dataset\n",
    "mushrooms_X_test = unpack(constants.filepaths[\"mushrooms_test-set_samples\"]);\n",
    "mushrooms_y_test = unpack(constants.filepaths[\"mushrooms_test-set_labels\"]);"
   ]
  },
  {
   "cell_type": "markdown",
   "metadata": {},
   "source": [
    "Verifying the data"
   ]
  },
  {
   "cell_type": "code",
   "execution_count": 6,
   "metadata": {},
   "outputs": [
    {
     "name": "stdout",
     "output_type": "stream",
     "text": [
      "Type of samples array - for Chocolate dataset: <class 'numpy.ndarray'>\n",
      "Shape of samples array - for Chocolate dataset: (629, 13)\n",
      "Dimensionality of samples array - for Chocolate dataset: 2\n",
      "\n",
      "Type of labels array - for Chocolate dataset: <class 'numpy.ndarray'>\n",
      "Shape of labels array - for Chocolate dataset: (629,)\n",
      "Dimensionality of labels array - for Chocolate dataset: 1\n",
      "\n",
      "Type of samples array - for Mushrooms dataset: <class 'numpy.ndarray'>\n",
      "Shape of samples array - for Mushrooms dataset: (629, 13)\n",
      "Dimensionality of samples array - for Mushrooms dataset: 2\n",
      "\n",
      "Type of labels array - for Chocolate dataset: <class 'numpy.ndarray'>\n",
      "Shape of labels array - for Chocolate dataset: (629,)\n",
      "Dimensionality of labels array - for Chocolate dataset: 1\n"
     ]
    }
   ],
   "source": [
    "# choc dataset\n",
    "# Samples Array\n",
    "print(f\"Type of samples array - for Chocolate dataset: {type(choco_X_test)}\");\n",
    "print(f\"Shape of samples array - for Chocolate dataset: {choco_X_test.shape}\");\n",
    "print(f\"Dimensionality of samples array - for Chocolate dataset: {choco_X_test.ndim}\");\n",
    "\n",
    "print();\n",
    "\n",
    "# Labels Array\n",
    "print(f\"Type of labels array - for Chocolate dataset: {type(choco_y_test)}\");\n",
    "print(f\"Shape of labels array - for Chocolate dataset: {choco_y_test.shape}\");\n",
    "print(f\"Dimensionality of labels array - for Chocolate dataset: {choco_y_test.ndim}\");\n",
    "\n",
    "print();\n",
    "\n",
    "# mushrooms dataset\n",
    "# Samples array\n",
    "print(f\"Type of samples array - for Mushrooms dataset: {type(mushrooms_X_test)}\");\n",
    "print(f\"Shape of samples array - for Mushrooms dataset: {mushrooms_X_test.shape}\");\n",
    "print(f\"Dimensionality of samples array - for Mushrooms dataset: {mushrooms_X_test.ndim}\");\n",
    "\n",
    "print();\n",
    "\n",
    "# Labels Array\n",
    "print(f\"Type of labels array - for Chocolate dataset: {type(mushrooms_y_test)}\");\n",
    "print(f\"Shape of labels array - for Chocolate dataset: {mushrooms_y_test.shape}\");\n",
    "print(f\"Dimensionality of labels array - for Chocolate dataset: {mushrooms_y_test.ndim}\");"
   ]
  },
  {
   "cell_type": "markdown",
   "metadata": {},
   "source": [
    "### Unpacking Training Set data"
   ]
  },
  {
   "cell_type": "code",
   "execution_count": 7,
   "metadata": {},
   "outputs": [],
   "source": [
    "# choc dataset\n",
    "choco_X_train = unpack(constants.filepaths[\"choc_train-set_samples\"]);\n",
    "choco_y_train = unpack(constants.filepaths[\"choc_train-set_labels\"]);\n",
    "\n",
    "# mushrooms dataset\n",
    "mushrooms_X_train = unpack(constants.filepaths[\"mushrooms_train-set_samples\"]);\n",
    "mushrooms_y_train = unpack(constants.filepaths[\"mushrooms_train-set_labels\"]);"
   ]
  },
  {
   "cell_type": "code",
   "execution_count": 8,
   "metadata": {},
   "outputs": [
    {
     "name": "stdout",
     "output_type": "stream",
     "text": [
      "Type of samples array - for Chocolate dataset: <class 'numpy.ndarray'>\n",
      "Shape of samples array - for Chocolate dataset: (1256, 13)\n",
      "Dimensionality of samples array - for Chocolate dataset: 2\n",
      "\n",
      "Type of labels array - for Chocolate dataset: <class 'numpy.ndarray'>\n",
      "Shape of labels array - for Chocolate dataset: (1256,)\n",
      "Dimensionality of labels array - for Chocolate dataset: 1\n",
      "\n",
      "Type of samples array - for Mushrooms dataset: <class 'numpy.ndarray'>\n",
      "Shape of samples array - for Mushrooms dataset: (1256, 13)\n",
      "Dimensionality of samples array - for Mushrooms dataset: 2\n",
      "\n",
      "Type of labels array - for Chocolate dataset: <class 'numpy.ndarray'>\n",
      "Shape of labels array - for Chocolate dataset: (1256,)\n",
      "Dimensionality of labels array - for Chocolate dataset: 1\n"
     ]
    }
   ],
   "source": [
    "# choc dataset\n",
    "# Samples Array\n",
    "print(f\"Type of samples array - for Chocolate dataset: {type(choco_X_train)}\");\n",
    "print(f\"Shape of samples array - for Chocolate dataset: {choco_X_train.shape}\");\n",
    "print(f\"Dimensionality of samples array - for Chocolate dataset: {choco_X_train.ndim}\");\n",
    "\n",
    "print();\n",
    "\n",
    "# Labels Array\n",
    "print(f\"Type of labels array - for Chocolate dataset: {type(choco_y_train)}\");\n",
    "print(f\"Shape of labels array - for Chocolate dataset: {choco_y_train.shape}\");\n",
    "print(f\"Dimensionality of labels array - for Chocolate dataset: {choco_y_train.ndim}\");\n",
    "\n",
    "print();\n",
    "\n",
    "# mushrooms dataset\n",
    "# Samples array\n",
    "print(f\"Type of samples array - for Mushrooms dataset: {type(mushrooms_X_train)}\");\n",
    "print(f\"Shape of samples array - for Mushrooms dataset: {mushrooms_X_train.shape}\");\n",
    "print(f\"Dimensionality of samples array - for Mushrooms dataset: {mushrooms_X_train.ndim}\");\n",
    "\n",
    "print();\n",
    "\n",
    "# Labels Array\n",
    "print(f\"Type of labels array - for Chocolate dataset: {type(mushrooms_y_train)}\");\n",
    "print(f\"Shape of labels array - for Chocolate dataset: {mushrooms_y_train.shape}\");\n",
    "print(f\"Dimensionality of labels array - for Chocolate dataset: {mushrooms_y_train.ndim}\");"
   ]
  },
  {
   "cell_type": "code",
   "execution_count": 9,
   "metadata": {},
   "outputs": [
    {
     "name": "stdout",
     "output_type": "stream",
     "text": [
      "<models.Models object at 0x000002CDF92423E0>\n"
     ]
    }
   ],
   "source": [
    "# Combine all models into a pipeline for both datasets respectively\n",
    "# choc dataset\n",
    "chocoModels = Models(\n",
    "    decisionTree_clf=choco_decisionTree,\n",
    "    randomForest_clf=choco_randomForst,\n",
    "    svm_clf=choco_SVC,\n",
    "    gradientBoost_clf=choco_gradientBoost,\n",
    "    mlp_clf=choco_MLP,\n",
    "    knn_clf=choco_KNN\n",
    ");\n",
    "\n",
    "chocoModels.set_X_train(choco_X_train);\n",
    "chocoModels.set_X_test(choco_X_test);\n",
    "chocoModels.set_y_train(choco_y_train);\n",
    "chocoModels.set_y_test(choco_y_test);\n",
    "\n",
    "# Normalize\n",
    "chocoModels.normalize();\n",
    "\n",
    "chocoModels.getModels(\n",
    "    constants.descisionTree, # Single Decision Tree classifier\n",
    "    constants.randForest, # Random Forest classifier\n",
    "    constants.svm, # Support Vector Machine (SVM) classifier - SVC with RBF\n",
    "    constants.gradientBoost, # gradient boosting (GB) ensemble\n",
    "    constants.mlp, # multi-layer perceptron (MLP) classifier\n",
    "    constants.knn # k‐nearest neighbour (k-NN) classifier\n",
    ");\n",
    "print(chocoModels);"
   ]
  },
  {
   "cell_type": "code",
   "execution_count": 10,
   "metadata": {},
   "outputs": [
    {
     "name": "stdout",
     "output_type": "stream",
     "text": [
      "<models.Models object at 0x000002CDF9243070>\n"
     ]
    }
   ],
   "source": [
    "# Combine all models into a pipeline for both datasets respectively\n",
    "# choc dataset\n",
    "mushModels = Models(\n",
    "    decisionTree_clf=mushrooms_decisionTree,\n",
    "    randomForest_clf=mushrooms_randomForest,\n",
    "    svm_clf=mushrooms_SVC,\n",
    "    gradientBoost_clf=mushrooms_gradientBoost,\n",
    "    mlp_clf=mushrooms_MLP,\n",
    "    knn_clf=mushrooms_KNN\n",
    ");\n",
    "\n",
    "mushModels.set_X_train(choco_X_train);\n",
    "mushModels.set_X_test(choco_X_test);\n",
    "mushModels.set_y_train(choco_y_train);\n",
    "mushModels.set_y_test(choco_y_test);\n",
    "\n",
    "# Normalize \n",
    "mushModels.normalize();\n",
    "\n",
    "mushModels.getModels(\n",
    "    constants.descisionTree, # Single Decision Tree classifier\n",
    "    constants.randForest, # Random Forest classifier\n",
    "    constants.svm, # Support Vector Machine (SVM) classifier - SVC with RBF\n",
    "    constants.gradientBoost, # gradient boosting (GB) ensemble\n",
    "    constants.mlp, # multi-layer perceptron (MLP) classifier\n",
    "    constants.knn # k‐nearest neighbour (k-NN) classifier\n",
    ");\n",
    "print(mushModels);"
   ]
  },
  {
   "cell_type": "markdown",
   "metadata": {},
   "source": [
    "## Evaluating Performance Metrics from test set"
   ]
  },
  {
   "cell_type": "markdown",
   "metadata": {},
   "source": [
    "### Decision Tree classifier"
   ]
  },
  {
   "cell_type": "code",
   "execution_count": 11,
   "metadata": {},
   "outputs": [
    {
     "name": "stdout",
     "output_type": "stream",
     "text": [
      "Chocolate Dataset\n",
      "Total Number of Samples: 629\n",
      "Total Number of Labels: 629\n",
      "Total Number of Predictions made: 629\n",
      "Precision: 0.9869706840390879\n",
      "Recall: 0.9758454106280193\n"
     ]
    },
    {
     "data": {
      "text/html": [
       "<div>\n",
       "<style scoped>\n",
       "    .dataframe tbody tr th:only-of-type {\n",
       "        vertical-align: middle;\n",
       "    }\n",
       "\n",
       "    .dataframe tbody tr th {\n",
       "        vertical-align: top;\n",
       "    }\n",
       "\n",
       "    .dataframe thead th {\n",
       "        text-align: right;\n",
       "    }\n",
       "</style>\n",
       "<table border=\"1\" class=\"dataframe\">\n",
       "  <thead>\n",
       "    <tr style=\"text-align: right;\">\n",
       "      <th>Predicted</th>\n",
       "      <th>user</th>\n",
       "      <th>non-user</th>\n",
       "      <th>All</th>\n",
       "    </tr>\n",
       "    <tr>\n",
       "      <th>Actual</th>\n",
       "      <th></th>\n",
       "      <th></th>\n",
       "      <th></th>\n",
       "    </tr>\n",
       "  </thead>\n",
       "  <tbody>\n",
       "    <tr>\n",
       "      <th>user</th>\n",
       "      <td>606</td>\n",
       "      <td>15</td>\n",
       "      <td>621</td>\n",
       "    </tr>\n",
       "    <tr>\n",
       "      <th>non-user</th>\n",
       "      <td>8</td>\n",
       "      <td>0</td>\n",
       "      <td>8</td>\n",
       "    </tr>\n",
       "    <tr>\n",
       "      <th>All</th>\n",
       "      <td>614</td>\n",
       "      <td>15</td>\n",
       "      <td>629</td>\n",
       "    </tr>\n",
       "  </tbody>\n",
       "</table>\n",
       "</div>"
      ],
      "text/plain": [
       "Predicted  user  non-user  All\n",
       "Actual                        \n",
       "user        606        15  621\n",
       "non-user      8         0    8\n",
       "All         614        15  629"
      ]
     },
     "execution_count": 11,
     "metadata": {},
     "output_type": "execute_result"
    }
   ],
   "source": [
    "# choc dataset\n",
    "print(\"Chocolate Dataset\");\n",
    "\n",
    "choc_y_pred_decisionTree:np.ndarray = Models.predict(\n",
    "    model=chocoModels.decisionTree_clf, \n",
    "    X_test=chocoModels.X_test,\n",
    "    y_test=chocoModels.y_test\n",
    ");\n",
    "\n",
    "print(f\"Total Number of Samples: {len(choco_X_test)}\");\n",
    "print(f\"Total Number of Labels: {len(choco_y_test)}\");\n",
    "totalPred_choc_decisionTree = performance.evalPredictionNum(\n",
    "    y_pred=choc_y_pred_decisionTree,\n",
    "    y_test=chocoModels.y_test\n",
    ")\n",
    "print(f\"Total Number of Predictions made: {totalPred_choc_decisionTree}\");\n",
    "\n",
    "# Evaluations\n",
    "precision_choc_decisionTree = performance.evalPrecision(\n",
    "    y_pred=choc_y_pred_decisionTree, \n",
    "    y_test=chocoModels.y_test);\n",
    "print(f\"Precision: {precision_choc_decisionTree}\");\n",
    "\n",
    "recall_choc_decisionTree = performance.evalRecall(\n",
    "    y_pred=choc_y_pred_decisionTree, \n",
    "    y_test=chocoModels.y_test);\n",
    "print(f\"Recall: {recall_choc_decisionTree}\");\n",
    "\n",
    "\n",
    "# 'user' is a positive class\n",
    "confMtx = performance.printConfMtx(choc_y_pred_decisionTree, chocoModels.y_test);\n",
    "confMtx"
   ]
  },
  {
   "cell_type": "code",
   "execution_count": 12,
   "metadata": {},
   "outputs": [
    {
     "name": "stdout",
     "output_type": "stream",
     "text": [
      "Mushrooms Dataset\n",
      "Total Number of Samples: 629\n",
      "Total Number of Labels: 629\n",
      "Total Number of Predictions made: 629\n",
      "Precision: 0.9666666666666667\n",
      "Recall: 0.9666666666666667\n"
     ]
    },
    {
     "data": {
      "text/html": [
       "<div>\n",
       "<style scoped>\n",
       "    .dataframe tbody tr th:only-of-type {\n",
       "        vertical-align: middle;\n",
       "    }\n",
       "\n",
       "    .dataframe tbody tr th {\n",
       "        vertical-align: top;\n",
       "    }\n",
       "\n",
       "    .dataframe thead th {\n",
       "        text-align: right;\n",
       "    }\n",
       "</style>\n",
       "<table border=\"1\" class=\"dataframe\">\n",
       "  <thead>\n",
       "    <tr style=\"text-align: right;\">\n",
       "      <th>Predicted</th>\n",
       "      <th>user</th>\n",
       "      <th>non-user</th>\n",
       "      <th>All</th>\n",
       "    </tr>\n",
       "    <tr>\n",
       "      <th>Actual</th>\n",
       "      <th></th>\n",
       "      <th></th>\n",
       "      <th></th>\n",
       "    </tr>\n",
       "  </thead>\n",
       "  <tbody>\n",
       "    <tr>\n",
       "      <th>user</th>\n",
       "      <td>232</td>\n",
       "      <td>389</td>\n",
       "      <td>621</td>\n",
       "    </tr>\n",
       "    <tr>\n",
       "      <th>non-user</th>\n",
       "      <td>8</td>\n",
       "      <td>0</td>\n",
       "      <td>8</td>\n",
       "    </tr>\n",
       "    <tr>\n",
       "      <th>All</th>\n",
       "      <td>240</td>\n",
       "      <td>389</td>\n",
       "      <td>629</td>\n",
       "    </tr>\n",
       "  </tbody>\n",
       "</table>\n",
       "</div>"
      ],
      "text/plain": [
       "Predicted  user  non-user  All\n",
       "Actual                        \n",
       "user        232       389  621\n",
       "non-user      8         0    8\n",
       "All         240       389  629"
      ]
     },
     "execution_count": 12,
     "metadata": {},
     "output_type": "execute_result"
    }
   ],
   "source": [
    "# mushrooms dataset\n",
    "print(\"Mushrooms Dataset\");\n",
    "\n",
    "mushrooms_y_pred_decisionTree:np.ndarray = Models.predict(\n",
    "    model=mushModels.decisionTree_clf, \n",
    "    X_test=mushModels.X_test,\n",
    "    y_test=mushModels.y_test\n",
    ");\n",
    "\n",
    "print(f\"Total Number of Samples: {len(mushrooms_X_test)}\");\n",
    "print(f\"Total Number of Labels: {len(mushrooms_y_test)}\");\n",
    "totalPred_mushrooms_decisionTree = performance.evalPredictionNum(\n",
    "    y_pred=mushrooms_y_pred_decisionTree,\n",
    "    y_test=mushModels.y_test\n",
    ")\n",
    "print(f\"Total Number of Predictions made: {totalPred_mushrooms_decisionTree}\");\n",
    "\n",
    "# Evaluations\n",
    "precision_mushrooms_decisionTree = performance.evalPrecision(\n",
    "    y_pred=mushrooms_y_pred_decisionTree, \n",
    "    y_test=mushModels.y_test);\n",
    "print(f\"Precision: {precision_mushrooms_decisionTree}\");\n",
    "\n",
    "recall_mushrooms_decisionTree = performance.evalRecall(\n",
    "    y_pred=mushrooms_y_pred_decisionTree, \n",
    "    y_test=mushModels.y_test);\n",
    "print(f\"Recall: {precision_mushrooms_decisionTree}\");\n",
    "\n",
    "\n",
    "# 'user' is a positive class\n",
    "confMtx = performance.printConfMtx(mushrooms_y_pred_decisionTree, mushModels.y_test);\n",
    "confMtx"
   ]
  },
  {
   "cell_type": "markdown",
   "metadata": {},
   "source": [
    "### Random Forest classifier"
   ]
  },
  {
   "cell_type": "code",
   "execution_count": 13,
   "metadata": {},
   "outputs": [
    {
     "name": "stdout",
     "output_type": "stream",
     "text": [
      "Chocolate Dataset\n",
      "Total Number of Samples: 629\n",
      "Total Number of Labels: 629\n",
      "Total Number of Predictions made: 629\n",
      "Precision: 0.9872813990461049\n",
      "Recall: 1.0\n"
     ]
    },
    {
     "data": {
      "text/html": [
       "<div>\n",
       "<style scoped>\n",
       "    .dataframe tbody tr th:only-of-type {\n",
       "        vertical-align: middle;\n",
       "    }\n",
       "\n",
       "    .dataframe tbody tr th {\n",
       "        vertical-align: top;\n",
       "    }\n",
       "\n",
       "    .dataframe thead th {\n",
       "        text-align: right;\n",
       "    }\n",
       "</style>\n",
       "<table border=\"1\" class=\"dataframe\">\n",
       "  <thead>\n",
       "    <tr style=\"text-align: right;\">\n",
       "      <th>Predicted</th>\n",
       "      <th>user</th>\n",
       "      <th>non-user</th>\n",
       "      <th>All</th>\n",
       "    </tr>\n",
       "    <tr>\n",
       "      <th>Actual</th>\n",
       "      <th></th>\n",
       "      <th></th>\n",
       "      <th></th>\n",
       "    </tr>\n",
       "  </thead>\n",
       "  <tbody>\n",
       "    <tr>\n",
       "      <th>user</th>\n",
       "      <td>621.0</td>\n",
       "      <td>0.0</td>\n",
       "      <td>621.0</td>\n",
       "    </tr>\n",
       "    <tr>\n",
       "      <th>non-user</th>\n",
       "      <td>8.0</td>\n",
       "      <td>0.0</td>\n",
       "      <td>8.0</td>\n",
       "    </tr>\n",
       "    <tr>\n",
       "      <th>All</th>\n",
       "      <td>629.0</td>\n",
       "      <td>0.0</td>\n",
       "      <td>629.0</td>\n",
       "    </tr>\n",
       "  </tbody>\n",
       "</table>\n",
       "</div>"
      ],
      "text/plain": [
       "Predicted   user  non-user    All\n",
       "Actual                           \n",
       "user       621.0       0.0  621.0\n",
       "non-user     8.0       0.0    8.0\n",
       "All        629.0       0.0  629.0"
      ]
     },
     "execution_count": 13,
     "metadata": {},
     "output_type": "execute_result"
    }
   ],
   "source": [
    "# choc dataset\n",
    "print(\"Chocolate Dataset\");\n",
    "\n",
    "choc_y_pred_randomForst:np.ndarray = Models.predict(\n",
    "    model=chocoModels.randomForest_clf, \n",
    "    X_test=chocoModels.X_test,\n",
    "    y_test=chocoModels.y_test\n",
    ");\n",
    "\n",
    "print(f\"Total Number of Samples: {len(choco_X_test)}\");\n",
    "print(f\"Total Number of Labels: {len(choco_y_test)}\");\n",
    "totalPred_choc_randomForest = performance.evalPredictionNum(\n",
    "    y_pred=choc_y_pred_randomForst,\n",
    "    y_test=chocoModels.y_test\n",
    ")\n",
    "print(f\"Total Number of Predictions made: {totalPred_choc_randomForest}\");\n",
    "\n",
    "# Evaluations\n",
    "precision_choc_randomForest = performance.evalPrecision(\n",
    "    y_pred=choc_y_pred_randomForst, \n",
    "    y_test=chocoModels.y_test);\n",
    "print(f\"Precision: {precision_choc_randomForest}\");\n",
    "\n",
    "recall_choc_randomForest = performance.evalRecall(\n",
    "    y_pred=choc_y_pred_randomForst, \n",
    "    y_test=chocoModels.y_test);\n",
    "print(f\"Recall: {recall_choc_randomForest}\");\n",
    "\n",
    "\n",
    "# 'user' is a positive class\n",
    "confMtx = performance.printConfMtx(choc_y_pred_randomForst, chocoModels.y_test);\n",
    "confMtx"
   ]
  },
  {
   "cell_type": "code",
   "execution_count": 14,
   "metadata": {},
   "outputs": [
    {
     "name": "stdout",
     "output_type": "stream",
     "text": [
      "Mushrooms Dataset\n",
      "Total Number of Samples: 629\n",
      "Total Number of Labels: 629\n",
      "Total Number of Predictions made: 629\n",
      "Precision: 0.9828326180257511\n",
      "Recall: 0.3687600644122383\n"
     ]
    },
    {
     "data": {
      "text/html": [
       "<div>\n",
       "<style scoped>\n",
       "    .dataframe tbody tr th:only-of-type {\n",
       "        vertical-align: middle;\n",
       "    }\n",
       "\n",
       "    .dataframe tbody tr th {\n",
       "        vertical-align: top;\n",
       "    }\n",
       "\n",
       "    .dataframe thead th {\n",
       "        text-align: right;\n",
       "    }\n",
       "</style>\n",
       "<table border=\"1\" class=\"dataframe\">\n",
       "  <thead>\n",
       "    <tr style=\"text-align: right;\">\n",
       "      <th>Predicted</th>\n",
       "      <th>user</th>\n",
       "      <th>non-user</th>\n",
       "      <th>All</th>\n",
       "    </tr>\n",
       "    <tr>\n",
       "      <th>Actual</th>\n",
       "      <th></th>\n",
       "      <th></th>\n",
       "      <th></th>\n",
       "    </tr>\n",
       "  </thead>\n",
       "  <tbody>\n",
       "    <tr>\n",
       "      <th>user</th>\n",
       "      <td>229</td>\n",
       "      <td>392</td>\n",
       "      <td>621</td>\n",
       "    </tr>\n",
       "    <tr>\n",
       "      <th>non-user</th>\n",
       "      <td>4</td>\n",
       "      <td>4</td>\n",
       "      <td>8</td>\n",
       "    </tr>\n",
       "    <tr>\n",
       "      <th>All</th>\n",
       "      <td>233</td>\n",
       "      <td>396</td>\n",
       "      <td>629</td>\n",
       "    </tr>\n",
       "  </tbody>\n",
       "</table>\n",
       "</div>"
      ],
      "text/plain": [
       "Predicted  user  non-user  All\n",
       "Actual                        \n",
       "user        229       392  621\n",
       "non-user      4         4    8\n",
       "All         233       396  629"
      ]
     },
     "execution_count": 14,
     "metadata": {},
     "output_type": "execute_result"
    }
   ],
   "source": [
    "# mushrooms dataset\n",
    "print(\"Mushrooms Dataset\");\n",
    "\n",
    "mushrooms_y_pred_randomForst:np.ndarray = Models.predict(\n",
    "    model=mushModels.randomForest_clf, \n",
    "    X_test=mushModels.X_test,\n",
    "    y_test=mushModels.y_test\n",
    ");\n",
    "\n",
    "print(f\"Total Number of Samples: {len(mushrooms_X_test)}\");\n",
    "print(f\"Total Number of Labels: {len(mushrooms_y_test)}\");\n",
    "totalPred_mushrooms_randomForest = performance.evalPredictionNum(\n",
    "    y_pred=mushrooms_y_pred_randomForst,\n",
    "    y_test=mushModels.y_test\n",
    ")\n",
    "print(f\"Total Number of Predictions made: {totalPred_mushrooms_randomForest}\");\n",
    "\n",
    "# Evaluations\n",
    "precision_mushrooms_randomForest = performance.evalPrecision(\n",
    "    y_pred=mushrooms_y_pred_randomForst, \n",
    "    y_test=mushModels.y_test);\n",
    "print(f\"Precision: {precision_mushrooms_randomForest}\");\n",
    "\n",
    "recall_mushrooms_randomForest = performance.evalRecall(\n",
    "    y_pred=mushrooms_y_pred_randomForst, \n",
    "    y_test=mushModels.y_test);\n",
    "print(f\"Recall: {recall_mushrooms_randomForest}\");\n",
    "\n",
    "\n",
    "# 'user' is a positive class\n",
    "confMtx = performance.printConfMtx(mushrooms_y_pred_randomForst, mushModels.y_test);\n",
    "confMtx"
   ]
  },
  {
   "cell_type": "markdown",
   "metadata": {},
   "source": [
    "### SVM classifier"
   ]
  },
  {
   "cell_type": "code",
   "execution_count": 15,
   "metadata": {},
   "outputs": [
    {
     "name": "stdout",
     "output_type": "stream",
     "text": [
      "Chocolate Dataset\n",
      "Total Number of Samples: 629\n",
      "Total Number of Labels: 629\n",
      "Total Number of Predictions made: 629\n",
      "Precision: 0.9872813990461049\n",
      "Recall: 1.0\n"
     ]
    },
    {
     "data": {
      "text/html": [
       "<div>\n",
       "<style scoped>\n",
       "    .dataframe tbody tr th:only-of-type {\n",
       "        vertical-align: middle;\n",
       "    }\n",
       "\n",
       "    .dataframe tbody tr th {\n",
       "        vertical-align: top;\n",
       "    }\n",
       "\n",
       "    .dataframe thead th {\n",
       "        text-align: right;\n",
       "    }\n",
       "</style>\n",
       "<table border=\"1\" class=\"dataframe\">\n",
       "  <thead>\n",
       "    <tr style=\"text-align: right;\">\n",
       "      <th>Predicted</th>\n",
       "      <th>user</th>\n",
       "      <th>non-user</th>\n",
       "      <th>All</th>\n",
       "    </tr>\n",
       "    <tr>\n",
       "      <th>Actual</th>\n",
       "      <th></th>\n",
       "      <th></th>\n",
       "      <th></th>\n",
       "    </tr>\n",
       "  </thead>\n",
       "  <tbody>\n",
       "    <tr>\n",
       "      <th>user</th>\n",
       "      <td>621.0</td>\n",
       "      <td>0.0</td>\n",
       "      <td>621.0</td>\n",
       "    </tr>\n",
       "    <tr>\n",
       "      <th>non-user</th>\n",
       "      <td>8.0</td>\n",
       "      <td>0.0</td>\n",
       "      <td>8.0</td>\n",
       "    </tr>\n",
       "    <tr>\n",
       "      <th>All</th>\n",
       "      <td>629.0</td>\n",
       "      <td>0.0</td>\n",
       "      <td>629.0</td>\n",
       "    </tr>\n",
       "  </tbody>\n",
       "</table>\n",
       "</div>"
      ],
      "text/plain": [
       "Predicted   user  non-user    All\n",
       "Actual                           \n",
       "user       621.0       0.0  621.0\n",
       "non-user     8.0       0.0    8.0\n",
       "All        629.0       0.0  629.0"
      ]
     },
     "execution_count": 15,
     "metadata": {},
     "output_type": "execute_result"
    }
   ],
   "source": [
    "# choc dataset\n",
    "print(\"Chocolate Dataset\");\n",
    "\n",
    "choc_y_pred_svm:np.ndarray = Models.predict(\n",
    "    model=chocoModels.svm_clf, \n",
    "    X_test=chocoModels.X_test,\n",
    "    y_test=chocoModels.y_test\n",
    ");\n",
    "\n",
    "print(f\"Total Number of Samples: {len(choco_X_test)}\");\n",
    "print(f\"Total Number of Labels: {len(choco_y_test)}\");\n",
    "totalPred_choc_svm = performance.evalPredictionNum(\n",
    "    y_pred=choc_y_pred_svm,\n",
    "    y_test=chocoModels.y_test\n",
    ")\n",
    "print(f\"Total Number of Predictions made: {totalPred_choc_svm}\");\n",
    "\n",
    "# Evaluations\n",
    "precision_choc_svm = performance.evalPrecision(\n",
    "    y_pred=choc_y_pred_svm, \n",
    "    y_test=chocoModels.y_test);\n",
    "print(f\"Precision: {precision_choc_svm}\");\n",
    "\n",
    "recall_choc_svm = performance.evalRecall(\n",
    "    y_pred=choc_y_pred_svm, \n",
    "    y_test=chocoModels.y_test);\n",
    "print(f\"Recall: {recall_choc_svm}\");\n",
    "\n",
    "\n",
    "# 'user' is a positive class\n",
    "confMtx = performance.printConfMtx(choc_y_pred_svm, chocoModels.y_test);\n",
    "confMtx"
   ]
  },
  {
   "cell_type": "code",
   "execution_count": 16,
   "metadata": {},
   "outputs": [
    {
     "name": "stdout",
     "output_type": "stream",
     "text": [
      "Mushrooms Dataset\n",
      "Total Number of Samples: 629\n",
      "Total Number of Labels: 629\n",
      "Total Number of Predictions made: 629\n",
      "Precision: 0.9820627802690582\n",
      "Recall: 0.3526570048309179\n"
     ]
    },
    {
     "data": {
      "text/html": [
       "<div>\n",
       "<style scoped>\n",
       "    .dataframe tbody tr th:only-of-type {\n",
       "        vertical-align: middle;\n",
       "    }\n",
       "\n",
       "    .dataframe tbody tr th {\n",
       "        vertical-align: top;\n",
       "    }\n",
       "\n",
       "    .dataframe thead th {\n",
       "        text-align: right;\n",
       "    }\n",
       "</style>\n",
       "<table border=\"1\" class=\"dataframe\">\n",
       "  <thead>\n",
       "    <tr style=\"text-align: right;\">\n",
       "      <th>Predicted</th>\n",
       "      <th>user</th>\n",
       "      <th>non-user</th>\n",
       "      <th>All</th>\n",
       "    </tr>\n",
       "    <tr>\n",
       "      <th>Actual</th>\n",
       "      <th></th>\n",
       "      <th></th>\n",
       "      <th></th>\n",
       "    </tr>\n",
       "  </thead>\n",
       "  <tbody>\n",
       "    <tr>\n",
       "      <th>user</th>\n",
       "      <td>219</td>\n",
       "      <td>402</td>\n",
       "      <td>621</td>\n",
       "    </tr>\n",
       "    <tr>\n",
       "      <th>non-user</th>\n",
       "      <td>4</td>\n",
       "      <td>4</td>\n",
       "      <td>8</td>\n",
       "    </tr>\n",
       "    <tr>\n",
       "      <th>All</th>\n",
       "      <td>223</td>\n",
       "      <td>406</td>\n",
       "      <td>629</td>\n",
       "    </tr>\n",
       "  </tbody>\n",
       "</table>\n",
       "</div>"
      ],
      "text/plain": [
       "Predicted  user  non-user  All\n",
       "Actual                        \n",
       "user        219       402  621\n",
       "non-user      4         4    8\n",
       "All         223       406  629"
      ]
     },
     "execution_count": 16,
     "metadata": {},
     "output_type": "execute_result"
    }
   ],
   "source": [
    "# Mushrooms dataset\n",
    "print(\"Mushrooms Dataset\");\n",
    "\n",
    "mushrooms_y_pred_svm:np.ndarray = Models.predict(\n",
    "    model=mushModels.svm_clf, \n",
    "    X_test=mushModels.X_test,\n",
    "    y_test=mushModels.y_test\n",
    ");\n",
    "\n",
    "print(f\"Total Number of Samples: {len(mushrooms_X_test)}\");\n",
    "print(f\"Total Number of Labels: {len(mushrooms_y_test)}\");\n",
    "totalPred_mushrooms_svm = performance.evalPredictionNum(\n",
    "    y_pred=mushrooms_y_pred_svm,\n",
    "    y_test=mushModels.y_test\n",
    ")\n",
    "print(f\"Total Number of Predictions made: {totalPred_mushrooms_svm}\");\n",
    "\n",
    "# Evaluations\n",
    "precision_mushrooms_svm = performance.evalPrecision(\n",
    "    y_pred=mushrooms_y_pred_svm, \n",
    "    y_test=mushModels.y_test);\n",
    "print(f\"Precision: {precision_mushrooms_svm}\");\n",
    "\n",
    "recall_mushrooms_svm = performance.evalRecall(\n",
    "    y_pred = mushrooms_y_pred_svm, \n",
    "    y_test= mushModels.y_test);\n",
    "print(f\"Recall: {recall_mushrooms_svm}\");\n",
    "\n",
    "\n",
    "# 'user' is a positive class\n",
    "confMtx = performance.printConfMtx(mushrooms_y_pred_svm, mushModels.y_test);\n",
    "confMtx"
   ]
  },
  {
   "cell_type": "markdown",
   "metadata": {},
   "source": [
    "### Gradient Boosting classifier"
   ]
  },
  {
   "cell_type": "code",
   "execution_count": 17,
   "metadata": {},
   "outputs": [
    {
     "name": "stdout",
     "output_type": "stream",
     "text": [
      "Chocolate Dataset\n",
      "Total Number of Samples: 629\n",
      "Total Number of Labels: 629\n",
      "Total Number of Predictions made: 629\n",
      "Precision: 0.9872611464968153\n",
      "Recall: 0.998389694041868\n"
     ]
    },
    {
     "data": {
      "text/html": [
       "<div>\n",
       "<style scoped>\n",
       "    .dataframe tbody tr th:only-of-type {\n",
       "        vertical-align: middle;\n",
       "    }\n",
       "\n",
       "    .dataframe tbody tr th {\n",
       "        vertical-align: top;\n",
       "    }\n",
       "\n",
       "    .dataframe thead th {\n",
       "        text-align: right;\n",
       "    }\n",
       "</style>\n",
       "<table border=\"1\" class=\"dataframe\">\n",
       "  <thead>\n",
       "    <tr style=\"text-align: right;\">\n",
       "      <th>Predicted</th>\n",
       "      <th>user</th>\n",
       "      <th>non-user</th>\n",
       "      <th>All</th>\n",
       "    </tr>\n",
       "    <tr>\n",
       "      <th>Actual</th>\n",
       "      <th></th>\n",
       "      <th></th>\n",
       "      <th></th>\n",
       "    </tr>\n",
       "  </thead>\n",
       "  <tbody>\n",
       "    <tr>\n",
       "      <th>user</th>\n",
       "      <td>620</td>\n",
       "      <td>1</td>\n",
       "      <td>621</td>\n",
       "    </tr>\n",
       "    <tr>\n",
       "      <th>non-user</th>\n",
       "      <td>8</td>\n",
       "      <td>0</td>\n",
       "      <td>8</td>\n",
       "    </tr>\n",
       "    <tr>\n",
       "      <th>All</th>\n",
       "      <td>628</td>\n",
       "      <td>1</td>\n",
       "      <td>629</td>\n",
       "    </tr>\n",
       "  </tbody>\n",
       "</table>\n",
       "</div>"
      ],
      "text/plain": [
       "Predicted  user  non-user  All\n",
       "Actual                        \n",
       "user        620         1  621\n",
       "non-user      8         0    8\n",
       "All         628         1  629"
      ]
     },
     "execution_count": 17,
     "metadata": {},
     "output_type": "execute_result"
    }
   ],
   "source": [
    "# choc dataset\n",
    "print(\"Chocolate Dataset\");\n",
    "\n",
    "choc_y_pred_gradientBoost:np.ndarray = Models.predict(\n",
    "    model=chocoModels.gradientBoost_clf, \n",
    "    X_test=chocoModels.X_test,\n",
    "    y_test=chocoModels.y_test\n",
    ");\n",
    "\n",
    "print(f\"Total Number of Samples: {len(choco_X_test)}\");\n",
    "print(f\"Total Number of Labels: {len(choco_y_test)}\");\n",
    "totalPred_choc_gradientBoost = performance.evalPredictionNum(\n",
    "    y_pred=choc_y_pred_gradientBoost,\n",
    "    y_test=chocoModels.y_test\n",
    ")\n",
    "print(f\"Total Number of Predictions made: {totalPred_choc_gradientBoost}\");\n",
    "\n",
    "# Evaluations\n",
    "precision_choc_gradientBoost = performance.evalPrecision(\n",
    "    y_pred=choc_y_pred_gradientBoost, \n",
    "    y_test=chocoModels.y_test);\n",
    "print(f\"Precision: {precision_choc_gradientBoost}\");\n",
    "\n",
    "recall_choc_gradientBoost = performance.evalRecall(\n",
    "    y_pred=choc_y_pred_gradientBoost, \n",
    "    y_test=chocoModels.y_test);\n",
    "print(f\"Recall: {recall_choc_gradientBoost}\");\n",
    "\n",
    "\n",
    "# 'user' is a positive class\n",
    "confMtx = performance.printConfMtx(choc_y_pred_gradientBoost, chocoModels.y_test);\n",
    "confMtx"
   ]
  },
  {
   "cell_type": "code",
   "execution_count": 18,
   "metadata": {},
   "outputs": [
    {
     "name": "stdout",
     "output_type": "stream",
     "text": [
      "Mushrooms Dataset\n",
      "Total Number of Samples: 629\n",
      "Total Number of Labels: 629\n",
      "Total Number of Predictions made: 629\n",
      "Precision: 0.9766355140186916\n",
      "Recall: 0.3365539452495974\n"
     ]
    },
    {
     "data": {
      "text/html": [
       "<div>\n",
       "<style scoped>\n",
       "    .dataframe tbody tr th:only-of-type {\n",
       "        vertical-align: middle;\n",
       "    }\n",
       "\n",
       "    .dataframe tbody tr th {\n",
       "        vertical-align: top;\n",
       "    }\n",
       "\n",
       "    .dataframe thead th {\n",
       "        text-align: right;\n",
       "    }\n",
       "</style>\n",
       "<table border=\"1\" class=\"dataframe\">\n",
       "  <thead>\n",
       "    <tr style=\"text-align: right;\">\n",
       "      <th>Predicted</th>\n",
       "      <th>user</th>\n",
       "      <th>non-user</th>\n",
       "      <th>All</th>\n",
       "    </tr>\n",
       "    <tr>\n",
       "      <th>Actual</th>\n",
       "      <th></th>\n",
       "      <th></th>\n",
       "      <th></th>\n",
       "    </tr>\n",
       "  </thead>\n",
       "  <tbody>\n",
       "    <tr>\n",
       "      <th>user</th>\n",
       "      <td>209</td>\n",
       "      <td>412</td>\n",
       "      <td>621</td>\n",
       "    </tr>\n",
       "    <tr>\n",
       "      <th>non-user</th>\n",
       "      <td>5</td>\n",
       "      <td>3</td>\n",
       "      <td>8</td>\n",
       "    </tr>\n",
       "    <tr>\n",
       "      <th>All</th>\n",
       "      <td>214</td>\n",
       "      <td>415</td>\n",
       "      <td>629</td>\n",
       "    </tr>\n",
       "  </tbody>\n",
       "</table>\n",
       "</div>"
      ],
      "text/plain": [
       "Predicted  user  non-user  All\n",
       "Actual                        \n",
       "user        209       412  621\n",
       "non-user      5         3    8\n",
       "All         214       415  629"
      ]
     },
     "execution_count": 18,
     "metadata": {},
     "output_type": "execute_result"
    }
   ],
   "source": [
    "# Mushrooms dataset\n",
    "print(\"Mushrooms Dataset\");\n",
    "\n",
    "mushrooms_y_pred_gradientBoost:np.ndarray = Models.predict(\n",
    "    model=mushModels.gradientBoost_clf, \n",
    "    X_test=mushModels.X_test,\n",
    "    y_test=mushModels.y_test\n",
    ");\n",
    "\n",
    "print(f\"Total Number of Samples: {len(mushrooms_X_test)}\");\n",
    "print(f\"Total Number of Labels: {len(mushrooms_y_test)}\");\n",
    "totalPred_mushrooms_gradientBoost = performance.evalPredictionNum(\n",
    "    y_pred=mushrooms_y_pred_gradientBoost,\n",
    "    y_test=mushModels.y_test\n",
    ")\n",
    "print(f\"Total Number of Predictions made: {totalPred_mushrooms_gradientBoost}\");\n",
    "\n",
    "# Evaluations\n",
    "precision_mushrooms_gradientBoost = performance.evalPrecision(\n",
    "    y_pred=mushrooms_y_pred_gradientBoost, \n",
    "    y_test=mushModels.y_test);\n",
    "print(f\"Precision: {precision_mushrooms_gradientBoost}\");\n",
    "\n",
    "recall_mushrooms_gradientBoost = performance.evalRecall(\n",
    "    y_pred = mushrooms_y_pred_gradientBoost, \n",
    "    y_test= mushModels.y_test);\n",
    "print(f\"Recall: {recall_mushrooms_gradientBoost}\");\n",
    "\n",
    "\n",
    "# 'user' is a positive class\n",
    "confMtx = performance.printConfMtx(mushrooms_y_pred_gradientBoost, mushModels.y_test);\n",
    "confMtx"
   ]
  },
  {
   "cell_type": "markdown",
   "metadata": {},
   "source": [
    "### MLP classifier"
   ]
  },
  {
   "cell_type": "code",
   "execution_count": 19,
   "metadata": {},
   "outputs": [
    {
     "name": "stdout",
     "output_type": "stream",
     "text": [
      "Chocolate Dataset\n",
      "Total Number of Samples: 629\n",
      "Total Number of Labels: 629\n",
      "Total Number of Predictions made: 629\n",
      "Precision: 0.987220447284345\n",
      "Recall: 0.9951690821256038\n"
     ]
    },
    {
     "data": {
      "text/html": [
       "<div>\n",
       "<style scoped>\n",
       "    .dataframe tbody tr th:only-of-type {\n",
       "        vertical-align: middle;\n",
       "    }\n",
       "\n",
       "    .dataframe tbody tr th {\n",
       "        vertical-align: top;\n",
       "    }\n",
       "\n",
       "    .dataframe thead th {\n",
       "        text-align: right;\n",
       "    }\n",
       "</style>\n",
       "<table border=\"1\" class=\"dataframe\">\n",
       "  <thead>\n",
       "    <tr style=\"text-align: right;\">\n",
       "      <th>Predicted</th>\n",
       "      <th>user</th>\n",
       "      <th>non-user</th>\n",
       "      <th>All</th>\n",
       "    </tr>\n",
       "    <tr>\n",
       "      <th>Actual</th>\n",
       "      <th></th>\n",
       "      <th></th>\n",
       "      <th></th>\n",
       "    </tr>\n",
       "  </thead>\n",
       "  <tbody>\n",
       "    <tr>\n",
       "      <th>user</th>\n",
       "      <td>618</td>\n",
       "      <td>3</td>\n",
       "      <td>621</td>\n",
       "    </tr>\n",
       "    <tr>\n",
       "      <th>non-user</th>\n",
       "      <td>8</td>\n",
       "      <td>0</td>\n",
       "      <td>8</td>\n",
       "    </tr>\n",
       "    <tr>\n",
       "      <th>All</th>\n",
       "      <td>626</td>\n",
       "      <td>3</td>\n",
       "      <td>629</td>\n",
       "    </tr>\n",
       "  </tbody>\n",
       "</table>\n",
       "</div>"
      ],
      "text/plain": [
       "Predicted  user  non-user  All\n",
       "Actual                        \n",
       "user        618         3  621\n",
       "non-user      8         0    8\n",
       "All         626         3  629"
      ]
     },
     "execution_count": 19,
     "metadata": {},
     "output_type": "execute_result"
    }
   ],
   "source": [
    "# choc dataset\n",
    "print(\"Chocolate Dataset\");\n",
    "\n",
    "choc_y_pred_mlp:np.ndarray = Models.predict(\n",
    "    model=chocoModels.mlp_clf, \n",
    "    X_test=chocoModels.X_test,\n",
    "    y_test=chocoModels.y_test\n",
    ");\n",
    "\n",
    "print(f\"Total Number of Samples: {len(choco_X_test)}\");\n",
    "print(f\"Total Number of Labels: {len(choco_y_test)}\");\n",
    "totalPred_choc_mlp = performance.evalPredictionNum(\n",
    "    y_pred=choc_y_pred_mlp,\n",
    "    y_test=chocoModels.y_test\n",
    ")\n",
    "print(f\"Total Number of Predictions made: {totalPred_choc_mlp}\");\n",
    "\n",
    "# Evaluations\n",
    "precision_choc_mlp = performance.evalPrecision(\n",
    "    y_pred=choc_y_pred_mlp, \n",
    "    y_test=chocoModels.y_test);\n",
    "print(f\"Precision: {precision_choc_mlp}\");\n",
    "\n",
    "recall_choc_mlp = performance.evalRecall(\n",
    "    y_pred=choc_y_pred_mlp, \n",
    "    y_test=chocoModels.y_test);\n",
    "print(f\"Recall: {recall_choc_mlp}\");\n",
    "\n",
    "\n",
    "# 'user' is a positive class\n",
    "confMtx = performance.printConfMtx(choc_y_pred_mlp, chocoModels.y_test);\n",
    "confMtx"
   ]
  },
  {
   "cell_type": "code",
   "execution_count": 20,
   "metadata": {},
   "outputs": [
    {
     "name": "stdout",
     "output_type": "stream",
     "text": [
      "Mushrooms Dataset\n",
      "Total Number of Samples: 629\n",
      "Total Number of Labels: 629\n",
      "Total Number of Predictions made: 629\n",
      "Precision: 0.9772727272727273\n",
      "Recall: 0.3462157809983897\n"
     ]
    },
    {
     "data": {
      "text/html": [
       "<div>\n",
       "<style scoped>\n",
       "    .dataframe tbody tr th:only-of-type {\n",
       "        vertical-align: middle;\n",
       "    }\n",
       "\n",
       "    .dataframe tbody tr th {\n",
       "        vertical-align: top;\n",
       "    }\n",
       "\n",
       "    .dataframe thead th {\n",
       "        text-align: right;\n",
       "    }\n",
       "</style>\n",
       "<table border=\"1\" class=\"dataframe\">\n",
       "  <thead>\n",
       "    <tr style=\"text-align: right;\">\n",
       "      <th>Predicted</th>\n",
       "      <th>user</th>\n",
       "      <th>non-user</th>\n",
       "      <th>All</th>\n",
       "    </tr>\n",
       "    <tr>\n",
       "      <th>Actual</th>\n",
       "      <th></th>\n",
       "      <th></th>\n",
       "      <th></th>\n",
       "    </tr>\n",
       "  </thead>\n",
       "  <tbody>\n",
       "    <tr>\n",
       "      <th>user</th>\n",
       "      <td>215</td>\n",
       "      <td>406</td>\n",
       "      <td>621</td>\n",
       "    </tr>\n",
       "    <tr>\n",
       "      <th>non-user</th>\n",
       "      <td>5</td>\n",
       "      <td>3</td>\n",
       "      <td>8</td>\n",
       "    </tr>\n",
       "    <tr>\n",
       "      <th>All</th>\n",
       "      <td>220</td>\n",
       "      <td>409</td>\n",
       "      <td>629</td>\n",
       "    </tr>\n",
       "  </tbody>\n",
       "</table>\n",
       "</div>"
      ],
      "text/plain": [
       "Predicted  user  non-user  All\n",
       "Actual                        \n",
       "user        215       406  621\n",
       "non-user      5         3    8\n",
       "All         220       409  629"
      ]
     },
     "execution_count": 20,
     "metadata": {},
     "output_type": "execute_result"
    }
   ],
   "source": [
    "# Mushrooms dataset\n",
    "print(\"Mushrooms Dataset\");\n",
    "\n",
    "mushrooms_y_pred_mlp:np.ndarray = Models.predict(\n",
    "    model=mushModels.mlp_clf, \n",
    "    X_test=mushModels.X_test,\n",
    "    y_test=mushModels.y_test\n",
    ");\n",
    "\n",
    "print(f\"Total Number of Samples: {len(mushrooms_X_test)}\");\n",
    "print(f\"Total Number of Labels: {len(mushrooms_y_test)}\");\n",
    "totalPred_mushrooms_mlp = performance.evalPredictionNum(\n",
    "    y_pred=mushrooms_y_pred_mlp,\n",
    "    y_test=mushModels.y_test\n",
    ")\n",
    "print(f\"Total Number of Predictions made: {totalPred_mushrooms_mlp}\");\n",
    "\n",
    "# Evaluations\n",
    "precision_mushrooms_mlp = performance.evalPrecision(\n",
    "    y_pred=mushrooms_y_pred_mlp, \n",
    "    y_test=mushModels.y_test);\n",
    "print(f\"Precision: {precision_mushrooms_mlp}\");\n",
    "\n",
    "recall_mushrooms_mlp = performance.evalRecall(\n",
    "    y_pred = mushrooms_y_pred_mlp, \n",
    "    y_test= mushModels.y_test);\n",
    "print(f\"Recall: {recall_mushrooms_mlp}\");\n",
    "\n",
    "\n",
    "# 'user' is a positive class\n",
    "confMtx = performance.printConfMtx(mushrooms_y_pred_mlp, mushModels.y_test);\n",
    "confMtx"
   ]
  },
  {
   "cell_type": "markdown",
   "metadata": {},
   "source": [
    "### KNN classifier"
   ]
  },
  {
   "cell_type": "code",
   "execution_count": 21,
   "metadata": {},
   "outputs": [
    {
     "name": "stdout",
     "output_type": "stream",
     "text": [
      "Chocolate Dataset\n",
      "Total Number of Samples: 629\n",
      "Total Number of Labels: 629\n",
      "Total Number of Predictions made: 629\n",
      "Precision: 0.9872611464968153\n",
      "Recall: 0.998389694041868\n"
     ]
    },
    {
     "data": {
      "text/html": [
       "<div>\n",
       "<style scoped>\n",
       "    .dataframe tbody tr th:only-of-type {\n",
       "        vertical-align: middle;\n",
       "    }\n",
       "\n",
       "    .dataframe tbody tr th {\n",
       "        vertical-align: top;\n",
       "    }\n",
       "\n",
       "    .dataframe thead th {\n",
       "        text-align: right;\n",
       "    }\n",
       "</style>\n",
       "<table border=\"1\" class=\"dataframe\">\n",
       "  <thead>\n",
       "    <tr style=\"text-align: right;\">\n",
       "      <th>Predicted</th>\n",
       "      <th>user</th>\n",
       "      <th>non-user</th>\n",
       "      <th>All</th>\n",
       "    </tr>\n",
       "    <tr>\n",
       "      <th>Actual</th>\n",
       "      <th></th>\n",
       "      <th></th>\n",
       "      <th></th>\n",
       "    </tr>\n",
       "  </thead>\n",
       "  <tbody>\n",
       "    <tr>\n",
       "      <th>user</th>\n",
       "      <td>620</td>\n",
       "      <td>1</td>\n",
       "      <td>621</td>\n",
       "    </tr>\n",
       "    <tr>\n",
       "      <th>non-user</th>\n",
       "      <td>8</td>\n",
       "      <td>0</td>\n",
       "      <td>8</td>\n",
       "    </tr>\n",
       "    <tr>\n",
       "      <th>All</th>\n",
       "      <td>628</td>\n",
       "      <td>1</td>\n",
       "      <td>629</td>\n",
       "    </tr>\n",
       "  </tbody>\n",
       "</table>\n",
       "</div>"
      ],
      "text/plain": [
       "Predicted  user  non-user  All\n",
       "Actual                        \n",
       "user        620         1  621\n",
       "non-user      8         0    8\n",
       "All         628         1  629"
      ]
     },
     "execution_count": 21,
     "metadata": {},
     "output_type": "execute_result"
    }
   ],
   "source": [
    "# choc dataset\n",
    "print(\"Chocolate Dataset\");\n",
    "\n",
    "choc_y_pred_knn:np.ndarray = Models.predict(\n",
    "    model=chocoModels.knn_clf, \n",
    "    X_test=chocoModels.X_test,\n",
    "    y_test=chocoModels.y_test\n",
    ");\n",
    "\n",
    "print(f\"Total Number of Samples: {len(choco_X_test)}\");\n",
    "print(f\"Total Number of Labels: {len(choco_y_test)}\");\n",
    "totalPred_choc_knn = performance.evalPredictionNum(\n",
    "    y_pred=choc_y_pred_knn,\n",
    "    y_test=chocoModels.y_test\n",
    ")\n",
    "print(f\"Total Number of Predictions made: {totalPred_choc_knn}\");\n",
    "\n",
    "# Evaluations\n",
    "precision_choc_knn = performance.evalPrecision(\n",
    "    y_pred=choc_y_pred_knn, \n",
    "    y_test=chocoModels.y_test);\n",
    "print(f\"Precision: {precision_choc_knn}\");\n",
    "\n",
    "recall_choc_knn = performance.evalRecall(\n",
    "    y_pred=choc_y_pred_knn, \n",
    "    y_test=chocoModels.y_test);\n",
    "print(f\"Recall: {recall_choc_knn}\");\n",
    "\n",
    "\n",
    "# 'user' is a positive class\n",
    "confMtx = performance.printConfMtx(choc_y_pred_knn, chocoModels.y_test);\n",
    "confMtx"
   ]
  },
  {
   "cell_type": "code",
   "execution_count": 22,
   "metadata": {},
   "outputs": [
    {
     "name": "stdout",
     "output_type": "stream",
     "text": [
      "Mushrooms Dataset\n",
      "Total Number of Samples: 629\n",
      "Total Number of Labels: 629\n",
      "Total Number of Predictions made: 629\n",
      "Precision: 0.9798387096774194\n",
      "Recall: 0.391304347826087\n"
     ]
    },
    {
     "data": {
      "text/html": [
       "<div>\n",
       "<style scoped>\n",
       "    .dataframe tbody tr th:only-of-type {\n",
       "        vertical-align: middle;\n",
       "    }\n",
       "\n",
       "    .dataframe tbody tr th {\n",
       "        vertical-align: top;\n",
       "    }\n",
       "\n",
       "    .dataframe thead th {\n",
       "        text-align: right;\n",
       "    }\n",
       "</style>\n",
       "<table border=\"1\" class=\"dataframe\">\n",
       "  <thead>\n",
       "    <tr style=\"text-align: right;\">\n",
       "      <th>Predicted</th>\n",
       "      <th>user</th>\n",
       "      <th>non-user</th>\n",
       "      <th>All</th>\n",
       "    </tr>\n",
       "    <tr>\n",
       "      <th>Actual</th>\n",
       "      <th></th>\n",
       "      <th></th>\n",
       "      <th></th>\n",
       "    </tr>\n",
       "  </thead>\n",
       "  <tbody>\n",
       "    <tr>\n",
       "      <th>user</th>\n",
       "      <td>243</td>\n",
       "      <td>378</td>\n",
       "      <td>621</td>\n",
       "    </tr>\n",
       "    <tr>\n",
       "      <th>non-user</th>\n",
       "      <td>5</td>\n",
       "      <td>3</td>\n",
       "      <td>8</td>\n",
       "    </tr>\n",
       "    <tr>\n",
       "      <th>All</th>\n",
       "      <td>248</td>\n",
       "      <td>381</td>\n",
       "      <td>629</td>\n",
       "    </tr>\n",
       "  </tbody>\n",
       "</table>\n",
       "</div>"
      ],
      "text/plain": [
       "Predicted  user  non-user  All\n",
       "Actual                        \n",
       "user        243       378  621\n",
       "non-user      5         3    8\n",
       "All         248       381  629"
      ]
     },
     "execution_count": 22,
     "metadata": {},
     "output_type": "execute_result"
    }
   ],
   "source": [
    "# Mushrooms dataset\n",
    "print(\"Mushrooms Dataset\");\n",
    "\n",
    "mushrooms_y_pred_knn:np.ndarray = Models.predict(\n",
    "    model=mushModels.knn_clf, \n",
    "    X_test=mushModels.X_test,\n",
    "    y_test=mushModels.y_test\n",
    ");\n",
    "\n",
    "print(f\"Total Number of Samples: {len(mushrooms_X_test)}\");\n",
    "print(f\"Total Number of Labels: {len(mushrooms_y_test)}\");\n",
    "totalPred_mushrooms_knn = performance.evalPredictionNum(\n",
    "    y_pred=mushrooms_y_pred_knn,\n",
    "    y_test=mushModels.y_test\n",
    ")\n",
    "print(f\"Total Number of Predictions made: {totalPred_mushrooms_knn}\");\n",
    "\n",
    "# Evaluations\n",
    "precision_mushrooms_knn = performance.evalPrecision(\n",
    "    y_pred=mushrooms_y_pred_knn, \n",
    "    y_test=mushModels.y_test);\n",
    "print(f\"Precision: {precision_mushrooms_knn}\");\n",
    "\n",
    "recall_mushrooms_knn = performance.evalRecall(\n",
    "    y_pred = mushrooms_y_pred_knn, \n",
    "    y_test= mushModels.y_test);\n",
    "print(f\"Recall: {recall_mushrooms_knn}\");\n",
    "\n",
    "\n",
    "# 'user' is a positive class\n",
    "confMtx = performance.printConfMtx(mushrooms_y_pred_knn, mushModels.y_test);\n",
    "confMtx"
   ]
  },
  {
   "cell_type": "code",
   "execution_count": 23,
   "metadata": {},
   "outputs": [
    {
     "data": {
      "image/png": "[encoded data removed]",
      "text/plain": [
       "<Figure size 640x480 with 1 Axes>"
      ]
     },
     "metadata": {},
     "output_type": "display_data"
    }
   ],
   "source": [
    "fp = performance.evalFP(\n",
    "    y_pred=mushrooms_y_pred_knn, \n",
    "    y_test=mushModels.y_test, \n",
    "    trueLabel=1);\n",
    "tn = performance.evalTN(\n",
    "    y_pred=mushrooms_y_pred_knn, \n",
    "    y_test=mushModels.y_test, \n",
    "    trueClass=1);\n",
    "tp = performance.evalTP(\n",
    "    y_pred=mushrooms_y_pred_knn, \n",
    "    y_test=mushModels.y_test, \n",
    "    trueLabel=1);\n",
    "fn = performance.evalFN(\n",
    "    y_pred=mushrooms_y_pred_knn, \n",
    "    y_test=mushModels.y_test, \n",
    "    trueLabel=1);\n",
    "actualNeg = fp + tn;\n",
    "actualPos = tp + fn;\n",
    "fpr = fp / actualNeg;\n",
    "tpr = tp / actualPos;\n",
    "actualNeg = performance.evalFP\n",
    "performance.plotROC(\n",
    "    fpr=fpr,\n",
    "    tpr=tpr,\n",
    "    y_test=mushModels.y_test,\n",
    "    y_prob_scores=mushModels.knn_clf.predict_proba(mushModels.X_test)[:, 1]\n",
    ")"
   ]
  }
 ],
 "metadata": {
  "kernelspec": {
   "display_name": "Python 3",
   "language": "python",
   "name": "python3"
  },
  "language_info": {
   "codemirror_mode": {
    "name": "ipython",
    "version": 3
   },
   "file_extension": ".py",
   "mimetype": "text/x-python",
   "name": "python",
   "nbconvert_exporter": "python",
   "pygments_lexer": "ipython3",
   "version": "3.10.7"
  }
 },
 "nbformat": 4,
 "nbformat_minor": 2
}
