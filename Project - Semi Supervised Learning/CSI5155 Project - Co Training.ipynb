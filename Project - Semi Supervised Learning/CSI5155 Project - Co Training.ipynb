{
 "cells": [
  {
   "cell_type": "markdown",
   "metadata": {},
   "source": [
    "# Semi Supervised Learning - Co-Training Model"
   ]
  },
  {
   "cell_type": "markdown",
   "metadata": {},
   "source": [
    "This notebook is to perform semi-supervised learning by using the co-training algorithm from the baseline model. The baseline model is developed in `CSI5155 Project - baseline.ipynb`. We only consider the training set in this notebook."
   ]
  },
  {
   "cell_type": "markdown",
   "metadata": {},
   "source": [
    "## Import Necessary Packages"
   ]
  },
  {
   "cell_type": "code",
   "execution_count": 1,
   "metadata": {},
   "outputs": [],
   "source": [
    "import numpy as np;\n",
    "import os;\n",
    "import sys;\n",
    "import joblib;\n",
    "import random;\n",
    "from sklearn.model_selection import train_test_split;\n",
    "import json;\n",
    "import pandas as pd;\n",
    "import matplotlib.pyplot as plt;\n",
    "# importing custom modules\n",
    "sys.path.append(\"../Assignment 1 - Model Comparison/\");\n",
    "from fileOrganizer import unpack;\n",
    "from performance import evalAccuracy, evalPrecision, evalRecall, evalF1Score, printConfMtx, plotROC;\n",
    "import constants;\n",
    "from model.cotraining import random_split_features, pca_based_split, correlation_based_split, importance_based_split, evaluate_feature_split_methods, plot_confusion_matrix, plot_roc_curve;"
   ]
  },
  {
   "cell_type": "markdown",
   "metadata": {},
   "source": [
    "## Load the Data"
   ]
  },
  {
   "cell_type": "markdown",
   "metadata": {},
   "source": [
    "Original Dataset (without labelling/unlabelling, but normalized)"
   ]
  },
  {
   "cell_type": "code",
   "execution_count": 2,
   "metadata": {},
   "outputs": [
    {
     "name": "stdout",
     "output_type": "stream",
     "text": [
      "Number of Normalized Samples in Training Set:  1256\n",
      "Number of Features in the Normalized Training Set:  12\n",
      "Value range of the original Training Set:  -4.827248760778992 13.457018899436779\n"
     ]
    }
   ],
   "source": [
    "mush_X_train_norm = joblib.load(os.path.join(\n",
    "    os.pardir,\n",
    "    constants.ASM1_DIR,\n",
    "    constants.MUSH_DIR,\n",
    "    constants.TRAIN_DIR,\n",
    "    constants.X_TRAIN_NORMALIZED_FILENAME\n",
    "));\n",
    "print(\"Number of Normalized Samples in Training Set: \", len(mush_X_train_norm));\n",
    "print(\"Number of Features in the Normalized Training Set: \", len(mush_X_train_norm[random.randint(0, len(mush_X_train_norm)-1)]));\n",
    "print(\"Value range of the original Training Set: \", np.min(mush_X_train_norm), np.max(mush_X_train_norm));"
   ]
  },
  {
   "cell_type": "code",
   "execution_count": 3,
   "metadata": {},
   "outputs": [
    {
     "name": "stdout",
     "output_type": "stream",
     "text": [
      "Number of Samples in Training Set:  1256\n",
      "Unique Labels in Training Set:  [0 1]\n"
     ]
    }
   ],
   "source": [
    "mush_y_train_norm = joblib.load(os.path.join(\n",
    "    os.pardir,\n",
    "    constants.ASM1_DIR,\n",
    "    constants.MUSH_DIR,\n",
    "    constants.TRAIN_DIR,\n",
    "    constants.Y_TRAIN_NORMALIZED_FILENAME\n",
    "));\n",
    "print(\"Number of Samples in Training Set: \", len(mush_y_train_norm));\n",
    "print(\"Unique Labels in Training Set: \", np.unique(mush_y_train_norm));"
   ]
  },
  {
   "cell_type": "code",
   "execution_count": 4,
   "metadata": {},
   "outputs": [
    {
     "name": "stdout",
     "output_type": "stream",
     "text": [
      "Number of Normalized Samples in Testing Set:  629\n",
      "Number of Features in the Normalized Testing Set:  12\n",
      "Value range of the Normalized Testing Set:  -4.827248760778992 13.457018899436779\n"
     ]
    }
   ],
   "source": [
    "mush_X_test_norm = joblib.load(os.path.join(\n",
    "    os.pardir,\n",
    "    constants.ASM1_DIR,\n",
    "    constants.MUSH_DIR,\n",
    "    constants.TEST_DIR,\n",
    "    constants.X_TEST_NORMALIZED_FILENAME\n",
    "));\n",
    "print(\"Number of Normalized Samples in Testing Set: \", len(mush_X_test_norm));\n",
    "print(\"Number of Features in the Normalized Testing Set: \", len(mush_X_test_norm[random.randint(0, len(mush_X_test_norm)-1)]));\n",
    "print(\"Value range of the Normalized Testing Set: \", np.min(mush_X_test_norm), np.max(mush_X_test_norm));"
   ]
  },
  {
   "cell_type": "code",
   "execution_count": 5,
   "metadata": {},
   "outputs": [
    {
     "name": "stdout",
     "output_type": "stream",
     "text": [
      "Number of Samples in Testing Set:  629\n",
      "Unique Labels in Testing Set:  [0 1]\n"
     ]
    }
   ],
   "source": [
    "mush_y_test_norm = joblib.load(os.path.join(\n",
    "    os.pardir,\n",
    "    constants.ASM1_DIR,\n",
    "    constants.MUSH_DIR,\n",
    "    constants.TEST_DIR,\n",
    "    constants.Y_TEST_NORMALIZED_FILENAME\n",
    "));\n",
    "print(\"Number of Samples in Testing Set: \", len(mush_y_test_norm));\n",
    "print(\"Unique Labels in Testing Set: \", np.unique(mush_y_test_norm));"
   ]
  },
  {
   "cell_type": "markdown",
   "metadata": {},
   "source": [
    "Labelled Data"
   ]
  },
  {
   "cell_type": "code",
   "execution_count": 6,
   "metadata": {},
   "outputs": [
    {
     "name": "stdout",
     "output_type": "stream",
     "text": [
      "Number of Labelled Samples:  251\n",
      "Number of Features in the Labelled Training Set:  12\n",
      "Value range of the Labelled Training Set:  -4.827248760778992 3.262658784576777\n"
     ]
    }
   ],
   "source": [
    "X_train_labelled = unpack(os.path.join(\n",
    "    constants.TRAIN_DIR,\n",
    "    constants.X_TRAIN_LABELLED_FILENAME\n",
    "));\n",
    "print(\"Number of Labelled Samples: \", len(X_train_labelled));\n",
    "print(\"Number of Features in the Labelled Training Set: \", len(X_train_labelled[random.randint(0, len(X_train_labelled)-1)]));\n",
    "print(\"Value range of the Labelled Training Set: \", np.min(X_train_labelled), np.max(X_train_labelled));"
   ]
  },
  {
   "cell_type": "code",
   "execution_count": 7,
   "metadata": {},
   "outputs": [
    {
     "name": "stdout",
     "output_type": "stream",
     "text": [
      "Number of Labelled Labels:  251\n",
      "Unique Labels:  [0 1]\n"
     ]
    }
   ],
   "source": [
    "y_train_labelled = unpack(os.path.join(\n",
    "    constants.TRAIN_DIR,\n",
    "    constants.Y_TRAIN_LABELLED_FILENAME\n",
    "));\n",
    "print(\"Number of Labelled Labels: \", len(y_train_labelled));\n",
    "print(\"Unique Labels: \", np.unique(y_train_labelled));"
   ]
  },
  {
   "cell_type": "markdown",
   "metadata": {},
   "source": [
    "Unlabelled Data"
   ]
  },
  {
   "cell_type": "code",
   "execution_count": 8,
   "metadata": {},
   "outputs": [
    {
     "name": "stdout",
     "output_type": "stream",
     "text": [
      "Number of Unlabelled Samples:  1005\n",
      "Number of Features in the Unlabelled Training Set:  12\n",
      "Value range of the Unlabelled Training Set:  -4.827248760778992 13.457018899436779\n"
     ]
    }
   ],
   "source": [
    "X_train_unlabelled = unpack(os.path.join(\n",
    "    constants.TRAIN_DIR,\n",
    "    constants.X_TRAIN_UNLABELLED_FILENAME\n",
    "));\n",
    "print(\"Number of Unlabelled Samples: \", len(X_train_unlabelled));\n",
    "print(\"Number of Features in the Unlabelled Training Set: \", len(X_train_unlabelled[random.randint(0, len(X_train_unlabelled)-1)]));\n",
    "print(\"Value range of the Unlabelled Training Set: \", np.min(X_train_unlabelled), np.max(X_train_unlabelled));"
   ]
  },
  {
   "cell_type": "code",
   "execution_count": 9,
   "metadata": {},
   "outputs": [
    {
     "name": "stdout",
     "output_type": "stream",
     "text": [
      "Number of Unlabelled Labels:  1005\n",
      "Unique Labels:  [0 1]\n"
     ]
    }
   ],
   "source": [
    "# This is the true labels for the supposedly unlabelled data\n",
    "# for debugging purpose!!!\n",
    "y_train_unlabelled = unpack(os.path.join(\n",
    "    constants.TRAIN_DIR,\n",
    "    constants.Y_TRAIN_UNLABELLED_FILENAME\n",
    "));\n",
    "print(\"Number of Unlabelled Labels: \", len(y_train_unlabelled));\n",
    "print(\"Unique Labels: \", np.unique(y_train_unlabelled));"
   ]
  },
  {
   "cell_type": "markdown",
   "metadata": {},
   "source": [
    "Test Data"
   ]
  },
  {
   "cell_type": "code",
   "execution_count": 10,
   "metadata": {},
   "outputs": [
    {
     "name": "stdout",
     "output_type": "stream",
     "text": [
      "Number of Normalized Samples in Testing Set:  629\n",
      "Number of Features in the Normalized Testing Set:  12\n",
      "Value range of the Normalized Testing Set:  -4.827248760778992 13.457018899436779\n"
     ]
    }
   ],
   "source": [
    "mush_X_test_norm = joblib.load(os.path.join(\n",
    "    os.pardir,\n",
    "    constants.ASM1_DIR,\n",
    "    constants.MUSH_DIR,\n",
    "    constants.TEST_DIR,\n",
    "    constants.X_TEST_NORMALIZED_FILENAME\n",
    "));\n",
    "print(\"Number of Normalized Samples in Testing Set: \", len(mush_X_test_norm));\n",
    "print(\"Number of Features in the Normalized Testing Set: \", len(mush_X_test_norm[random.randint(0, len(mush_X_test_norm)-1)]));\n",
    "print(\"Value range of the Normalized Testing Set: \", np.min(mush_X_test_norm), np.max(mush_X_test_norm));"
   ]
  },
  {
   "cell_type": "code",
   "execution_count": 11,
   "metadata": {},
   "outputs": [
    {
     "name": "stdout",
     "output_type": "stream",
     "text": [
      "Number of Samples in Testing Set:  629\n",
      "Unique Labels in Testing Set:  [0 1]\n"
     ]
    }
   ],
   "source": [
    "mush_y_test_norm = joblib.load(os.path.join(\n",
    "    os.pardir,\n",
    "    constants.ASM1_DIR,\n",
    "    constants.MUSH_DIR,\n",
    "    constants.TEST_DIR,\n",
    "    constants.Y_TEST_NORMALIZED_FILENAME\n",
    "));\n",
    "print(\"Number of Samples in Testing Set: \", len(mush_y_test_norm));\n",
    "print(\"Unique Labels in Testing Set: \", np.unique(mush_y_test_norm));"
   ]
  },
  {
   "cell_type": "markdown",
   "metadata": {},
   "source": [
    "## Load the Column Names"
   ]
  },
  {
   "cell_type": "code",
   "execution_count": 12,
   "metadata": {},
   "outputs": [
    {
     "name": "stdout",
     "output_type": "stream",
     "text": [
      "Columns in a sample:  ['age' 'gender' 'education' 'country' 'ethnicity' 'nscore' 'escore'\n",
      " 'oscore' 'ascore' 'cscore' 'impuslive' 'ss']\n"
     ]
    }
   ],
   "source": [
    "columns = joblib.load(os.path.join(\n",
    "    constants.COLUMNS_DIR,\n",
    "    constants.COLUMNS_FILENAME\n",
    "));\n",
    "print(\"Columns in a sample: \", columns);"
   ]
  },
  {
   "cell_type": "markdown",
   "metadata": {},
   "source": [
    "## Load the Model"
   ]
  },
  {
   "cell_type": "markdown",
   "metadata": {},
   "source": [
    "Note: We already trained the Gradient Boosting classifier with the labelled data in this notebook `CSI5155 Project - baseline.ipynb`. We load 2 models to perform co-training on a subset of features in the data in each classifier."
   ]
  },
  {
   "cell_type": "code",
   "execution_count": 13,
   "metadata": {},
   "outputs": [
    {
     "data": {
      "text/html": [
       "<style>#sk-container-id-1 {color: black;background-color: white;}#sk-container-id-1 pre{padding: 0;}#sk-container-id-1 div.sk-toggleable {background-color: white;}#sk-container-id-1 label.sk-toggleable__label {cursor: pointer;display: block;width: 100%;margin-bottom: 0;padding: 0.3em;box-sizing: border-box;text-align: center;}#sk-container-id-1 label.sk-toggleable__label-arrow:before {content: \"▸\";float: left;margin-right: 0.25em;color: #696969;}#sk-container-id-1 label.sk-toggleable__label-arrow:hover:before {color: black;}#sk-container-id-1 div.sk-estimator:hover label.sk-toggleable__label-arrow:before {color: black;}#sk-container-id-1 div.sk-toggleable__content {max-height: 0;max-width: 0;overflow: hidden;text-align: left;background-color: #f0f8ff;}#sk-container-id-1 div.sk-toggleable__content pre {margin: 0.2em;color: black;border-radius: 0.25em;background-color: #f0f8ff;}#sk-container-id-1 input.sk-toggleable__control:checked~div.sk-toggleable__content {max-height: 200px;max-width: 100%;overflow: auto;}#sk-container-id-1 input.sk-toggleable__control:checked~label.sk-toggleable__label-arrow:before {content: \"▾\";}#sk-container-id-1 div.sk-estimator input.sk-toggleable__control:checked~label.sk-toggleable__label {background-color: #d4ebff;}#sk-container-id-1 div.sk-label input.sk-toggleable__control:checked~label.sk-toggleable__label {background-color: #d4ebff;}#sk-container-id-1 input.sk-hidden--visually {border: 0;clip: rect(1px 1px 1px 1px);clip: rect(1px, 1px, 1px, 1px);height: 1px;margin: -1px;overflow: hidden;padding: 0;position: absolute;width: 1px;}#sk-container-id-1 div.sk-estimator {font-family: monospace;background-color: #f0f8ff;border: 1px dotted black;border-radius: 0.25em;box-sizing: border-box;margin-bottom: 0.5em;}#sk-container-id-1 div.sk-estimator:hover {background-color: #d4ebff;}#sk-container-id-1 div.sk-parallel-item::after {content: \"\";width: 100%;border-bottom: 1px solid gray;flex-grow: 1;}#sk-container-id-1 div.sk-label:hover label.sk-toggleable__label {background-color: #d4ebff;}#sk-container-id-1 div.sk-serial::before {content: \"\";position: absolute;border-left: 1px solid gray;box-sizing: border-box;top: 0;bottom: 0;left: 50%;z-index: 0;}#sk-container-id-1 div.sk-serial {display: flex;flex-direction: column;align-items: center;background-color: white;padding-right: 0.2em;padding-left: 0.2em;position: relative;}#sk-container-id-1 div.sk-item {position: relative;z-index: 1;}#sk-container-id-1 div.sk-parallel {display: flex;align-items: stretch;justify-content: center;background-color: white;position: relative;}#sk-container-id-1 div.sk-item::before, #sk-container-id-1 div.sk-parallel-item::before {content: \"\";position: absolute;border-left: 1px solid gray;box-sizing: border-box;top: 0;bottom: 0;left: 50%;z-index: -1;}#sk-container-id-1 div.sk-parallel-item {display: flex;flex-direction: column;z-index: 1;position: relative;background-color: white;}#sk-container-id-1 div.sk-parallel-item:first-child::after {align-self: flex-end;width: 50%;}#sk-container-id-1 div.sk-parallel-item:last-child::after {align-self: flex-start;width: 50%;}#sk-container-id-1 div.sk-parallel-item:only-child::after {width: 0;}#sk-container-id-1 div.sk-dashed-wrapped {border: 1px dashed gray;margin: 0 0.4em 0.5em 0.4em;box-sizing: border-box;padding-bottom: 0.4em;background-color: white;}#sk-container-id-1 div.sk-label label {font-family: monospace;font-weight: bold;display: inline-block;line-height: 1.2em;}#sk-container-id-1 div.sk-label-container {text-align: center;}#sk-container-id-1 div.sk-container {/* jupyter's `normalize.less` sets `[hidden] { display: none; }` but bootstrap.min.css set `[hidden] { display: none !important; }` so we also need the `!important` here to be able to override the default hidden behavior on the sphinx rendered scikit-learn.org. See: https://github.com/scikit-learn/scikit-learn/issues/21755 */display: inline-block !important;position: relative;}#sk-container-id-1 div.sk-text-repr-fallback {display: none;}</style><div id=\"sk-container-id-1\" class=\"sk-top-container\"><div class=\"sk-text-repr-fallback\"><pre>RandomizedSearchCV(estimator=GradientBoostingClassifier(),\n",
       "                   param_distributions={&#x27;max_depth&#x27;: array([ 6,  8,  4, 14, 12,  9,  9,  3,  7, 17, 19,  1, 19, 17, 15, 12, 16,\n",
       "       18,  2,  8, 15,  9, 12,  2,  8, 17, 11,  1, 14, 15, 13,  4,  1, 19,\n",
       "       12, 15,  6, 19,  9, 17, 10, 12, 16,  3,  5, 13, 10, 19,  5,  5,  4,\n",
       "       10,  6,  4,  5,  2, 17,  1,  1,  5, 10,  1, 10, 11,  8, 14, 13, 12,\n",
       "        8, 17, 14,  1,  3,  4, 19, 10,  6, 19, 14,  2, 19, 15, 13,  7,  5,\n",
       "        3,  4,  3, 14, 10,  5, 16, 10,  5, 16, 15,  4,  8, 17,  8],\n",
       "      dtype=int64),\n",
       "                                        &#x27;min_samples_split&#x27;: &lt;scipy.stats._distn_infrastructure.rv_continuous_frozen object at 0x0000020877A85870&gt;},\n",
       "                   random_state=42)</pre><b>In a Jupyter environment, please rerun this cell to show the HTML representation or trust the notebook. <br />On GitHub, the HTML representation is unable to render, please try loading this page with nbviewer.org.</b></div><div class=\"sk-container\" hidden><div class=\"sk-item sk-dashed-wrapped\"><div class=\"sk-label-container\"><div class=\"sk-label sk-toggleable\"><input class=\"sk-toggleable__control sk-hidden--visually\" id=\"sk-estimator-id-1\" type=\"checkbox\" ><label for=\"sk-estimator-id-1\" class=\"sk-toggleable__label sk-toggleable__label-arrow\">RandomizedSearchCV</label><div class=\"sk-toggleable__content\"><pre>RandomizedSearchCV(estimator=GradientBoostingClassifier(),\n",
       "                   param_distributions={&#x27;max_depth&#x27;: array([ 6,  8,  4, 14, 12,  9,  9,  3,  7, 17, 19,  1, 19, 17, 15, 12, 16,\n",
       "       18,  2,  8, 15,  9, 12,  2,  8, 17, 11,  1, 14, 15, 13,  4,  1, 19,\n",
       "       12, 15,  6, 19,  9, 17, 10, 12, 16,  3,  5, 13, 10, 19,  5,  5,  4,\n",
       "       10,  6,  4,  5,  2, 17,  1,  1,  5, 10,  1, 10, 11,  8, 14, 13, 12,\n",
       "        8, 17, 14,  1,  3,  4, 19, 10,  6, 19, 14,  2, 19, 15, 13,  7,  5,\n",
       "        3,  4,  3, 14, 10,  5, 16, 10,  5, 16, 15,  4,  8, 17,  8],\n",
       "      dtype=int64),\n",
       "                                        &#x27;min_samples_split&#x27;: &lt;scipy.stats._distn_infrastructure.rv_continuous_frozen object at 0x0000020877A85870&gt;},\n",
       "                   random_state=42)</pre></div></div></div><div class=\"sk-parallel\"><div class=\"sk-parallel-item\"><div class=\"sk-item\"><div class=\"sk-label-container\"><div class=\"sk-label sk-toggleable\"><input class=\"sk-toggleable__control sk-hidden--visually\" id=\"sk-estimator-id-2\" type=\"checkbox\" ><label for=\"sk-estimator-id-2\" class=\"sk-toggleable__label sk-toggleable__label-arrow\">estimator: GradientBoostingClassifier</label><div class=\"sk-toggleable__content\"><pre>GradientBoostingClassifier()</pre></div></div></div><div class=\"sk-serial\"><div class=\"sk-item\"><div class=\"sk-estimator sk-toggleable\"><input class=\"sk-toggleable__control sk-hidden--visually\" id=\"sk-estimator-id-3\" type=\"checkbox\" ><label for=\"sk-estimator-id-3\" class=\"sk-toggleable__label sk-toggleable__label-arrow\">GradientBoostingClassifier</label><div class=\"sk-toggleable__content\"><pre>GradientBoostingClassifier()</pre></div></div></div></div></div></div></div></div></div></div>"
      ],
      "text/plain": [
       "RandomizedSearchCV(estimator=GradientBoostingClassifier(),\n",
       "                   param_distributions={'max_depth': array([ 6,  8,  4, 14, 12,  9,  9,  3,  7, 17, 19,  1, 19, 17, 15, 12, 16,\n",
       "       18,  2,  8, 15,  9, 12,  2,  8, 17, 11,  1, 14, 15, 13,  4,  1, 19,\n",
       "       12, 15,  6, 19,  9, 17, 10, 12, 16,  3,  5, 13, 10, 19,  5,  5,  4,\n",
       "       10,  6,  4,  5,  2, 17,  1,  1,  5, 10,  1, 10, 11,  8, 14, 13, 12,\n",
       "        8, 17, 14,  1,  3,  4, 19, 10,  6, 19, 14,  2, 19, 15, 13,  7,  5,\n",
       "        3,  4,  3, 14, 10,  5, 16, 10,  5, 16, 15,  4,  8, 17,  8],\n",
       "      dtype=int64),\n",
       "                                        'min_samples_split': <scipy.stats._distn_infrastructure.rv_continuous_frozen object at 0x0000020877A85870>},\n",
       "                   random_state=42)"
      ]
     },
     "execution_count": 13,
     "metadata": {},
     "output_type": "execute_result"
    }
   ],
   "source": [
    "model1 = unpack(os.path.join(\n",
    "    constants.MODEL_DIR,\n",
    "    constants.MODEL_FILENAME\n",
    "));\n",
    "model1"
   ]
  },
  {
   "cell_type": "code",
   "execution_count": 14,
   "metadata": {},
   "outputs": [
    {
     "data": {
      "text/html": [
       "<style>#sk-container-id-2 {color: black;background-color: white;}#sk-container-id-2 pre{padding: 0;}#sk-container-id-2 div.sk-toggleable {background-color: white;}#sk-container-id-2 label.sk-toggleable__label {cursor: pointer;display: block;width: 100%;margin-bottom: 0;padding: 0.3em;box-sizing: border-box;text-align: center;}#sk-container-id-2 label.sk-toggleable__label-arrow:before {content: \"▸\";float: left;margin-right: 0.25em;color: #696969;}#sk-container-id-2 label.sk-toggleable__label-arrow:hover:before {color: black;}#sk-container-id-2 div.sk-estimator:hover label.sk-toggleable__label-arrow:before {color: black;}#sk-container-id-2 div.sk-toggleable__content {max-height: 0;max-width: 0;overflow: hidden;text-align: left;background-color: #f0f8ff;}#sk-container-id-2 div.sk-toggleable__content pre {margin: 0.2em;color: black;border-radius: 0.25em;background-color: #f0f8ff;}#sk-container-id-2 input.sk-toggleable__control:checked~div.sk-toggleable__content {max-height: 200px;max-width: 100%;overflow: auto;}#sk-container-id-2 input.sk-toggleable__control:checked~label.sk-toggleable__label-arrow:before {content: \"▾\";}#sk-container-id-2 div.sk-estimator input.sk-toggleable__control:checked~label.sk-toggleable__label {background-color: #d4ebff;}#sk-container-id-2 div.sk-label input.sk-toggleable__control:checked~label.sk-toggleable__label {background-color: #d4ebff;}#sk-container-id-2 input.sk-hidden--visually {border: 0;clip: rect(1px 1px 1px 1px);clip: rect(1px, 1px, 1px, 1px);height: 1px;margin: -1px;overflow: hidden;padding: 0;position: absolute;width: 1px;}#sk-container-id-2 div.sk-estimator {font-family: monospace;background-color: #f0f8ff;border: 1px dotted black;border-radius: 0.25em;box-sizing: border-box;margin-bottom: 0.5em;}#sk-container-id-2 div.sk-estimator:hover {background-color: #d4ebff;}#sk-container-id-2 div.sk-parallel-item::after {content: \"\";width: 100%;border-bottom: 1px solid gray;flex-grow: 1;}#sk-container-id-2 div.sk-label:hover label.sk-toggleable__label {background-color: #d4ebff;}#sk-container-id-2 div.sk-serial::before {content: \"\";position: absolute;border-left: 1px solid gray;box-sizing: border-box;top: 0;bottom: 0;left: 50%;z-index: 0;}#sk-container-id-2 div.sk-serial {display: flex;flex-direction: column;align-items: center;background-color: white;padding-right: 0.2em;padding-left: 0.2em;position: relative;}#sk-container-id-2 div.sk-item {position: relative;z-index: 1;}#sk-container-id-2 div.sk-parallel {display: flex;align-items: stretch;justify-content: center;background-color: white;position: relative;}#sk-container-id-2 div.sk-item::before, #sk-container-id-2 div.sk-parallel-item::before {content: \"\";position: absolute;border-left: 1px solid gray;box-sizing: border-box;top: 0;bottom: 0;left: 50%;z-index: -1;}#sk-container-id-2 div.sk-parallel-item {display: flex;flex-direction: column;z-index: 1;position: relative;background-color: white;}#sk-container-id-2 div.sk-parallel-item:first-child::after {align-self: flex-end;width: 50%;}#sk-container-id-2 div.sk-parallel-item:last-child::after {align-self: flex-start;width: 50%;}#sk-container-id-2 div.sk-parallel-item:only-child::after {width: 0;}#sk-container-id-2 div.sk-dashed-wrapped {border: 1px dashed gray;margin: 0 0.4em 0.5em 0.4em;box-sizing: border-box;padding-bottom: 0.4em;background-color: white;}#sk-container-id-2 div.sk-label label {font-family: monospace;font-weight: bold;display: inline-block;line-height: 1.2em;}#sk-container-id-2 div.sk-label-container {text-align: center;}#sk-container-id-2 div.sk-container {/* jupyter's `normalize.less` sets `[hidden] { display: none; }` but bootstrap.min.css set `[hidden] { display: none !important; }` so we also need the `!important` here to be able to override the default hidden behavior on the sphinx rendered scikit-learn.org. See: https://github.com/scikit-learn/scikit-learn/issues/21755 */display: inline-block !important;position: relative;}#sk-container-id-2 div.sk-text-repr-fallback {display: none;}</style><div id=\"sk-container-id-2\" class=\"sk-top-container\"><div class=\"sk-text-repr-fallback\"><pre>RandomizedSearchCV(estimator=GradientBoostingClassifier(),\n",
       "                   param_distributions={&#x27;max_depth&#x27;: array([ 6,  8,  4, 14, 12,  9,  9,  3,  7, 17, 19,  1, 19, 17, 15, 12, 16,\n",
       "       18,  2,  8, 15,  9, 12,  2,  8, 17, 11,  1, 14, 15, 13,  4,  1, 19,\n",
       "       12, 15,  6, 19,  9, 17, 10, 12, 16,  3,  5, 13, 10, 19,  5,  5,  4,\n",
       "       10,  6,  4,  5,  2, 17,  1,  1,  5, 10,  1, 10, 11,  8, 14, 13, 12,\n",
       "        8, 17, 14,  1,  3,  4, 19, 10,  6, 19, 14,  2, 19, 15, 13,  7,  5,\n",
       "        3,  4,  3, 14, 10,  5, 16, 10,  5, 16, 15,  4,  8, 17,  8],\n",
       "      dtype=int64),\n",
       "                                        &#x27;min_samples_split&#x27;: &lt;scipy.stats._distn_infrastructure.rv_continuous_frozen object at 0x0000020877B20C70&gt;},\n",
       "                   random_state=42)</pre><b>In a Jupyter environment, please rerun this cell to show the HTML representation or trust the notebook. <br />On GitHub, the HTML representation is unable to render, please try loading this page with nbviewer.org.</b></div><div class=\"sk-container\" hidden><div class=\"sk-item sk-dashed-wrapped\"><div class=\"sk-label-container\"><div class=\"sk-label sk-toggleable\"><input class=\"sk-toggleable__control sk-hidden--visually\" id=\"sk-estimator-id-4\" type=\"checkbox\" ><label for=\"sk-estimator-id-4\" class=\"sk-toggleable__label sk-toggleable__label-arrow\">RandomizedSearchCV</label><div class=\"sk-toggleable__content\"><pre>RandomizedSearchCV(estimator=GradientBoostingClassifier(),\n",
       "                   param_distributions={&#x27;max_depth&#x27;: array([ 6,  8,  4, 14, 12,  9,  9,  3,  7, 17, 19,  1, 19, 17, 15, 12, 16,\n",
       "       18,  2,  8, 15,  9, 12,  2,  8, 17, 11,  1, 14, 15, 13,  4,  1, 19,\n",
       "       12, 15,  6, 19,  9, 17, 10, 12, 16,  3,  5, 13, 10, 19,  5,  5,  4,\n",
       "       10,  6,  4,  5,  2, 17,  1,  1,  5, 10,  1, 10, 11,  8, 14, 13, 12,\n",
       "        8, 17, 14,  1,  3,  4, 19, 10,  6, 19, 14,  2, 19, 15, 13,  7,  5,\n",
       "        3,  4,  3, 14, 10,  5, 16, 10,  5, 16, 15,  4,  8, 17,  8],\n",
       "      dtype=int64),\n",
       "                                        &#x27;min_samples_split&#x27;: &lt;scipy.stats._distn_infrastructure.rv_continuous_frozen object at 0x0000020877B20C70&gt;},\n",
       "                   random_state=42)</pre></div></div></div><div class=\"sk-parallel\"><div class=\"sk-parallel-item\"><div class=\"sk-item\"><div class=\"sk-label-container\"><div class=\"sk-label sk-toggleable\"><input class=\"sk-toggleable__control sk-hidden--visually\" id=\"sk-estimator-id-5\" type=\"checkbox\" ><label for=\"sk-estimator-id-5\" class=\"sk-toggleable__label sk-toggleable__label-arrow\">estimator: GradientBoostingClassifier</label><div class=\"sk-toggleable__content\"><pre>GradientBoostingClassifier()</pre></div></div></div><div class=\"sk-serial\"><div class=\"sk-item\"><div class=\"sk-estimator sk-toggleable\"><input class=\"sk-toggleable__control sk-hidden--visually\" id=\"sk-estimator-id-6\" type=\"checkbox\" ><label for=\"sk-estimator-id-6\" class=\"sk-toggleable__label sk-toggleable__label-arrow\">GradientBoostingClassifier</label><div class=\"sk-toggleable__content\"><pre>GradientBoostingClassifier()</pre></div></div></div></div></div></div></div></div></div></div>"
      ],
      "text/plain": [
       "RandomizedSearchCV(estimator=GradientBoostingClassifier(),\n",
       "                   param_distributions={'max_depth': array([ 6,  8,  4, 14, 12,  9,  9,  3,  7, 17, 19,  1, 19, 17, 15, 12, 16,\n",
       "       18,  2,  8, 15,  9, 12,  2,  8, 17, 11,  1, 14, 15, 13,  4,  1, 19,\n",
       "       12, 15,  6, 19,  9, 17, 10, 12, 16,  3,  5, 13, 10, 19,  5,  5,  4,\n",
       "       10,  6,  4,  5,  2, 17,  1,  1,  5, 10,  1, 10, 11,  8, 14, 13, 12,\n",
       "        8, 17, 14,  1,  3,  4, 19, 10,  6, 19, 14,  2, 19, 15, 13,  7,  5,\n",
       "        3,  4,  3, 14, 10,  5, 16, 10,  5, 16, 15,  4,  8, 17,  8],\n",
       "      dtype=int64),\n",
       "                                        'min_samples_split': <scipy.stats._distn_infrastructure.rv_continuous_frozen object at 0x0000020877B20C70>},\n",
       "                   random_state=42)"
      ]
     },
     "execution_count": 14,
     "metadata": {},
     "output_type": "execute_result"
    }
   ],
   "source": [
    "model2 = unpack(os.path.join(\n",
    "    constants.MODEL_DIR,\n",
    "    constants.MODEL_FILENAME\n",
    "));\n",
    "model2"
   ]
  },
  {
   "cell_type": "markdown",
   "metadata": {},
   "source": [
    "## Co-Training Algorithm"
   ]
  },
  {
   "cell_type": "markdown",
   "metadata": {},
   "source": [
    "We now intend to train 2 classifiers so that they iteratively label each other's\n",
    "unlabeled instances"
   ]
  },
  {
   "cell_type": "markdown",
   "metadata": {},
   "source": [
    "### Compare and Experiment whichever method we should use to split our features in the co-training algorithm."
   ]
  },
  {
   "cell_type": "code",
   "execution_count": 15,
   "metadata": {},
   "outputs": [
    {
     "name": "stdout",
     "output_type": "stream",
     "text": [
      "\n",
      "=== Evaluating with View Size Ratio: 0.3 ===\n",
      "\n",
      "=== Evaluating Method: random_split_features ===\n",
      "Number of features in view 1: 3\n",
      "Number of features in view 2: 9\n",
      "Method: random_split_features | AUC: 0.7707 | Accuracy: 0.6820\n",
      "\n",
      "=== Evaluating Method: pca_based_split ===\n",
      "Number of features in view 1: 6\n",
      "Number of features in view 2: 6\n",
      "Method: pca_based_split | AUC: 0.7584 | Accuracy: 0.6884\n",
      "\n",
      "=== Evaluating Method: correlation_based_split ===\n",
      "Features in View 1:  [10  9 11]\n",
      "Features in View 2:  [0 1 2 3 4 5 6 7 8]\n",
      "Method: correlation_based_split | AUC: 0.7791 | Accuracy: 0.6932\n",
      "\n",
      "=== Evaluating Method: importance_based_split ===\n",
      "Features in View 1:  [3 9 0]\n",
      "Features in View 2:  [10  6  8 11  7  5  1  2  4]\n",
      "Method: importance_based_split | AUC: 0.7766 | Accuracy: 0.6948\n",
      "\n",
      "=== Evaluating with View Size Ratio: 0.5 ===\n",
      "\n",
      "=== Evaluating Method: random_split_features ===\n",
      "Number of features in view 1: 6\n",
      "Number of features in view 2: 6\n",
      "Method: random_split_features | AUC: 0.7786 | Accuracy: 0.7027\n",
      "\n",
      "=== Evaluating Method: pca_based_split ===\n",
      "Number of features in view 1: 6\n",
      "Number of features in view 2: 6\n",
      "Method: pca_based_split | AUC: 0.7584 | Accuracy: 0.6884\n",
      "\n",
      "=== Evaluating Method: correlation_based_split ===\n",
      "Features in View 1:  [ 7  8  3 10  9 11]\n",
      "Features in View 2:  [0 1 2 4 5 6]\n",
      "Method: correlation_based_split | AUC: 0.7688 | Accuracy: 0.6725\n",
      "\n",
      "=== Evaluating Method: importance_based_split ===\n",
      "Features in View 1:  [ 3  9  0 10  6  8]\n",
      "Features in View 2:  [11  7  5  1  2  4]\n",
      "Method: importance_based_split | AUC: 0.7856 | Accuracy: 0.6884\n",
      "\n",
      "=== Evaluating with View Size Ratio: 0.7 ===\n",
      "\n",
      "=== Evaluating Method: random_split_features ===\n",
      "Number of features in view 1: 8\n",
      "Number of features in view 2: 4\n",
      "Method: random_split_features | AUC: 0.7811 | Accuracy: 0.6948\n",
      "\n",
      "=== Evaluating Method: pca_based_split ===\n",
      "Number of features in view 1: 6\n",
      "Number of features in view 2: 6\n",
      "Method: pca_based_split | AUC: 0.7584 | Accuracy: 0.6884\n",
      "\n",
      "=== Evaluating Method: correlation_based_split ===\n",
      "Features in View 1:  [ 5  0  7  8  3 10  9 11]\n",
      "Features in View 2:  [1 2 4 6]\n",
      "Method: correlation_based_split | AUC: 0.7707 | Accuracy: 0.6725\n",
      "\n",
      "=== Evaluating Method: importance_based_split ===\n",
      "Features in View 1:  [ 3  9  0 10  6  8 11  7]\n",
      "Features in View 2:  [5 1 2 4]\n",
      "Method: importance_based_split | AUC: 0.7538 | Accuracy: 0.6693\n"
     ]
    },
    {
     "data": {
      "image/png": "[encoded data removed]",
      "text/plain": [
       "<Figure size 600x400 with 2 Axes>"
      ]
     },
     "metadata": {},
     "output_type": "display_data"
    },
    {
     "data": {
      "image/png": "[encoded data removed]",
      "text/plain": [
       "<Figure size 600x400 with 1 Axes>"
      ]
     },
     "metadata": {},
     "output_type": "display_data"
    },
    {
     "name": "stdout",
     "output_type": "stream",
     "text": [
      "\n",
      "Best Method: importance_based_split\n",
      "Best Result: {'method': 'importance_based_split', 'features_view1': [3, 9, 0, 10, 6, 8], 'features_view2': [11, 7, 5, 1, 2, 4], 'auc': 0.7856227742551897, 'accuracy': 0.6883942766295708, 'y_pred': [1, 1, 0, 1, 1, 0, 1, 1, 1, 1, 1, 0, 1, 1, 0, 1, 1, 0, 0, 0, 0, 1, 0, 1, 0, 1, 0, 1, 0, 1, 0, 0, 1, 0, 1, 1, 0, 1, 1, 1, 0, 1, 0, 0, 1, 1, 0, 1, 0, 1, 1, 0, 0, 1, 0, 0, 1, 1, 1, 0, 0, 1, 0, 0, 1, 1, 0, 1, 0, 1, 0, 0, 1, 1, 1, 1, 0, 0, 1, 1, 0, 0, 0, 1, 0, 0, 0, 0, 1, 0, 1, 1, 0, 1, 0, 1, 1, 1, 0, 1, 1, 0, 0, 0, 0, 0, 1, 1, 0, 0, 1, 1, 1, 1, 0, 1, 0, 0, 0, 1, 1, 0, 0, 1, 0, 1, 0, 1, 1, 0, 0, 0, 1, 0, 1, 0, 1, 0, 0, 1, 1, 0, 0, 1, 1, 1, 0, 0, 1, 0, 1, 1, 1, 0, 0, 1, 0, 1, 0, 1, 0, 0, 1, 1, 0, 0, 0, 1, 0, 0, 1, 1, 1, 0, 0, 1, 1, 0, 1, 1, 1, 1, 1, 1, 1, 1, 0, 0, 0, 0, 1, 0, 0, 1, 1, 1, 0, 0, 0, 0, 0, 0, 1, 1, 0, 0, 1, 0, 1, 1, 1, 0, 0, 1, 0, 0, 1, 0, 1, 1, 1, 1, 0, 1, 1, 1, 1, 0, 0, 0, 0, 1, 0, 0, 0, 0, 0, 1, 1, 0, 1, 1, 1, 1, 0, 1, 0, 0, 1, 1, 0, 1, 1, 1, 1, 1, 0, 1, 1, 1, 0, 1, 0, 0, 1, 1, 0, 1, 0, 0, 1, 0, 0, 1, 1, 0, 1, 1, 1, 0, 1, 1, 0, 1, 0, 0, 0, 0, 1, 1, 1, 0, 0, 1, 1, 1, 1, 0, 0, 1, 0, 0, 1, 0, 1, 0, 1, 1, 1, 1, 0, 1, 0, 0, 0, 1, 1, 0, 0, 0, 0, 1, 1, 1, 1, 0, 1, 0, 0, 1, 1, 0, 1, 0, 0, 1, 0, 0, 1, 1, 0, 1, 1, 1, 1, 1, 0, 0, 1, 0, 0, 1, 0, 0, 1, 0, 1, 0, 0, 1, 0, 1, 0, 1, 1, 0, 1, 0, 0, 1, 0, 1, 0, 0, 0, 1, 1, 0, 1, 0, 1, 1, 0, 1, 0, 1, 0, 0, 1, 1, 0, 0, 1, 1, 0, 0, 0, 1, 1, 1, 0, 0, 0, 1, 0, 1, 1, 0, 0, 1, 0, 1, 0, 1, 0, 0, 1, 0, 1, 1, 1, 0, 0, 1, 1, 1, 1, 1, 0, 0, 0, 0, 1, 0, 1, 1, 1, 0, 0, 0, 1, 1, 0, 0, 0, 1, 1, 0, 0, 0, 1, 0, 1, 0, 1, 1, 1, 0, 1, 1, 0, 1, 1, 1, 1, 1, 1, 1, 1, 1, 1, 0, 0, 1, 0, 1, 0, 1, 1, 1, 0, 0, 0, 1, 0, 0, 0, 1, 1, 1, 1, 0, 0, 1, 1, 1, 1, 0, 0, 0, 0, 1, 0, 1, 0, 1, 1, 1, 0, 1, 0, 0, 0, 1, 1, 1, 0, 0, 1, 0, 1, 0, 1, 1, 1, 1, 0, 1, 1, 1, 0, 1, 0, 0, 1, 1, 0, 0, 1, 0, 0, 0, 1, 0, 1, 1, 1, 0, 1, 1, 0, 1, 1, 1, 1, 1, 0, 0, 1, 1, 1, 0, 0, 0, 0, 0, 0, 0, 0, 1, 1, 1, 1, 0, 0, 1, 1, 1, 0, 0, 1, 0, 0, 0, 1, 1, 1, 0, 0, 0, 0, 1, 1, 0, 1, 1, 1, 1, 0, 1, 1, 1, 1, 1, 1, 0, 0, 1, 0, 0, 0, 1, 1, 0, 1, 0, 0, 1, 0, 0, 1, 1, 1, 1, 1, 1, 0, 0, 0], 'y_pred_proba': [0.642047459099126, 0.4251542416588312, 0.3608795202908831, 0.3730041812963899, 0.4684372167929111, 0.029412024393391092, 0.6823726466562516, 0.8461710792921805, 0.42209789514109425, 0.7485213853478443, 0.6338437596482852, 0.16878727322159698, 0.45013153734006817, 0.5310091056929223, 0.210994665216559, 0.6230426437829911, 0.6115791074314669, 0.4147631190456096, 0.042639214878841224, 0.004783095113894211, 0.01021789568262891, 0.7789433988862676, 0.03566299788243918, 0.555626165994571, 0.039623089328940216, 0.7704302180995213, 0.18525833269567898, 0.48810553647745203, 0.10638966027834204, 0.9089970844438161, 0.013419380545017724, 0.015844956178915827, 0.5291466163880314, 0.033658828951614594, 0.7632116298382543, 0.8958533595847584, 0.18798512492451683, 0.5635877914394982, 0.9055556992200471, 0.6669702711265839, 0.21282540980983525, 0.5787708754139823, 0.24229784022351597, 0.16096714291199157, 0.6639775321979468, 0.937208202903709, 0.050834105819141995, 0.6270586451566286, 0.057780672222712166, 0.6390819833496586, 0.4808217393623057, 0.0072149428501352, 0.14933223029379847, 0.4579952077560237, 0.04580968069710396, 0.0067642535906312405, 0.507560844818484, 0.5095912385551549, 0.8024632722335021, 0.17064981526139603, 0.04405106419671304, 0.6709576493616195, 0.2450057578344954, 0.015092822260156138, 0.880863505256825, 0.6888324052651407, 0.22077781404991348, 0.4301384654283409, 0.01970429545615034, 0.6185521360282568, 0.07745085193912152, 0.04231566411435507, 0.560513748829734, 0.6870201789939301, 0.5342540952341894, 0.548360460512312, 0.11793146138738128, 0.10875014292945845, 0.5699810692302814, 0.36258193261640176, 0.12288692212306301, 0.22590956077262275, 0.41569537996005385, 0.5105836850884979, 0.0037952003936439554, 0.07057919270330446, 0.3330018663192439, 0.07957921861902867, 0.6588254448777151, 0.012523563901003693, 0.3798610972065555, 0.8903810193003661, 0.0062946674739747886, 0.8556941032945105, 0.11442675873917169, 0.6128849655913774, 0.8183001244331951, 0.5056614863516244, 0.010308133843778766, 0.34759902552992267, 0.7831208013640472, 0.07788076959920795, 0.14527263053552836, 0.024577073929835894, 0.004192293695708765, 0.18449479837242624, 0.8087216797942349, 0.4748143201062792, 0.0824196815989366, 0.2864588987123707, 0.5316202688805932, 0.7561134870193738, 0.8421382409374132, 0.3471688970161646, 0.31138420509980225, 0.795287127571966, 0.3339299872224164, 0.10797833045256958, 0.014082295619820167, 0.9160156939194313, 0.9178488569986292, 0.13609782670982828, 0.1289801191079983, 0.5436579468557698, 0.048782450977468236, 0.6993299452942786, 0.011018029333762057, 0.4401539341969225, 0.3653772131395969, 0.32844073022918396, 0.1738326427676963, 0.22016548116903553, 0.9561490915188257, 0.11800088379626529, 0.8227761691167951, 0.014011782418668468, 0.45472164930999004, 0.05339180566827208, 0.01215650856098787, 0.6142386381273665, 0.45691748842094043, 0.07952452717471947, 0.21519124289254338, 0.9219255841292742, 0.6123675371298871, 0.5343853232161475, 0.30858897334147717, 0.12611121292741734, 0.9440397208999592, 0.0638204317619392, 0.9171757814673802, 0.683172353752933, 0.4029855312827981, 0.007245240513414365, 0.06263723363317009, 0.7515585458969599, 0.041272711492946264, 0.8562586018381908, 0.11026233140898656, 0.7010173923229791, 0.009954316387388678, 0.046170623535006394, 0.9382036709795701, 0.5794066612195976, 0.22452441184919247, 0.01632207028602656, 0.16736616675540583, 0.9413318173213574, 0.20784691517828932, 0.23329187230164194, 0.7889041988468658, 0.6058998564241127, 0.7896653472941142, 0.006882974191748978, 0.06680126604528422, 0.5640647989361305, 0.5132776248071076, 0.1618092696847806, 0.32110032345954714, 0.6716278530713402, 0.6202807103754097, 0.7792697901460114, 0.4791256204399289, 0.7805050344231181, 0.8785624647133345, 0.9340107299302456, 0.015650786503663004, 0.036520820665836784, 0.018145179003842327, 0.0589106888824681, 0.9108609533043471, 0.22772376496865587, 0.07798098441901091, 0.768425504254998, 0.728480358182519, 0.6039454690470945, 0.07474707424915025, 0.04393762183788708, 0.02157733958901565, 0.08268106617351337, 0.041174593490546016, 0.1423147526637116, 0.6784958350926183, 0.8039580955085619, 0.025986400119437196, 0.08936488530768648, 0.6238521602103144, 0.08933658867983282, 0.8946945183680217, 0.41908227897537165, 0.731615577538265, 0.21716616544271922, 0.06147791995665704, 0.5769575968865597, 0.3806876600356238, 0.022973340078749408, 0.7145224071339289, 0.009923549447012193, 0.8886721155800748, 0.5410705593412122, 0.753028289406464, 0.8629286295017953, 0.0959367650805403, 0.757387344494687, 0.8994526928679774, 0.5834803352323193, 0.7225312640466304, 0.010843532776167515, 0.045624390604115106, 0.1362477458902759, 0.08846393177159942, 0.6317807859578572, 0.222461183319947, 0.07169373281132468, 0.22044384583941493, 0.09739240948251933, 0.1507930692753735, 0.6882034205328398, 0.3779638942530479, 0.050501611739864644, 0.36678585282352777, 0.599792058441754, 0.6497434244130476, 0.3242470108320564, 0.22368041586614726, 0.6023317171730286, 0.053395309020762755, 0.04493470723950666, 0.5970096901965832, 0.5779051806984863, 0.24407031862354106, 0.7185110538875606, 0.3783111888115775, 0.3510817322384456, 0.8184757839115615, 0.3978811513625101, 0.027163696454027882, 0.4296256559723345, 0.7414717553537997, 0.8877537608807798, 0.02509595809064776, 0.39016066054831655, 0.012880324706197347, 0.08329890582915583, 0.7855082178233359, 0.5609165221428352, 0.13755467932117094, 0.680587282406294, 0.1942544598803216, 0.07931198060588812, 0.5367994884577918, 0.008307761202168985, 0.3511120441059817, 0.7587481796139364, 0.7487245828324884, 0.1818540147581125, 0.4608616756234994, 0.4351876296396558, 0.7353870416167679, 0.0225677617963657, 0.8466669569289331, 0.8030612820010181, 0.21259942632033743, 0.6680988921185866, 0.28809741992041227, 0.13799638174802012, 0.10485114312963527, 0.25298858447821065, 0.8919299210392331, 0.7340995082306476, 0.3909927927270209, 0.32005406181771323, 0.09099032980771321, 0.4928047196894727, 0.366647656784337, 0.7870411793147793, 0.3839311544209084, 0.030402557563848232, 0.00921873820132651, 0.49976627245083893, 0.046842539387413465, 0.017410990432601157, 0.8422887395962221, 0.16940962058686274, 0.6609953254698918, 0.17727323333664702, 0.4988405656958341, 0.8021188340555505, 0.7983936291988922, 0.9424117050725973, 0.23476071314329117, 0.830689274769723, 0.0038602692475040294, 0.27874919237212, 0.02484107793095857, 0.310838520232472, 0.3459648622503864, 0.09863508419242868, 0.15277932004083247, 0.12524158805734062, 0.13840877406199115, 0.5414733837760934, 0.7946628782273188, 0.8943408226938662, 0.4791260968663991, 0.21195237181552581, 0.4880333927109562, 0.22018097951681306, 0.040679749705734805, 0.6099779839273365, 0.6005152249159207, 0.005197547162307133, 0.7150395141316865, 0.13378563355285647, 0.015958795712579774, 0.45830624594322644, 0.02745804468685603, 0.05982386301804844, 0.7001416409683672, 0.6741145651412093, 0.03182523739996602, 0.9108204502854929, 0.3937136889101468, 0.41226297958010716, 0.6608833526408755, 0.8400529484924979, 0.1805234910778758, 0.006305330067141815, 0.5387765826781004, 0.07019384117476325, 0.03633864740958963, 0.8613905849615657, 0.1855849960445553, 0.03439044487438381, 0.569953035046947, 0.013877505849478828, 0.47937684668859426, 0.03670178642613636, 0.04735626099520913, 0.7041790813069946, 0.06461769346798055, 0.6713120745221757, 0.07778944404752117, 0.9187478979452439, 0.8618133782092476, 0.011635394273747636, 0.7520366077930888, 0.15408678853876787, 0.023645763681089928, 0.40222322290562873, 0.039606211832667326, 0.38510225121805647, 0.04350356472907811, 0.038914011335441014, 0.18849021049065798, 0.2747063229366491, 0.8370970305046943, 0.21341592351256808, 0.6718461243333453, 0.030275477315484144, 0.5398180326192734, 0.8364482175864395, 0.28135847749509085, 0.8256429864656236, 0.18312059797649485, 0.8595444464926714, 0.03749774003126549, 0.1425607113738316, 0.2731385540018491, 0.9639476210485887, 0.018920201450044055, 0.1047696855699235, 0.8748110075427988, 0.8353482946382931, 0.1628573203694947, 0.25687927324674925, 0.0390589142083381, 0.7578657384260985, 0.3935033187293715, 0.6275109336016722, 0.03028681554483158, 0.13761466024652305, 0.09194769786404401, 0.5128293684812288, 0.028243134739254095, 0.8708033542978, 0.737239115915945, 0.35463211328086874, 0.20748341672871157, 0.2725672805414574, 0.014669981061243701, 0.8578189974489774, 0.4050274113373137, 0.6581092878845343, 0.14687614056023277, 0.14186538459120726, 0.8065708227871271, 0.002756996942349671, 0.9617795151640831, 0.7281501215500392, 0.336547517955419, 0.007226164117194069, 0.08592955288125667, 0.7765783723953055, 0.5730311711928854, 0.5128663635326457, 0.30892323063726645, 0.7088414427336472, 0.14749138311263418, 0.25353665886926013, 0.017286415756045982, 0.20072159650204924, 0.3378477525141586, 0.2033609832068916, 0.8475921575896315, 0.40463917510816394, 0.34994103828650863, 0.016443849885786628, 0.23888648021381068, 0.03663973970115643, 0.5628535361931415, 0.6533443014410664, 0.19306026787100988, 0.04135424445848175, 0.19038123896657747, 0.8997063103444656, 0.5500957862862499, 0.11670577321676134, 0.0019551575651435673, 0.13492925892448965, 0.751365365104069, 0.10128458616702923, 0.4682994232483063, 0.02302915502197278, 0.5790507487276656, 0.6596224628893719, 0.7802517646420334, 0.2992141712346949, 0.6248780614471592, 0.8361732827730273, 0.030072631706862807, 0.8081496427595367, 0.4996454179688761, 0.9095263067686354, 0.5124672044027051, 0.6838098239728958, 0.7143219591814648, 0.5532016040887677, 0.4771214595574574, 0.7203596093735318, 0.5101836542494077, 0.07539667516656992, 0.03719647818826648, 0.46153842950098123, 0.4327867571737102, 0.6670769037941948, 0.28520654294579373, 0.41876400084819787, 0.7939349482895119, 0.3152576458003273, 0.1680609780748751, 0.2590679642774123, 0.22279953734912747, 0.39674762902195543, 0.04277192810684287, 0.1118264324926117, 0.0738394383521952, 0.5468325248964356, 0.4475752238868638, 0.789422182552707, 0.530574564922345, 0.2652592856739918, 0.28724138263870236, 0.8013356490825698, 0.6010424888247498, 0.9011190214420768, 0.5551718642692576, 0.012370745012573688, 0.16669773697025983, 0.013983701062082424, 0.0940473277920048, 0.7942405750785961, 0.012241210442022076, 0.764774828705463, 0.137838440313372, 0.7282440863331368, 0.9527260207787231, 0.6003903896957666, 0.0935446221488244, 0.4013805037498499, 0.2319839656739956, 0.03775153346400428, 0.36414638575831837, 0.882869272246059, 0.7110068889142535, 0.6488348483370247, 0.20339191469135437, 0.09084886091799625, 0.4972246191809369, 0.02527367859987807, 0.7495507733623987, 0.182713880206333, 0.4143803466733907, 0.9376675581969017, 0.4307915589645487, 0.8710024566079879, 0.07670374997365467, 0.599496190211668, 0.7935734432453334, 0.73170630173429, 0.3637741719252616, 0.8834177597999603, 0.07214199682192418, 0.022563061157906093, 0.6998230703477183, 0.3100924139277713, 0.1275148245428877, 0.0074885327527806494, 0.7790719058612658, 0.10938810117765889, 0.0728804465746456, 0.4389740271656746, 0.2971126757864548, 0.13066179993556354, 0.7523790207372152, 0.9265978328348136, 0.6059789725585221, 0.16553778922155957, 0.8167243778972733, 0.3706014805717456, 0.07597568450740805, 0.9649004517755421, 0.750656539552218, 0.9519999564628631, 0.936522268187985, 0.8359146269822417, 0.0337099560591351, 0.17862674601350126, 0.4761686299608609, 0.36570752724058114, 0.6774399662726298, 0.030824159084220624, 0.12238492274791545, 0.196179717045153, 0.10752369362134596, 0.06333156902179718, 0.024894230761468128, 0.11780735759776881, 0.01655605668653576, 0.9178101768839579, 0.4366005172482211, 0.7823527724544556, 0.8585772776346164, 0.19526713456994862, 0.2522240090707505, 0.5803408605963472, 0.5806184027770557, 0.8750641096861842, 0.08794688087741308, 0.009724601625039343, 0.7447993794095908, 0.2108550739086264, 0.04964542295799797, 0.09525890868267567, 0.7128241013050709, 0.3800976191404044, 0.5436362107996924, 0.17062900801274272, 0.10050910264570162, 0.03379754771689494, 0.2939000234721434, 0.8624322474664793, 0.7787087418184628, 0.02003137225263931, 0.4225522643238453, 0.8509960183167402, 0.4847677801756776, 0.7515705162365935, 0.14728017292164858, 0.42807057913608404, 0.3509569038151308, 0.5626486299598701, 0.8211230227365945, 0.8299303796324942, 0.46727695529339014, 0.01078531431090565, 0.08548412613499938, 0.4351966694117132, 0.19288440382746055, 0.08575464667174343, 0.26974280722860056, 0.7677101690367281, 0.5798230902504773, 0.07844553371275868, 0.40404720931256644, 0.22531853981425112, 0.13043549559267126, 0.4582114174501571, 0.10722170766935656, 0.15637643217195532, 0.4464193974764817, 0.5362131439607549, 0.401554430639254, 0.6762119752575979, 0.8409001131091027, 0.9113430605123136, 0.200024770230043, 0.05686184524147442, 0.048745450541733945]}\n"
     ]
    }
   ],
   "source": [
    "# Prepare the data\n",
    "X_train = mush_X_train_norm\n",
    "X_test = mush_X_test_norm\n",
    "y_train = mush_y_train_norm\n",
    "y_test = mush_y_test_norm\n",
    "\n",
    "# Define the feature selection methods\n",
    "methods = [random_split_features, pca_based_split, correlation_based_split, importance_based_split]\n",
    "\n",
    "# Evaluate each method\n",
    "view_size_ratios = [0.3, 0.5, 0.7]  # Try different feature size ratios\n",
    "all_results = []\n",
    "\n",
    "for ratio in view_size_ratios:\n",
    "    print(f\"\\n=== Evaluating with View Size Ratio: {ratio} ===\")\n",
    "    best_method, ratio_results = evaluate_feature_split_methods(\n",
    "        methods, X_train_labelled, mush_X_test_norm, y_train_labelled, mush_y_test_norm, view_size_ratio=ratio\n",
    "    )\n",
    "    all_results.extend(ratio_results)\n",
    "\n",
    "# Save the results to a JSON file\n",
    "with open('feature_split_comparison_results.json', 'w') as f:\n",
    "    json.dump(all_results, f, indent=4)\n",
    "\n",
    "# Find the best result\n",
    "best_result = max(all_results, key=lambda x: x['auc'])\n",
    "\n",
    "# Plot the confusion matrix and ROC curve for the best method\n",
    "plot_confusion_matrix(y_test, best_result['y_pred'], best_result['method'])\n",
    "plot_roc_curve(y_test, best_result['y_pred_proba'], best_result['auc'], best_result['method'])\n",
    "\n",
    "print(\"\\nBest Method:\", best_result['method'])\n",
    "print(\"Best Result:\", best_result)"
   ]
  },
  {
   "cell_type": "markdown",
   "metadata": {},
   "source": [
    "### Data Preparation"
   ]
  },
  {
   "cell_type": "code",
   "execution_count": 16,
   "metadata": {},
   "outputs": [],
   "source": [
    "features_view1 = best_result[\"features_view1\"]\n",
    "features_view2 = best_result[\"features_view2\"];\n",
    "X_train_labelled_1 = [];\n",
    "X_train_labelled_2 = [];\n",
    "X_train_unlabelled_1 = [];\n",
    "X_train_unlabelled_2 = [];\n",
    "X_test_splitted_1 = [];\n",
    "X_test_splitted_2 = [];\n",
    "# labelled training data\n",
    "for sample_labelled in X_train_labelled:\n",
    "    new_sample_view1 = [];\n",
    "    new_sample_view2 = [];\n",
    "    for featureInd in range(len(sample_labelled)):\n",
    "        if (featureInd in features_view1):\n",
    "            new_sample_view1.append(sample_labelled[featureInd]);\n",
    "        if (featureInd in features_view2):\n",
    "            new_sample_view2.append(sample_labelled[featureInd]);\n",
    "    X_train_labelled_1.append(new_sample_view1);\n",
    "    X_train_labelled_2.append(new_sample_view2);\n",
    "# unlabelled training data\n",
    "for sample_unlabelled in X_train_unlabelled:\n",
    "    new_sample_view1 = [];\n",
    "    new_sample_view2 = [];\n",
    "    for featureInd in range(len(sample_unlabelled)):\n",
    "        if (featureInd in features_view1):\n",
    "            new_sample_view1.append(sample_unlabelled[featureInd]);\n",
    "        if (featureInd in features_view2):\n",
    "            new_sample_view2.append(sample_unlabelled[featureInd]);\n",
    "    X_train_unlabelled_1.append(new_sample_view1);\n",
    "    X_train_unlabelled_2.append(new_sample_view2);\n",
    "# test data\n",
    "for sample_test in X_test:\n",
    "    new_sample_view1 = [];\n",
    "    new_sample_view2 = [];\n",
    "    for featureInd in range(len(sample_test)):\n",
    "        if (featureInd in features_view1):\n",
    "            new_sample_view1.append(sample_test[featureInd]);\n",
    "        if (featureInd in features_view2):\n",
    "            new_sample_view2.append(sample_test[featureInd]);\n",
    "    X_test_splitted_1.append(new_sample_view1);\n",
    "    X_test_splitted_2.append(new_sample_view2);\n",
    "# columns\n",
    "columns_view1 = [];\n",
    "columns_view2 = [];\n",
    "for i in range(len(columns)):\n",
    "    column = columns[i];\n",
    "    if (i in features_view1):\n",
    "        columns_view1.append(column);\n",
    "    if (i in features_view2):\n",
    "        columns_view2.append(column);"
   ]
  },
  {
   "cell_type": "code",
   "execution_count": 17,
   "metadata": {},
   "outputs": [
    {
     "name": "stdout",
     "output_type": "stream",
     "text": [
      "Number of Samples in Classifier 1:  251\n",
      "Number of Samples in Classifier 2:  251\n",
      "Number of Features in the first Labelled Training Set:  6\n",
      "Number of Features in the second Labelled Training Set:  6\n"
     ]
    }
   ],
   "source": [
    "print(\"Number of Samples in Classifier 1: \", len(X_train_labelled_1));\n",
    "print(\"Number of Samples in Classifier 2: \", len(X_train_labelled_2));\n",
    "print(\"Number of Features in the first Labelled Training Set: \", len(X_train_labelled_1[random.randint(0, len(X_train_labelled_1)-1)]));\n",
    "print(\"Number of Features in the second Labelled Training Set: \", len(X_train_labelled_2[random.randint(0, len(X_train_labelled_2)-1)]));"
   ]
  },
  {
   "cell_type": "code",
   "execution_count": 18,
   "metadata": {},
   "outputs": [
    {
     "name": "stdout",
     "output_type": "stream",
     "text": [
      "Number of Unlabelled Samples in the first set:  1005\n",
      "Number of Unlabelled Samples in the second set:  1005\n",
      "Number of Features in the first Unlabelled Training Set:  6\n",
      "Number of Features in the second Unlabelled Training Set:  6\n"
     ]
    }
   ],
   "source": [
    "print(\"Number of Unlabelled Samples in the first set: \", len(X_train_unlabelled_1));\n",
    "print(\"Number of Unlabelled Samples in the second set: \", len(X_train_unlabelled_2));\n",
    "print(\"Number of Features in the first Unlabelled Training Set: \", len(X_train_unlabelled_1[random.randint(0, len(X_train_unlabelled_1)-1)]));\n",
    "print(\"Number of Features in the second Unlabelled Training Set: \", len(X_train_unlabelled_2[random.randint(0, len(X_train_unlabelled_2)-1)]));"
   ]
  },
  {
   "cell_type": "code",
   "execution_count": 19,
   "metadata": {},
   "outputs": [
    {
     "name": "stdout",
     "output_type": "stream",
     "text": [
      "Number of Test Samples in the first set:  629\n",
      "Number of Test Samples in the second set:  629\n",
      "Number of Features in the first Test Set:  6\n",
      "Number of Features in the second Test Set:  6\n"
     ]
    }
   ],
   "source": [
    "print(\"Number of Test Samples in the first set: \", len(X_test_splitted_1));\n",
    "print(\"Number of Test Samples in the second set: \", len(X_test_splitted_2));\n",
    "print(\"Number of Features in the first Test Set: \", len(X_test_splitted_1[random.randint(0, len(X_test_splitted_1)-1)]));\n",
    "print(\"Number of Features in the second Test Set: \", len(X_test_splitted_2[random.randint(0, len(X_test_splitted_2)-1)]));"
   ]
  },
  {
   "cell_type": "code",
   "execution_count": 20,
   "metadata": {},
   "outputs": [
    {
     "name": "stdout",
     "output_type": "stream",
     "text": [
      "Columns in a sample for training the 1st classifier:  ['age', 'country', 'escore', 'ascore', 'cscore', 'impuslive']\n",
      "Columns in a sample for training the 2nd classifier:  ['gender', 'education', 'ethnicity', 'nscore', 'oscore', 'ss']\n"
     ]
    }
   ],
   "source": [
    "print(\"Columns in a sample for training the 1st classifier: \", columns_view1);\n",
    "print(\"Columns in a sample for training the 2nd classifier: \", columns_view2);"
   ]
  },
  {
   "cell_type": "markdown",
   "metadata": {},
   "source": [
    "## Train the Replicated Models"
   ]
  },
  {
   "cell_type": "code",
   "execution_count": 21,
   "metadata": {},
   "outputs": [],
   "source": [
    "model1.fit(X_train_labelled_1, y_train_labelled);"
   ]
  },
  {
   "cell_type": "code",
   "execution_count": 22,
   "metadata": {},
   "outputs": [],
   "source": [
    "model2.fit(X_train_labelled_2, y_train_labelled);"
   ]
  },
  {
   "cell_type": "markdown",
   "metadata": {},
   "source": [
    "### Generate the Pseudo-Labels for Unlabelled Data from Predictions"
   ]
  },
  {
   "cell_type": "code",
   "execution_count": 23,
   "metadata": {},
   "outputs": [
    {
     "name": "stdout",
     "output_type": "stream",
     "text": [
      "Number of Predictions by the 1st classifier:  1005\n",
      "Number of items in the Prediction by the 1st classifier:  2\n",
      "Value range of the Prediction by the 1st classifier:  0.0003108398550494219 0.9996891601449506\n"
     ]
    }
   ],
   "source": [
    "y_pred_1 = model1.predict_proba(X_train_unlabelled_1);\n",
    "print(\"Number of Predictions by the 1st classifier: \", len(y_pred_1));\n",
    "# probablistic prediction: each number represents the probability of the sample being in the corresponding class\n",
    "print(\"Number of items in the Prediction by the 1st classifier: \", len(y_pred_1[random.randint(0, len(y_pred_1)-1)]));\n",
    "print(\"Value range of the Prediction by the 1st classifier: \", np.min(y_pred_1), np.max(y_pred_1));"
   ]
  },
  {
   "cell_type": "code",
   "execution_count": 24,
   "metadata": {},
   "outputs": [
    {
     "name": "stdout",
     "output_type": "stream",
     "text": [
      "Number of Predictions by the 2nd classifier:  1005\n",
      "Number of items in the Prediction by the 2nd classifier:  2\n",
      "Value range of the Prediction by the 2nd classifier:  0.010474734997604129 0.9895252650023959\n"
     ]
    }
   ],
   "source": [
    "y_pred_2 = model2.predict_proba(X_train_unlabelled_2);\n",
    "print(\"Number of Predictions by the 2nd classifier: \", len(y_pred_2));\n",
    "# probablistic prediction: each number represents the probability of the sample being in the corresponding class\n",
    "print(\"Number of items in the Prediction by the 2nd classifier: \", len(y_pred_2[random.randint(0, len(y_pred_2)-1)]));\n",
    "print(\"Value range of the Prediction by the 2nd classifier: \", np.min(y_pred_2), np.max(y_pred_2));"
   ]
  },
  {
   "cell_type": "markdown",
   "metadata": {},
   "source": [
    "#### Format the predictions array"
   ]
  },
  {
   "cell_type": "code",
   "execution_count": 25,
   "metadata": {},
   "outputs": [
    {
     "name": "stdout",
     "output_type": "stream",
     "text": [
      "Number of Predictions by the 1st classifier:  1005\n",
      "Unique Predictions by the 1st classifier:  [0 1]\n"
     ]
    }
   ],
   "source": [
    "y_pred_1 = np.argmax(y_pred_1, axis=1);\n",
    "print(\"Number of Predictions by the 1st classifier: \", len(y_pred_1));\n",
    "print(\"Unique Predictions by the 1st classifier: \", np.unique(y_pred_1));"
   ]
  },
  {
   "cell_type": "code",
   "execution_count": 26,
   "metadata": {},
   "outputs": [
    {
     "name": "stdout",
     "output_type": "stream",
     "text": [
      "Number of Predictions by the 2nd classifier:  1005\n",
      "Unique Predictions by the 2nd classifier:  [0 1]\n"
     ]
    }
   ],
   "source": [
    "y_pred_2 = np.argmax(y_pred_2, axis=1);\n",
    "print(\"Number of Predictions by the 2nd classifier: \", len(y_pred_2));\n",
    "print(\"Unique Predictions by the 2nd classifier: \", np.unique(y_pred_2));"
   ]
  },
  {
   "cell_type": "markdown",
   "metadata": {},
   "source": [
    "## Train the Models again with pseudo-labels"
   ]
  },
  {
   "cell_type": "code",
   "execution_count": 27,
   "metadata": {},
   "outputs": [],
   "source": [
    "model1.fit(X_train_unlabelled_1, y_pred_1);"
   ]
  },
  {
   "cell_type": "code",
   "execution_count": 28,
   "metadata": {},
   "outputs": [],
   "source": [
    "model2.fit(X_train_unlabelled_2, y_pred_2);"
   ]
  },
  {
   "cell_type": "code",
   "execution_count": 29,
   "metadata": {},
   "outputs": [],
   "source": [
    "# save the models\n",
    "joblib.dump(model1, os.path.join(\n",
    "    constants.MODEL_DIR,\n",
    "    constants.MODEL_COTRAIN_1_FILENAME\n",
    "));\n",
    "joblib.dump(model2, os.path.join(\n",
    "    constants.MODEL_DIR,\n",
    "    constants.MODEL_COTRAIN_2_FILENAME\n",
    "));"
   ]
  },
  {
   "cell_type": "markdown",
   "metadata": {},
   "source": [
    "## Evaluation"
   ]
  },
  {
   "cell_type": "markdown",
   "metadata": {},
   "source": [
    "### Make Predictions on the Test Set"
   ]
  },
  {
   "cell_type": "code",
   "execution_count": 30,
   "metadata": {},
   "outputs": [
    {
     "name": "stdout",
     "output_type": "stream",
     "text": [
      "Number of Predictions made:  629\n",
      "Unique Predictions:  [0 1]\n"
     ]
    }
   ],
   "source": [
    "y_pred_test_1 = model1.predict(X_test_splitted_1);\n",
    "print(\"Number of Predictions made: \", len(y_pred_test_1));\n",
    "print(\"Unique Predictions: \", np.unique(y_pred_test_1));"
   ]
  },
  {
   "cell_type": "code",
   "execution_count": 31,
   "metadata": {},
   "outputs": [
    {
     "name": "stdout",
     "output_type": "stream",
     "text": [
      "Number of Predictions made:  629\n",
      "Unique Predictions:  [0 1]\n"
     ]
    }
   ],
   "source": [
    "y_pred_test_2 = model2.predict(X_test_splitted_2);\n",
    "print(\"Number of Predictions made: \", len(y_pred_test_2));\n",
    "print(\"Unique Predictions: \", np.unique(y_pred_test_2));"
   ]
  },
  {
   "cell_type": "markdown",
   "metadata": {},
   "source": [
    "### Choose a Predicted Value to trust with"
   ]
  },
  {
   "cell_type": "code",
   "execution_count": 32,
   "metadata": {},
   "outputs": [
    {
     "name": "stdout",
     "output_type": "stream",
     "text": [
      "Number of Predictions made:  629\n",
      "Unique Predictions:  [0 1]\n"
     ]
    }
   ],
   "source": [
    "assert(len(y_pred_test_1) == len(y_pred_test_2));\n",
    "# decide the final prediction based on random split\n",
    "y_pred_test = [];\n",
    "for i in range(len(y_pred_test_1)):\n",
    "    if y_pred_test_1[i] == y_pred_test_2[i]:\n",
    "        y_pred_test.append(y_pred_test_1[i]);\n",
    "    else:\n",
    "        y_pred_test.append(random.choice([y_pred_test_1[i], y_pred_test_2[i]]));\n",
    "y_pred_test = np.array(y_pred_test);\n",
    "print(\"Number of Predictions made: \", len(y_pred_test));\n",
    "print(\"Unique Predictions: \", np.unique(y_pred_test));"
   ]
  },
  {
   "cell_type": "markdown",
   "metadata": {},
   "source": [
    "### Evaluate the Metrics"
   ]
  },
  {
   "cell_type": "code",
   "execution_count": 33,
   "metadata": {},
   "outputs": [
    {
     "name": "stdout",
     "output_type": "stream",
     "text": [
      "Number of correct predictions:  449\n",
      "Number of incorrect predictions:  180\n"
     ]
    }
   ],
   "source": [
    "evalArr = y_pred_test == y_test;\n",
    "print(\"Number of correct predictions: \", len(evalArr[evalArr == True]));\n",
    "print(\"Number of incorrect predictions: \", len(evalArr[evalArr == False]));"
   ]
  },
  {
   "cell_type": "code",
   "execution_count": 34,
   "metadata": {},
   "outputs": [
    {
     "name": "stdout",
     "output_type": "stream",
     "text": [
      "Accuracy:  0.7138314785373608\n",
      "Precision:  0.604\n",
      "Recall:  0.6508620689655172\n",
      "F1 Score:  0.6265560165975104\n"
     ]
    }
   ],
   "source": [
    "accuracy = evalAccuracy(y_pred_test, y_test);\n",
    "precision = evalPrecision(y_pred_test, y_test);\n",
    "recall = evalRecall(y_pred_test, y_test);\n",
    "f1Score = evalF1Score(y_pred_test, y_test);\n",
    "print(\"Accuracy: \", accuracy);\n",
    "print(\"Precision: \", precision);\n",
    "print(\"Recall: \", recall);\n",
    "print(\"F1 Score: \", f1Score);"
   ]
  },
  {
   "cell_type": "markdown",
   "metadata": {},
   "source": [
    "### Print the Confusion Matrix from the Test Set"
   ]
  },
  {
   "cell_type": "code",
   "execution_count": 35,
   "metadata": {},
   "outputs": [
    {
     "data": {
      "text/html": [
       "<div>\n",
       "<style scoped>\n",
       "    .dataframe tbody tr th:only-of-type {\n",
       "        vertical-align: middle;\n",
       "    }\n",
       "\n",
       "    .dataframe tbody tr th {\n",
       "        vertical-align: top;\n",
       "    }\n",
       "\n",
       "    .dataframe thead th {\n",
       "        text-align: right;\n",
       "    }\n",
       "</style>\n",
       "<table border=\"1\" class=\"dataframe\">\n",
       "  <thead>\n",
       "    <tr style=\"text-align: right;\">\n",
       "      <th>Predicted</th>\n",
       "      <th>user</th>\n",
       "      <th>non-user</th>\n",
       "      <th>All</th>\n",
       "    </tr>\n",
       "    <tr>\n",
       "      <th>Actual</th>\n",
       "      <th></th>\n",
       "      <th></th>\n",
       "      <th></th>\n",
       "    </tr>\n",
       "  </thead>\n",
       "  <tbody>\n",
       "    <tr>\n",
       "      <th>user</th>\n",
       "      <td>151</td>\n",
       "      <td>81</td>\n",
       "      <td>232</td>\n",
       "    </tr>\n",
       "    <tr>\n",
       "      <th>non-user</th>\n",
       "      <td>99</td>\n",
       "      <td>298</td>\n",
       "      <td>397</td>\n",
       "    </tr>\n",
       "    <tr>\n",
       "      <th>All</th>\n",
       "      <td>250</td>\n",
       "      <td>379</td>\n",
       "      <td>629</td>\n",
       "    </tr>\n",
       "  </tbody>\n",
       "</table>\n",
       "</div>"
      ],
      "text/plain": [
       "Predicted  user  non-user  All\n",
       "Actual                        \n",
       "user        151        81  232\n",
       "non-user     99       298  397\n",
       "All         250       379  629"
      ]
     },
     "execution_count": 35,
     "metadata": {},
     "output_type": "execute_result"
    }
   ],
   "source": [
    "printConfMtx(y_pred_test, y_test)"
   ]
  },
  {
   "cell_type": "markdown",
   "metadata": {},
   "source": [
    "### Display the ROC Curve and its Area Under the Curve (AUC)"
   ]
  },
  {
   "cell_type": "code",
   "execution_count": 39,
   "metadata": {},
   "outputs": [
    {
     "data": {
      "image/png": "[encoded data removed]",
      "text/plain": [
       "<Figure size 1000x800 with 1 Axes>"
      ]
     },
     "metadata": {},
     "output_type": "display_data"
    },
    {
     "name": "stdout",
     "output_type": "stream",
     "text": [
      "AUC of the Baseline Model: 0.7813015721358465\n",
      "AUC of the Self Training Model: 0.7852970555024754\n",
      "AUC of the 1st Co-Training Model: 0.5909026752366889\n",
      "AUC of the 2nd Co-Training Model: 0.2735114653000955\n"
     ]
    }
   ],
   "source": [
    "AUC_baseline, AUC_selftraining, AUC_cotraining1, AUC_cotraining2 = plotROC(\n",
    "    models={\n",
    "        \"Baseline Model\": joblib.load(os.path.join(\n",
    "            constants.MODEL_DIR,\n",
    "            constants.MODEL_FILENAME\n",
    "        )),\n",
    "        \"Self-Training Model\": joblib.load(os.path.join(\n",
    "            constants.MODEL_DIR,\n",
    "            constants.MODEL_SELFTRAIN_FILENAME\n",
    "        )),\n",
    "        \"Co-Training Model 1\": joblib.load(os.path.join(\n",
    "            constants.MODEL_DIR,\n",
    "            constants.MODEL_COTRAIN_1_FILENAME\n",
    "        )),\n",
    "        \"Co-Training Model 2\": joblib.load(os.path.join(\n",
    "            constants.MODEL_DIR,\n",
    "            constants.MODEL_COTRAIN_2_FILENAME\n",
    "        ))\n",
    "    },\n",
    "    X_test=X_test,\n",
    "    y_test=y_test,\n",
    "    feature_subsets={\n",
    "        \"Co-Training Model 1\": best_result[\"features_view1\"],\n",
    "        \"Co-Training Model 2\": best_result[\"features_view2\"],\n",
    "    },\n",
    "    dataset=\"mushroom\"\n",
    ");\n",
    "print(f\"AUC of the Baseline Model: {AUC_baseline}\");\n",
    "print(f\"AUC of the Self Training Model: {AUC_selftraining}\");\n",
    "print(f\"AUC of the 1st Co-Training Model: {AUC_cotraining1}\");\n",
    "print(f\"AUC of the 2nd Co-Training Model: {AUC_cotraining2}\");"
   ]
  }
 ],
 "metadata": {
  "kernelspec": {
   "display_name": "Python 3",
   "language": "python",
   "name": "python3"
  },
  "language_info": {
   "codemirror_mode": {
    "name": "ipython",
    "version": 3
   },
   "file_extension": ".py",
   "mimetype": "text/x-python",
   "name": "python",
   "nbconvert_exporter": "python",
   "pygments_lexer": "ipython3",
   "version": "3.10.7"
  }
 },
 "nbformat": 4,
 "nbformat_minor": 2
}
