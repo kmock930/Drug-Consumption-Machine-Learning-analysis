{
 "cells": [
  {
   "cell_type": "markdown",
   "metadata": {},
   "source": [
    "# Semi Supervised Learning - Co-Training Model"
   ]
  },
  {
   "cell_type": "markdown",
   "metadata": {},
   "source": [
    "This notebook is to perform semi-supervised learning by using the co-training algorithm from the baseline model. The baseline model is developed in `CSI5155 Project - baseline.ipynb`."
   ]
  },
  {
   "cell_type": "markdown",
   "metadata": {},
   "source": [
    "## Import Necessary Packages"
   ]
  },
  {
   "cell_type": "code",
   "execution_count": 1,
   "metadata": {},
   "outputs": [],
   "source": [
    "import numpy as np;\n",
    "import os;\n",
    "import sys;\n",
    "import joblib;\n",
    "import random;\n",
    "from sklearn.model_selection import train_test_split;\n",
    "import json;\n",
    "import pandas as pd;\n",
    "import matplotlib.pyplot as plt;\n",
    "# importing custom modules\n",
    "sys.path.append(\"../Assignment 1 - Model Comparison/\");\n",
    "from fileOrganizer import unpack;\n",
    "from performance import evalAccuracy, evalPrecision, evalRecall, evalF1Score, printConfMtx, plotROC;\n",
    "import constants;\n",
    "from model.cotraining import random_split_features, pca_based_split, correlation_based_split, importance_based_split, evaluate_feature_split_methods, plot_confusion_matrix, plot_roc_curve;"
   ]
  },
  {
   "cell_type": "markdown",
   "metadata": {},
   "source": [
    "## Load the Data"
   ]
  },
  {
   "cell_type": "markdown",
   "metadata": {},
   "source": [
    "Original Dataset (without labelling/unlabelling, but normalized)"
   ]
  },
  {
   "cell_type": "code",
   "execution_count": 2,
   "metadata": {},
   "outputs": [
    {
     "name": "stdout",
     "output_type": "stream",
     "text": [
      "Number of Normalized Samples in Training Set:  1256\n",
      "Number of Features in the Normalized Training Set:  12\n",
      "Value range of the original Training Set:  -4.827248760778992 13.457018899436779\n"
     ]
    }
   ],
   "source": [
    "mush_X_train_norm = joblib.load(os.path.join(\n",
    "    os.pardir,\n",
    "    constants.ASM1_DIR,\n",
    "    constants.MUSH_DIR,\n",
    "    constants.TRAIN_DIR,\n",
    "    constants.X_TRAIN_NORMALIZED_FILENAME\n",
    "));\n",
    "print(\"Number of Normalized Samples in Training Set: \", len(mush_X_train_norm));\n",
    "print(\"Number of Features in the Normalized Training Set: \", len(mush_X_train_norm[random.randint(0, len(mush_X_train_norm)-1)]));\n",
    "print(\"Value range of the original Training Set: \", np.min(mush_X_train_norm), np.max(mush_X_train_norm));"
   ]
  },
  {
   "cell_type": "code",
   "execution_count": 3,
   "metadata": {},
   "outputs": [
    {
     "name": "stdout",
     "output_type": "stream",
     "text": [
      "Number of Samples in Training Set:  1256\n",
      "Unique Labels in Training Set:  [0 1]\n"
     ]
    }
   ],
   "source": [
    "mush_y_train_norm = joblib.load(os.path.join(\n",
    "    os.pardir,\n",
    "    constants.ASM1_DIR,\n",
    "    constants.MUSH_DIR,\n",
    "    constants.TRAIN_DIR,\n",
    "    constants.Y_TRAIN_NORMALIZED_FILENAME\n",
    "));\n",
    "print(\"Number of Samples in Training Set: \", len(mush_y_train_norm));\n",
    "print(\"Unique Labels in Training Set: \", np.unique(mush_y_train_norm));"
   ]
  },
  {
   "cell_type": "code",
   "execution_count": 4,
   "metadata": {},
   "outputs": [
    {
     "name": "stdout",
     "output_type": "stream",
     "text": [
      "Number of Normalized Samples in Testing Set:  629\n",
      "Number of Features in the Normalized Testing Set:  12\n",
      "Value range of the Normalized Testing Set:  -4.827248760778992 13.457018899436779\n"
     ]
    }
   ],
   "source": [
    "mush_X_test_norm = joblib.load(os.path.join(\n",
    "    os.pardir,\n",
    "    constants.ASM1_DIR,\n",
    "    constants.MUSH_DIR,\n",
    "    constants.TEST_DIR,\n",
    "    constants.X_TEST_NORMALIZED_FILENAME\n",
    "));\n",
    "print(\"Number of Normalized Samples in Testing Set: \", len(mush_X_test_norm));\n",
    "print(\"Number of Features in the Normalized Testing Set: \", len(mush_X_test_norm[random.randint(0, len(mush_X_test_norm)-1)]));\n",
    "print(\"Value range of the Normalized Testing Set: \", np.min(mush_X_test_norm), np.max(mush_X_test_norm));"
   ]
  },
  {
   "cell_type": "code",
   "execution_count": 5,
   "metadata": {},
   "outputs": [
    {
     "name": "stdout",
     "output_type": "stream",
     "text": [
      "Number of Samples in Testing Set:  629\n",
      "Unique Labels in Testing Set:  [0 1]\n"
     ]
    }
   ],
   "source": [
    "mush_y_test_norm = joblib.load(os.path.join(\n",
    "    os.pardir,\n",
    "    constants.ASM1_DIR,\n",
    "    constants.MUSH_DIR,\n",
    "    constants.TEST_DIR,\n",
    "    constants.Y_TEST_NORMALIZED_FILENAME\n",
    "));\n",
    "print(\"Number of Samples in Testing Set: \", len(mush_y_test_norm));\n",
    "print(\"Unique Labels in Testing Set: \", np.unique(mush_y_test_norm));"
   ]
  },
  {
   "cell_type": "markdown",
   "metadata": {},
   "source": [
    "Labelled Data"
   ]
  },
  {
   "cell_type": "code",
   "execution_count": 6,
   "metadata": {},
   "outputs": [
    {
     "name": "stdout",
     "output_type": "stream",
     "text": [
      "Number of Labelled Samples:  251\n",
      "Number of Features in the Labelled Training Set:  12\n",
      "Value range of the Labelled Training Set:  -4.827248760778992 3.262658784576777\n"
     ]
    }
   ],
   "source": [
    "X_train_labelled = unpack(os.path.join(\n",
    "    constants.TRAIN_DIR,\n",
    "    constants.X_TRAIN_LABELLED_FILENAME\n",
    "));\n",
    "print(\"Number of Labelled Samples: \", len(X_train_labelled));\n",
    "print(\"Number of Features in the Labelled Training Set: \", len(X_train_labelled[random.randint(0, len(X_train_labelled)-1)]));\n",
    "print(\"Value range of the Labelled Training Set: \", np.min(X_train_labelled), np.max(X_train_labelled));"
   ]
  },
  {
   "cell_type": "code",
   "execution_count": 7,
   "metadata": {},
   "outputs": [
    {
     "name": "stdout",
     "output_type": "stream",
     "text": [
      "Number of Labelled Labels:  251\n",
      "Unique Labels:  [0 1]\n"
     ]
    }
   ],
   "source": [
    "y_train_labelled = unpack(os.path.join(\n",
    "    constants.TRAIN_DIR,\n",
    "    constants.Y_TRAIN_LABELLED_FILENAME\n",
    "));\n",
    "print(\"Number of Labelled Labels: \", len(y_train_labelled));\n",
    "print(\"Unique Labels: \", np.unique(y_train_labelled));"
   ]
  },
  {
   "cell_type": "markdown",
   "metadata": {},
   "source": [
    "Unlabelled Data"
   ]
  },
  {
   "cell_type": "code",
   "execution_count": 8,
   "metadata": {},
   "outputs": [
    {
     "name": "stdout",
     "output_type": "stream",
     "text": [
      "Number of Unlabelled Samples:  1005\n",
      "Number of Features in the Unlabelled Training Set:  12\n",
      "Value range of the Unlabelled Training Set:  -4.827248760778992 13.457018899436779\n"
     ]
    }
   ],
   "source": [
    "X_train_unlabelled = unpack(os.path.join(\n",
    "    constants.TRAIN_DIR,\n",
    "    constants.X_TRAIN_UNLABELLED_FILENAME\n",
    "));\n",
    "print(\"Number of Unlabelled Samples: \", len(X_train_unlabelled));\n",
    "print(\"Number of Features in the Unlabelled Training Set: \", len(X_train_unlabelled[random.randint(0, len(X_train_unlabelled)-1)]));\n",
    "print(\"Value range of the Unlabelled Training Set: \", np.min(X_train_unlabelled), np.max(X_train_unlabelled));"
   ]
  },
  {
   "cell_type": "code",
   "execution_count": 9,
   "metadata": {},
   "outputs": [
    {
     "name": "stdout",
     "output_type": "stream",
     "text": [
      "Number of Unlabelled Labels:  1005\n",
      "Unique Labels:  [0 1]\n"
     ]
    }
   ],
   "source": [
    "# This is the true labels for the supposedly unlabelled data\n",
    "# for debugging purpose!!!\n",
    "y_train_unlabelled = unpack(os.path.join(\n",
    "    constants.TRAIN_DIR,\n",
    "    constants.Y_TRAIN_UNLABELLED_FILENAME\n",
    "));\n",
    "print(\"Number of Unlabelled Labels: \", len(y_train_unlabelled));\n",
    "print(\"Unique Labels: \", np.unique(y_train_unlabelled));"
   ]
  },
  {
   "cell_type": "markdown",
   "metadata": {},
   "source": [
    "Test Data"
   ]
  },
  {
   "cell_type": "code",
   "execution_count": 10,
   "metadata": {},
   "outputs": [
    {
     "name": "stdout",
     "output_type": "stream",
     "text": [
      "Number of Normalized Samples in Testing Set:  629\n",
      "Number of Features in the Normalized Testing Set:  12\n",
      "Value range of the Normalized Testing Set:  -4.827248760778992 13.457018899436779\n"
     ]
    }
   ],
   "source": [
    "mush_X_test_norm = joblib.load(os.path.join(\n",
    "    os.pardir,\n",
    "    constants.ASM1_DIR,\n",
    "    constants.MUSH_DIR,\n",
    "    constants.TEST_DIR,\n",
    "    constants.X_TEST_NORMALIZED_FILENAME\n",
    "));\n",
    "print(\"Number of Normalized Samples in Testing Set: \", len(mush_X_test_norm));\n",
    "print(\"Number of Features in the Normalized Testing Set: \", len(mush_X_test_norm[random.randint(0, len(mush_X_test_norm)-1)]));\n",
    "print(\"Value range of the Normalized Testing Set: \", np.min(mush_X_test_norm), np.max(mush_X_test_norm));"
   ]
  },
  {
   "cell_type": "code",
   "execution_count": 11,
   "metadata": {},
   "outputs": [
    {
     "name": "stdout",
     "output_type": "stream",
     "text": [
      "Number of Samples in Testing Set:  629\n",
      "Unique Labels in Testing Set:  [0 1]\n"
     ]
    }
   ],
   "source": [
    "mush_y_test_norm = joblib.load(os.path.join(\n",
    "    os.pardir,\n",
    "    constants.ASM1_DIR,\n",
    "    constants.MUSH_DIR,\n",
    "    constants.TEST_DIR,\n",
    "    constants.Y_TEST_NORMALIZED_FILENAME\n",
    "));\n",
    "print(\"Number of Samples in Testing Set: \", len(mush_y_test_norm));\n",
    "print(\"Unique Labels in Testing Set: \", np.unique(mush_y_test_norm));"
   ]
  },
  {
   "cell_type": "markdown",
   "metadata": {},
   "source": [
    "## Load the Column Names"
   ]
  },
  {
   "cell_type": "code",
   "execution_count": 12,
   "metadata": {},
   "outputs": [
    {
     "name": "stdout",
     "output_type": "stream",
     "text": [
      "Columns in a sample:  ['age' 'gender' 'education' 'country' 'ethnicity' 'nscore' 'escore'\n",
      " 'oscore' 'ascore' 'cscore' 'impuslive' 'ss']\n"
     ]
    }
   ],
   "source": [
    "columns = joblib.load(os.path.join(\n",
    "    constants.COLUMNS_DIR,\n",
    "    constants.COLUMNS_FILENAME\n",
    "));\n",
    "print(\"Columns in a sample: \", columns);"
   ]
  },
  {
   "cell_type": "markdown",
   "metadata": {},
   "source": [
    "## Load the Model"
   ]
  },
  {
   "cell_type": "markdown",
   "metadata": {},
   "source": [
    "Note: We already trained the Gradient Boosting classifier with the labelled data in this notebook `CSI5155 Project - baseline.ipynb`. We load 2 models to perform co-training on a subset of features in the data in each classifier."
   ]
  },
  {
   "cell_type": "code",
   "execution_count": 13,
   "metadata": {},
   "outputs": [
    {
     "data": {
      "text/html": [
       "<style>#sk-container-id-1 {color: black;background-color: white;}#sk-container-id-1 pre{padding: 0;}#sk-container-id-1 div.sk-toggleable {background-color: white;}#sk-container-id-1 label.sk-toggleable__label {cursor: pointer;display: block;width: 100%;margin-bottom: 0;padding: 0.3em;box-sizing: border-box;text-align: center;}#sk-container-id-1 label.sk-toggleable__label-arrow:before {content: \"▸\";float: left;margin-right: 0.25em;color: #696969;}#sk-container-id-1 label.sk-toggleable__label-arrow:hover:before {color: black;}#sk-container-id-1 div.sk-estimator:hover label.sk-toggleable__label-arrow:before {color: black;}#sk-container-id-1 div.sk-toggleable__content {max-height: 0;max-width: 0;overflow: hidden;text-align: left;background-color: #f0f8ff;}#sk-container-id-1 div.sk-toggleable__content pre {margin: 0.2em;color: black;border-radius: 0.25em;background-color: #f0f8ff;}#sk-container-id-1 input.sk-toggleable__control:checked~div.sk-toggleable__content {max-height: 200px;max-width: 100%;overflow: auto;}#sk-container-id-1 input.sk-toggleable__control:checked~label.sk-toggleable__label-arrow:before {content: \"▾\";}#sk-container-id-1 div.sk-estimator input.sk-toggleable__control:checked~label.sk-toggleable__label {background-color: #d4ebff;}#sk-container-id-1 div.sk-label input.sk-toggleable__control:checked~label.sk-toggleable__label {background-color: #d4ebff;}#sk-container-id-1 input.sk-hidden--visually {border: 0;clip: rect(1px 1px 1px 1px);clip: rect(1px, 1px, 1px, 1px);height: 1px;margin: -1px;overflow: hidden;padding: 0;position: absolute;width: 1px;}#sk-container-id-1 div.sk-estimator {font-family: monospace;background-color: #f0f8ff;border: 1px dotted black;border-radius: 0.25em;box-sizing: border-box;margin-bottom: 0.5em;}#sk-container-id-1 div.sk-estimator:hover {background-color: #d4ebff;}#sk-container-id-1 div.sk-parallel-item::after {content: \"\";width: 100%;border-bottom: 1px solid gray;flex-grow: 1;}#sk-container-id-1 div.sk-label:hover label.sk-toggleable__label {background-color: #d4ebff;}#sk-container-id-1 div.sk-serial::before {content: \"\";position: absolute;border-left: 1px solid gray;box-sizing: border-box;top: 0;bottom: 0;left: 50%;z-index: 0;}#sk-container-id-1 div.sk-serial {display: flex;flex-direction: column;align-items: center;background-color: white;padding-right: 0.2em;padding-left: 0.2em;position: relative;}#sk-container-id-1 div.sk-item {position: relative;z-index: 1;}#sk-container-id-1 div.sk-parallel {display: flex;align-items: stretch;justify-content: center;background-color: white;position: relative;}#sk-container-id-1 div.sk-item::before, #sk-container-id-1 div.sk-parallel-item::before {content: \"\";position: absolute;border-left: 1px solid gray;box-sizing: border-box;top: 0;bottom: 0;left: 50%;z-index: -1;}#sk-container-id-1 div.sk-parallel-item {display: flex;flex-direction: column;z-index: 1;position: relative;background-color: white;}#sk-container-id-1 div.sk-parallel-item:first-child::after {align-self: flex-end;width: 50%;}#sk-container-id-1 div.sk-parallel-item:last-child::after {align-self: flex-start;width: 50%;}#sk-container-id-1 div.sk-parallel-item:only-child::after {width: 0;}#sk-container-id-1 div.sk-dashed-wrapped {border: 1px dashed gray;margin: 0 0.4em 0.5em 0.4em;box-sizing: border-box;padding-bottom: 0.4em;background-color: white;}#sk-container-id-1 div.sk-label label {font-family: monospace;font-weight: bold;display: inline-block;line-height: 1.2em;}#sk-container-id-1 div.sk-label-container {text-align: center;}#sk-container-id-1 div.sk-container {/* jupyter's `normalize.less` sets `[hidden] { display: none; }` but bootstrap.min.css set `[hidden] { display: none !important; }` so we also need the `!important` here to be able to override the default hidden behavior on the sphinx rendered scikit-learn.org. See: https://github.com/scikit-learn/scikit-learn/issues/21755 */display: inline-block !important;position: relative;}#sk-container-id-1 div.sk-text-repr-fallback {display: none;}</style><div id=\"sk-container-id-1\" class=\"sk-top-container\"><div class=\"sk-text-repr-fallback\"><pre>RandomizedSearchCV(estimator=GradientBoostingClassifier(),\n",
       "                   param_distributions={&#x27;max_depth&#x27;: array([ 6,  8,  4, 14, 12,  9,  9,  3,  7, 17, 19,  1, 19, 17, 15, 12, 16,\n",
       "       18,  2,  8, 15,  9, 12,  2,  8, 17, 11,  1, 14, 15, 13,  4,  1, 19,\n",
       "       12, 15,  6, 19,  9, 17, 10, 12, 16,  3,  5, 13, 10, 19,  5,  5,  4,\n",
       "       10,  6,  4,  5,  2, 17,  1,  1,  5, 10,  1, 10, 11,  8, 14, 13, 12,\n",
       "        8, 17, 14,  1,  3,  4, 19, 10,  6, 19, 14,  2, 19, 15, 13,  7,  5,\n",
       "        3,  4,  3, 14, 10,  5, 16, 10,  5, 16, 15,  4,  8, 17,  8],\n",
       "      dtype=int64),\n",
       "                                        &#x27;min_samples_split&#x27;: &lt;scipy.stats._distn_infrastructure.rv_continuous_frozen object at 0x00000194E4FDE620&gt;},\n",
       "                   random_state=42)</pre><b>In a Jupyter environment, please rerun this cell to show the HTML representation or trust the notebook. <br />On GitHub, the HTML representation is unable to render, please try loading this page with nbviewer.org.</b></div><div class=\"sk-container\" hidden><div class=\"sk-item sk-dashed-wrapped\"><div class=\"sk-label-container\"><div class=\"sk-label sk-toggleable\"><input class=\"sk-toggleable__control sk-hidden--visually\" id=\"sk-estimator-id-1\" type=\"checkbox\" ><label for=\"sk-estimator-id-1\" class=\"sk-toggleable__label sk-toggleable__label-arrow\">RandomizedSearchCV</label><div class=\"sk-toggleable__content\"><pre>RandomizedSearchCV(estimator=GradientBoostingClassifier(),\n",
       "                   param_distributions={&#x27;max_depth&#x27;: array([ 6,  8,  4, 14, 12,  9,  9,  3,  7, 17, 19,  1, 19, 17, 15, 12, 16,\n",
       "       18,  2,  8, 15,  9, 12,  2,  8, 17, 11,  1, 14, 15, 13,  4,  1, 19,\n",
       "       12, 15,  6, 19,  9, 17, 10, 12, 16,  3,  5, 13, 10, 19,  5,  5,  4,\n",
       "       10,  6,  4,  5,  2, 17,  1,  1,  5, 10,  1, 10, 11,  8, 14, 13, 12,\n",
       "        8, 17, 14,  1,  3,  4, 19, 10,  6, 19, 14,  2, 19, 15, 13,  7,  5,\n",
       "        3,  4,  3, 14, 10,  5, 16, 10,  5, 16, 15,  4,  8, 17,  8],\n",
       "      dtype=int64),\n",
       "                                        &#x27;min_samples_split&#x27;: &lt;scipy.stats._distn_infrastructure.rv_continuous_frozen object at 0x00000194E4FDE620&gt;},\n",
       "                   random_state=42)</pre></div></div></div><div class=\"sk-parallel\"><div class=\"sk-parallel-item\"><div class=\"sk-item\"><div class=\"sk-label-container\"><div class=\"sk-label sk-toggleable\"><input class=\"sk-toggleable__control sk-hidden--visually\" id=\"sk-estimator-id-2\" type=\"checkbox\" ><label for=\"sk-estimator-id-2\" class=\"sk-toggleable__label sk-toggleable__label-arrow\">estimator: GradientBoostingClassifier</label><div class=\"sk-toggleable__content\"><pre>GradientBoostingClassifier()</pre></div></div></div><div class=\"sk-serial\"><div class=\"sk-item\"><div class=\"sk-estimator sk-toggleable\"><input class=\"sk-toggleable__control sk-hidden--visually\" id=\"sk-estimator-id-3\" type=\"checkbox\" ><label for=\"sk-estimator-id-3\" class=\"sk-toggleable__label sk-toggleable__label-arrow\">GradientBoostingClassifier</label><div class=\"sk-toggleable__content\"><pre>GradientBoostingClassifier()</pre></div></div></div></div></div></div></div></div></div></div>"
      ],
      "text/plain": [
       "RandomizedSearchCV(estimator=GradientBoostingClassifier(),\n",
       "                   param_distributions={'max_depth': array([ 6,  8,  4, 14, 12,  9,  9,  3,  7, 17, 19,  1, 19, 17, 15, 12, 16,\n",
       "       18,  2,  8, 15,  9, 12,  2,  8, 17, 11,  1, 14, 15, 13,  4,  1, 19,\n",
       "       12, 15,  6, 19,  9, 17, 10, 12, 16,  3,  5, 13, 10, 19,  5,  5,  4,\n",
       "       10,  6,  4,  5,  2, 17,  1,  1,  5, 10,  1, 10, 11,  8, 14, 13, 12,\n",
       "        8, 17, 14,  1,  3,  4, 19, 10,  6, 19, 14,  2, 19, 15, 13,  7,  5,\n",
       "        3,  4,  3, 14, 10,  5, 16, 10,  5, 16, 15,  4,  8, 17,  8],\n",
       "      dtype=int64),\n",
       "                                        'min_samples_split': <scipy.stats._distn_infrastructure.rv_continuous_frozen object at 0x00000194E4FDE620>},\n",
       "                   random_state=42)"
      ]
     },
     "execution_count": 13,
     "metadata": {},
     "output_type": "execute_result"
    }
   ],
   "source": [
    "model1 = unpack(os.path.join(\n",
    "    constants.MODEL_DIR,\n",
    "    constants.MODEL_FILENAME\n",
    "));\n",
    "model1"
   ]
  },
  {
   "cell_type": "code",
   "execution_count": 14,
   "metadata": {},
   "outputs": [
    {
     "data": {
      "text/html": [
       "<style>#sk-container-id-2 {color: black;background-color: white;}#sk-container-id-2 pre{padding: 0;}#sk-container-id-2 div.sk-toggleable {background-color: white;}#sk-container-id-2 label.sk-toggleable__label {cursor: pointer;display: block;width: 100%;margin-bottom: 0;padding: 0.3em;box-sizing: border-box;text-align: center;}#sk-container-id-2 label.sk-toggleable__label-arrow:before {content: \"▸\";float: left;margin-right: 0.25em;color: #696969;}#sk-container-id-2 label.sk-toggleable__label-arrow:hover:before {color: black;}#sk-container-id-2 div.sk-estimator:hover label.sk-toggleable__label-arrow:before {color: black;}#sk-container-id-2 div.sk-toggleable__content {max-height: 0;max-width: 0;overflow: hidden;text-align: left;background-color: #f0f8ff;}#sk-container-id-2 div.sk-toggleable__content pre {margin: 0.2em;color: black;border-radius: 0.25em;background-color: #f0f8ff;}#sk-container-id-2 input.sk-toggleable__control:checked~div.sk-toggleable__content {max-height: 200px;max-width: 100%;overflow: auto;}#sk-container-id-2 input.sk-toggleable__control:checked~label.sk-toggleable__label-arrow:before {content: \"▾\";}#sk-container-id-2 div.sk-estimator input.sk-toggleable__control:checked~label.sk-toggleable__label {background-color: #d4ebff;}#sk-container-id-2 div.sk-label input.sk-toggleable__control:checked~label.sk-toggleable__label {background-color: #d4ebff;}#sk-container-id-2 input.sk-hidden--visually {border: 0;clip: rect(1px 1px 1px 1px);clip: rect(1px, 1px, 1px, 1px);height: 1px;margin: -1px;overflow: hidden;padding: 0;position: absolute;width: 1px;}#sk-container-id-2 div.sk-estimator {font-family: monospace;background-color: #f0f8ff;border: 1px dotted black;border-radius: 0.25em;box-sizing: border-box;margin-bottom: 0.5em;}#sk-container-id-2 div.sk-estimator:hover {background-color: #d4ebff;}#sk-container-id-2 div.sk-parallel-item::after {content: \"\";width: 100%;border-bottom: 1px solid gray;flex-grow: 1;}#sk-container-id-2 div.sk-label:hover label.sk-toggleable__label {background-color: #d4ebff;}#sk-container-id-2 div.sk-serial::before {content: \"\";position: absolute;border-left: 1px solid gray;box-sizing: border-box;top: 0;bottom: 0;left: 50%;z-index: 0;}#sk-container-id-2 div.sk-serial {display: flex;flex-direction: column;align-items: center;background-color: white;padding-right: 0.2em;padding-left: 0.2em;position: relative;}#sk-container-id-2 div.sk-item {position: relative;z-index: 1;}#sk-container-id-2 div.sk-parallel {display: flex;align-items: stretch;justify-content: center;background-color: white;position: relative;}#sk-container-id-2 div.sk-item::before, #sk-container-id-2 div.sk-parallel-item::before {content: \"\";position: absolute;border-left: 1px solid gray;box-sizing: border-box;top: 0;bottom: 0;left: 50%;z-index: -1;}#sk-container-id-2 div.sk-parallel-item {display: flex;flex-direction: column;z-index: 1;position: relative;background-color: white;}#sk-container-id-2 div.sk-parallel-item:first-child::after {align-self: flex-end;width: 50%;}#sk-container-id-2 div.sk-parallel-item:last-child::after {align-self: flex-start;width: 50%;}#sk-container-id-2 div.sk-parallel-item:only-child::after {width: 0;}#sk-container-id-2 div.sk-dashed-wrapped {border: 1px dashed gray;margin: 0 0.4em 0.5em 0.4em;box-sizing: border-box;padding-bottom: 0.4em;background-color: white;}#sk-container-id-2 div.sk-label label {font-family: monospace;font-weight: bold;display: inline-block;line-height: 1.2em;}#sk-container-id-2 div.sk-label-container {text-align: center;}#sk-container-id-2 div.sk-container {/* jupyter's `normalize.less` sets `[hidden] { display: none; }` but bootstrap.min.css set `[hidden] { display: none !important; }` so we also need the `!important` here to be able to override the default hidden behavior on the sphinx rendered scikit-learn.org. See: https://github.com/scikit-learn/scikit-learn/issues/21755 */display: inline-block !important;position: relative;}#sk-container-id-2 div.sk-text-repr-fallback {display: none;}</style><div id=\"sk-container-id-2\" class=\"sk-top-container\"><div class=\"sk-text-repr-fallback\"><pre>RandomizedSearchCV(estimator=GradientBoostingClassifier(),\n",
       "                   param_distributions={&#x27;max_depth&#x27;: array([ 6,  8,  4, 14, 12,  9,  9,  3,  7, 17, 19,  1, 19, 17, 15, 12, 16,\n",
       "       18,  2,  8, 15,  9, 12,  2,  8, 17, 11,  1, 14, 15, 13,  4,  1, 19,\n",
       "       12, 15,  6, 19,  9, 17, 10, 12, 16,  3,  5, 13, 10, 19,  5,  5,  4,\n",
       "       10,  6,  4,  5,  2, 17,  1,  1,  5, 10,  1, 10, 11,  8, 14, 13, 12,\n",
       "        8, 17, 14,  1,  3,  4, 19, 10,  6, 19, 14,  2, 19, 15, 13,  7,  5,\n",
       "        3,  4,  3, 14, 10,  5, 16, 10,  5, 16, 15,  4,  8, 17,  8],\n",
       "      dtype=int64),\n",
       "                                        &#x27;min_samples_split&#x27;: &lt;scipy.stats._distn_infrastructure.rv_continuous_frozen object at 0x00000194E4FDFA30&gt;},\n",
       "                   random_state=42)</pre><b>In a Jupyter environment, please rerun this cell to show the HTML representation or trust the notebook. <br />On GitHub, the HTML representation is unable to render, please try loading this page with nbviewer.org.</b></div><div class=\"sk-container\" hidden><div class=\"sk-item sk-dashed-wrapped\"><div class=\"sk-label-container\"><div class=\"sk-label sk-toggleable\"><input class=\"sk-toggleable__control sk-hidden--visually\" id=\"sk-estimator-id-4\" type=\"checkbox\" ><label for=\"sk-estimator-id-4\" class=\"sk-toggleable__label sk-toggleable__label-arrow\">RandomizedSearchCV</label><div class=\"sk-toggleable__content\"><pre>RandomizedSearchCV(estimator=GradientBoostingClassifier(),\n",
       "                   param_distributions={&#x27;max_depth&#x27;: array([ 6,  8,  4, 14, 12,  9,  9,  3,  7, 17, 19,  1, 19, 17, 15, 12, 16,\n",
       "       18,  2,  8, 15,  9, 12,  2,  8, 17, 11,  1, 14, 15, 13,  4,  1, 19,\n",
       "       12, 15,  6, 19,  9, 17, 10, 12, 16,  3,  5, 13, 10, 19,  5,  5,  4,\n",
       "       10,  6,  4,  5,  2, 17,  1,  1,  5, 10,  1, 10, 11,  8, 14, 13, 12,\n",
       "        8, 17, 14,  1,  3,  4, 19, 10,  6, 19, 14,  2, 19, 15, 13,  7,  5,\n",
       "        3,  4,  3, 14, 10,  5, 16, 10,  5, 16, 15,  4,  8, 17,  8],\n",
       "      dtype=int64),\n",
       "                                        &#x27;min_samples_split&#x27;: &lt;scipy.stats._distn_infrastructure.rv_continuous_frozen object at 0x00000194E4FDFA30&gt;},\n",
       "                   random_state=42)</pre></div></div></div><div class=\"sk-parallel\"><div class=\"sk-parallel-item\"><div class=\"sk-item\"><div class=\"sk-label-container\"><div class=\"sk-label sk-toggleable\"><input class=\"sk-toggleable__control sk-hidden--visually\" id=\"sk-estimator-id-5\" type=\"checkbox\" ><label for=\"sk-estimator-id-5\" class=\"sk-toggleable__label sk-toggleable__label-arrow\">estimator: GradientBoostingClassifier</label><div class=\"sk-toggleable__content\"><pre>GradientBoostingClassifier()</pre></div></div></div><div class=\"sk-serial\"><div class=\"sk-item\"><div class=\"sk-estimator sk-toggleable\"><input class=\"sk-toggleable__control sk-hidden--visually\" id=\"sk-estimator-id-6\" type=\"checkbox\" ><label for=\"sk-estimator-id-6\" class=\"sk-toggleable__label sk-toggleable__label-arrow\">GradientBoostingClassifier</label><div class=\"sk-toggleable__content\"><pre>GradientBoostingClassifier()</pre></div></div></div></div></div></div></div></div></div></div>"
      ],
      "text/plain": [
       "RandomizedSearchCV(estimator=GradientBoostingClassifier(),\n",
       "                   param_distributions={'max_depth': array([ 6,  8,  4, 14, 12,  9,  9,  3,  7, 17, 19,  1, 19, 17, 15, 12, 16,\n",
       "       18,  2,  8, 15,  9, 12,  2,  8, 17, 11,  1, 14, 15, 13,  4,  1, 19,\n",
       "       12, 15,  6, 19,  9, 17, 10, 12, 16,  3,  5, 13, 10, 19,  5,  5,  4,\n",
       "       10,  6,  4,  5,  2, 17,  1,  1,  5, 10,  1, 10, 11,  8, 14, 13, 12,\n",
       "        8, 17, 14,  1,  3,  4, 19, 10,  6, 19, 14,  2, 19, 15, 13,  7,  5,\n",
       "        3,  4,  3, 14, 10,  5, 16, 10,  5, 16, 15,  4,  8, 17,  8],\n",
       "      dtype=int64),\n",
       "                                        'min_samples_split': <scipy.stats._distn_infrastructure.rv_continuous_frozen object at 0x00000194E4FDFA30>},\n",
       "                   random_state=42)"
      ]
     },
     "execution_count": 14,
     "metadata": {},
     "output_type": "execute_result"
    }
   ],
   "source": [
    "model2 = unpack(os.path.join(\n",
    "    constants.MODEL_DIR,\n",
    "    constants.MODEL_FILENAME\n",
    "));\n",
    "model2"
   ]
  },
  {
   "cell_type": "markdown",
   "metadata": {},
   "source": [
    "## Co-Training Algorithm"
   ]
  },
  {
   "cell_type": "markdown",
   "metadata": {},
   "source": [
    "We now intend to train 2 classifiers so that they iteratively label each other's\n",
    "unlabeled instances"
   ]
  },
  {
   "cell_type": "markdown",
   "metadata": {},
   "source": [
    "### Compare and Experiment whichever method we should use to split our features in the co-training algorithm."
   ]
  },
  {
   "cell_type": "code",
   "execution_count": 15,
   "metadata": {},
   "outputs": [
    {
     "name": "stdout",
     "output_type": "stream",
     "text": [
      "\n",
      "=== Evaluating with View Size Ratio: 0.3 ===\n",
      "\n",
      "=== Evaluating Method: random_split_features ===\n",
      "Number of features in view 1: 3\n",
      "Number of features in view 2: 9\n",
      "Method: random_split_features | AUC: 0.7718 | Accuracy: 0.6836\n",
      "\n",
      "=== Evaluating Method: pca_based_split ===\n",
      "Number of features in view 1: 6\n",
      "Number of features in view 2: 6\n",
      "Method: pca_based_split | AUC: 0.7584 | Accuracy: 0.6884\n",
      "\n",
      "=== Evaluating Method: correlation_based_split ===\n",
      "Features in View 1:  [10  9 11]\n",
      "Features in View 2:  [0 1 2 3 4 5 6 7 8]\n",
      "Method: correlation_based_split | AUC: 0.7791 | Accuracy: 0.6932\n",
      "\n",
      "=== Evaluating Method: importance_based_split ===\n",
      "Features in View 1:  [3 9 0]\n",
      "Features in View 2:  [10  6  8 11  7  5  1  2  4]\n",
      "Method: importance_based_split | AUC: 0.7766 | Accuracy: 0.6948\n",
      "\n",
      "=== Evaluating with View Size Ratio: 0.5 ===\n",
      "\n",
      "=== Evaluating Method: random_split_features ===\n",
      "Number of features in view 1: 6\n",
      "Number of features in view 2: 6\n",
      "Method: random_split_features | AUC: 0.7872 | Accuracy: 0.6995\n",
      "\n",
      "=== Evaluating Method: pca_based_split ===\n",
      "Number of features in view 1: 6\n",
      "Number of features in view 2: 6\n",
      "Method: pca_based_split | AUC: 0.7584 | Accuracy: 0.6884\n",
      "\n",
      "=== Evaluating Method: correlation_based_split ===\n",
      "Features in View 1:  [ 7  8  3 10  9 11]\n",
      "Features in View 2:  [0 1 2 4 5 6]\n",
      "Method: correlation_based_split | AUC: 0.7688 | Accuracy: 0.6725\n",
      "\n",
      "=== Evaluating Method: importance_based_split ===\n",
      "Features in View 1:  [ 3  9  0 10  6  8]\n",
      "Features in View 2:  [11  7  5  1  2  4]\n",
      "Method: importance_based_split | AUC: 0.7856 | Accuracy: 0.6884\n",
      "\n",
      "=== Evaluating with View Size Ratio: 0.7 ===\n",
      "\n",
      "=== Evaluating Method: random_split_features ===\n",
      "Number of features in view 1: 8\n",
      "Number of features in view 2: 4\n",
      "Method: random_split_features | AUC: 0.7810 | Accuracy: 0.6979\n",
      "\n",
      "=== Evaluating Method: pca_based_split ===\n",
      "Number of features in view 1: 6\n",
      "Number of features in view 2: 6\n",
      "Method: pca_based_split | AUC: 0.7584 | Accuracy: 0.6884\n",
      "\n",
      "=== Evaluating Method: correlation_based_split ===\n",
      "Features in View 1:  [ 5  0  7  8  3 10  9 11]\n",
      "Features in View 2:  [1 2 4 6]\n",
      "Method: correlation_based_split | AUC: 0.7707 | Accuracy: 0.6725\n",
      "\n",
      "=== Evaluating Method: importance_based_split ===\n",
      "Features in View 1:  [ 3  9  0 10  6  8 11  7]\n",
      "Features in View 2:  [5 1 2 4]\n",
      "Method: importance_based_split | AUC: 0.7538 | Accuracy: 0.6693\n"
     ]
    },
    {
     "data": {
      "image/png": "[encoded data removed]",
      "text/plain": [
       "<Figure size 600x400 with 2 Axes>"
      ]
     },
     "metadata": {},
     "output_type": "display_data"
    },
    {
     "data": {
      "image/png": "[encoded data removed]",
      "text/plain": [
       "<Figure size 600x400 with 1 Axes>"
      ]
     },
     "metadata": {},
     "output_type": "display_data"
    },
    {
     "name": "stdout",
     "output_type": "stream",
     "text": [
      "\n",
      "Best Method: random_split_features\n",
      "Best Result: {'method': 'random_split_features', 'features_view1': [2, 0, 6, 5, 1, 7], 'features_view2': [4, 3, 8, 11, 10, 9], 'auc': 0.7872187961434899, 'accuracy': 0.699523052464229, 'y_pred': [1, 0, 1, 0, 1, 0, 1, 1, 0, 1, 1, 0, 1, 1, 0, 1, 0, 1, 0, 0, 0, 1, 0, 1, 0, 1, 0, 1, 0, 1, 0, 0, 1, 0, 1, 1, 1, 1, 1, 1, 1, 1, 0, 0, 1, 1, 0, 1, 0, 1, 1, 0, 0, 1, 0, 0, 1, 1, 1, 0, 0, 1, 0, 0, 1, 1, 0, 0, 0, 1, 0, 0, 1, 1, 1, 1, 0, 0, 1, 0, 0, 0, 0, 1, 0, 0, 1, 0, 0, 0, 1, 1, 0, 1, 1, 1, 1, 1, 0, 1, 1, 0, 0, 0, 0, 0, 1, 0, 0, 1, 1, 1, 1, 1, 1, 1, 1, 0, 0, 1, 1, 1, 0, 1, 0, 1, 0, 1, 0, 1, 0, 1, 1, 0, 1, 0, 0, 0, 0, 1, 1, 0, 1, 1, 1, 1, 1, 0, 1, 0, 1, 1, 0, 0, 0, 1, 0, 1, 0, 1, 0, 0, 1, 1, 0, 0, 1, 1, 1, 1, 1, 1, 1, 0, 0, 0, 1, 0, 0, 1, 0, 1, 1, 1, 1, 1, 0, 0, 0, 0, 1, 1, 0, 1, 1, 1, 0, 0, 0, 0, 0, 0, 1, 1, 0, 0, 1, 0, 1, 1, 1, 1, 0, 1, 1, 0, 0, 0, 1, 1, 1, 1, 0, 1, 1, 1, 1, 0, 0, 1, 0, 0, 1, 0, 1, 0, 0, 1, 0, 0, 1, 1, 1, 1, 0, 1, 0, 0, 1, 1, 0, 1, 1, 0, 1, 1, 0, 1, 1, 1, 0, 1, 0, 0, 1, 1, 0, 1, 0, 0, 1, 0, 1, 1, 1, 0, 1, 1, 1, 0, 1, 1, 1, 1, 1, 0, 0, 1, 1, 1, 0, 1, 0, 1, 0, 1, 1, 0, 0, 1, 0, 0, 1, 0, 1, 0, 1, 1, 1, 1, 1, 1, 0, 1, 0, 1, 1, 0, 0, 0, 0, 1, 1, 1, 1, 1, 1, 0, 0, 1, 1, 0, 1, 0, 0, 1, 0, 0, 1, 1, 0, 1, 0, 1, 1, 1, 1, 0, 0, 0, 0, 1, 1, 0, 1, 0, 1, 1, 0, 1, 0, 1, 0, 1, 1, 0, 1, 0, 0, 0, 1, 1, 0, 0, 0, 0, 1, 0, 1, 0, 1, 1, 1, 1, 0, 1, 0, 0, 0, 1, 0, 0, 1, 1, 0, 1, 0, 1, 0, 0, 0, 0, 0, 1, 0, 1, 1, 0, 0, 0, 0, 1, 1, 1, 0, 0, 1, 0, 1, 1, 1, 0, 0, 1, 1, 1, 0, 1, 0, 0, 0, 1, 1, 0, 1, 1, 0, 0, 0, 0, 1, 1, 0, 0, 0, 1, 1, 1, 0, 0, 1, 0, 1, 0, 0, 1, 1, 1, 1, 1, 0, 1, 1, 1, 1, 1, 1, 1, 1, 1, 1, 0, 0, 1, 1, 1, 0, 1, 1, 0, 1, 0, 0, 1, 0, 0, 0, 1, 1, 1, 1, 0, 0, 1, 1, 1, 0, 0, 0, 0, 0, 1, 0, 1, 0, 1, 1, 1, 0, 1, 0, 0, 0, 1, 1, 1, 0, 0, 0, 0, 1, 0, 1, 1, 1, 1, 0, 1, 1, 1, 1, 1, 0, 0, 1, 0, 0, 0, 1, 1, 0, 1, 1, 0, 1, 1, 1, 0, 1, 0, 0, 1, 1, 1, 1, 1, 0, 0, 1, 1, 1, 0, 1, 1, 1, 0, 0, 0, 0, 1, 1, 1, 1, 0, 0, 1, 1, 1, 0, 0, 1, 0, 0, 0, 1, 1, 1, 0, 0, 0, 0, 1, 1, 0, 0, 1, 0, 1, 0, 1, 1, 1, 1, 1, 0, 0, 0, 1, 0, 0, 1, 1, 1, 0, 0, 0, 0, 1, 0, 0, 1, 1, 1, 1, 1, 1, 1, 0, 0], 'y_pred_proba': [0.6120729900415811, 0.021475393208752906, 0.3338908751929166, 0.3563385723108501, 0.6430118752815394, 0.18107393724491497, 0.7793285013775237, 0.8227868608850589, 0.27653879404290016, 0.7580566039732934, 0.524988216792772, 0.06445798724851144, 0.93980167528333, 0.526459423070405, 0.17386418548301039, 0.7564735960929352, 0.4145288924027594, 0.4557206787416461, 0.06984931278704631, 0.014520923343562347, 0.01910499367627775, 0.7765702536833753, 0.030364893099604655, 0.5607348188027138, 0.08948555024170107, 0.8589089169567232, 0.0882597711330911, 0.3389329511832613, 0.1182677141061452, 0.7728546375212919, 0.021113719569891228, 0.026170098335494597, 0.4596938433703104, 0.1313579129435424, 0.813319864133246, 0.9197083453036186, 0.3043077837467879, 0.6209326853609609, 0.8652094072001564, 0.6220291433148614, 0.43585322914897406, 0.45050164250355246, 0.18333565752820508, 0.08514318313668816, 0.42846225281940037, 0.9449314194578744, 0.04549127791771291, 0.8830057701191103, 0.06540259268376844, 0.5684656698924296, 0.5963795981030872, 0.024192392765593478, 0.18090293037456312, 0.3630559342719372, 0.038051666208034664, 0.012107786223655064, 0.5772061718510848, 0.6891854916192636, 0.7393548419290139, 0.08641533775527188, 0.10576106461403315, 0.7765180487372564, 0.22542175591587918, 0.03328563447792467, 0.8618441302797033, 0.7845262803729531, 0.04589875098728505, 0.22036348734511987, 0.02491337132105924, 0.6691098272501341, 0.059972313587976736, 0.06070562460501384, 0.6970179131458499, 0.43458247914927056, 0.5604995117617653, 0.5241051447319509, 0.22801735788573974, 0.19316116418847595, 0.6068039319345886, 0.2041977791926266, 0.16992600804701305, 0.02942817190126856, 0.3507768898692887, 0.7548184460243155, 0.05305644243230923, 0.07222162734162767, 0.5114385644365815, 0.25298676972071, 0.27292908503850016, 0.014041456913815397, 0.4478275069247938, 0.9103962409663982, 0.027412762273792083, 0.8605990600023261, 0.2746459271351487, 0.5331088862767749, 0.929602193571389, 0.5491876621045684, 0.011261767657776135, 0.29167741385920126, 0.7732696254073799, 0.1543757349535905, 0.1476593389759945, 0.056220099750578394, 0.015316099281937653, 0.05400157944582248, 0.8774097910825118, 0.25192711160338865, 0.09424359911398875, 0.46569615955165067, 0.5608923486456527, 0.5673518383391158, 0.8829907118902516, 0.41592222288059455, 0.3872762358368522, 0.7995979801838333, 0.33159673228637127, 0.14175274952149833, 0.10042159729332964, 0.9327330187393499, 0.8417874549994346, 0.5778422384004153, 0.07799742919116882, 0.6417598901599129, 0.15760489771274802, 0.6508660768502287, 0.04040925713682783, 0.44448356638005393, 0.4156119744727257, 0.7282725598937136, 0.10930174419041298, 0.43576685196812204, 0.7573032830236551, 0.11049692276653514, 0.6623882187442117, 0.045379753634968094, 0.07418914164987009, 0.18304572145304956, 0.03162028734562001, 0.5355712059490362, 0.48557890548720417, 0.026457021104477656, 0.5220246759663975, 0.8785487891660562, 0.875170395209877, 0.5495767588636693, 0.5163597578309738, 0.1332650646817774, 0.5003584662844409, 0.06864358496648333, 0.9059009951143469, 0.695104584131282, 0.32224197552496653, 0.01361082495877506, 0.07642152918689357, 0.7404466655592005, 0.055382144941891726, 0.6861356197452041, 0.07408950110146963, 0.6454391667718953, 0.0177098140649867, 0.17023172881405782, 0.9059727010062446, 0.5979312833084437, 0.13749654962997884, 0.0527777029483045, 0.2801032775401557, 0.8670369927107204, 0.5291242251652607, 0.3913270616088665, 0.8558817266581258, 0.7798930518881693, 0.4607636247352407, 0.02145596732653656, 0.08863758638401052, 0.36429305824619784, 0.5794429851494022, 0.056946364424109705, 0.11203031076893243, 0.7573392937675618, 0.3713097939883917, 0.7036987905216303, 0.4825488965988969, 0.9294687603704298, 0.8733433364429537, 0.9566754178477833, 0.052438893346140186, 0.04691057143778807, 0.10007718094769968, 0.056366340853461774, 0.9191195783413104, 0.45311923808838783, 0.02780661940096571, 0.889113009558721, 0.5937712453067058, 0.6745236725772841, 0.01760593765263285, 0.044827666730057406, 0.009954951104765469, 0.1620561643457233, 0.07337474270405261, 0.11196771542888476, 0.6980471454971896, 0.7850921043236126, 0.053103261788060005, 0.14869826891306356, 0.7472010900594961, 0.25273498168708064, 0.9202579533428862, 0.4384886857532486, 0.7956806335826176, 0.4323428354395342, 0.08522807344026281, 0.3431915851682339, 0.5918861950903281, 0.01888827272563425, 0.17016986748887225, 0.0529354693711989, 0.8921441062159791, 0.5678136866468211, 0.6500192657013082, 0.7192559747402256, 0.024985688663302877, 0.7565773756114764, 0.5121618524008965, 0.6004096150496967, 0.8239811507369257, 0.034511167338965115, 0.15012647936147994, 0.321203739209539, 0.04642652577564481, 0.22991744725386976, 0.369466580547298, 0.056968384858895715, 0.47563089168515615, 0.12486588246042311, 0.19928093035235128, 0.6037101852188542, 0.25391978819935324, 0.03323683097542824, 0.38644784964957235, 0.815287525133866, 0.8624151865221317, 0.3853349316502005, 0.10451582755646563, 0.5833677767686589, 0.09638396934214288, 0.1723094100020914, 0.46998077374425906, 0.6365312485128204, 0.4047973981630393, 0.8036185598313427, 0.5907759321703865, 0.14397538742054866, 0.954678057559179, 0.6851548863226384, 0.13938480855660706, 0.48286249999446434, 0.8723542930548313, 0.48405862618504714, 0.03488682445812331, 0.44841341060889656, 0.10017194589209351, 0.1633252601310856, 0.49666394743927395, 0.5213685194697949, 0.07265676109749455, 0.8354991214035823, 0.04611555352924704, 0.12490970440526922, 0.5797560731874372, 0.06064180310082629, 0.5184141927097173, 0.5790633848153075, 0.9328503972956499, 0.1267982629021558, 0.33417654696357985, 0.6061110074443385, 0.501836137999559, 0.014318353957752477, 0.9073277977098597, 0.5920430278434214, 0.4505345869400356, 0.6110608242071682, 0.31492050578092234, 0.08093370694501753, 0.2373335302632254, 0.43030525770193084, 0.9315781225020966, 0.8145051257642559, 0.32727073943314366, 0.37167137920712134, 0.07712675405005638, 0.6238242966466981, 0.24090459462846867, 0.7097911229882696, 0.442291442370926, 0.07944725885365587, 0.022199219623675926, 0.3541219829516464, 0.02799589588368479, 0.03205217663934719, 0.8597187874552108, 0.1190162687290662, 0.8585256082452877, 0.16539659777631333, 0.688106115781403, 0.8767309555453848, 0.7951830456741462, 0.8835860489069189, 0.5224577604827778, 0.8048218607871709, 0.01744068256355312, 0.42075792973446663, 0.19393324542363122, 0.47245343682948504, 0.48737401120536195, 0.24093406775801707, 0.09986523466504932, 0.2561428917919932, 0.2910649645758819, 0.47301882359161423, 0.7526393524047899, 0.9276777585519362, 0.5523946650783766, 0.5904293662485629, 0.6097354201542557, 0.07310679439202393, 0.02948993774153022, 0.6014732997883758, 0.49456141829258293, 0.011175875865721073, 0.6794232191140032, 0.15759188011258246, 0.03451948867544624, 0.4238807763687746, 0.04131081825633273, 0.05789669400615198, 0.7856214763461766, 0.5436165776443411, 0.048001489864497884, 0.8173967862921351, 0.10463717244884277, 0.4750085305260611, 0.4290516928214431, 0.8844269870516559, 0.38297927686180194, 0.024851838488012992, 0.36157548584931665, 0.1460323849709865, 0.1778412504025812, 0.57789390532368, 0.26731829348594954, 0.03437488195112007, 0.4392564273578252, 0.03468980122537038, 0.37013900469036454, 0.3033138513360599, 0.11420712615146289, 0.4852377723316309, 0.05156964319502288, 0.4453286375636484, 0.28439802436267825, 0.6597336566511111, 0.7792311220633977, 0.019301730930700693, 0.6841803985166373, 0.05996917958734127, 0.1417791743501531, 0.08554159444936735, 0.34282014294083996, 0.527544526195217, 0.2270362845564915, 0.030748512063987543, 0.08073267659268991, 0.3307036580612602, 0.7811855719185115, 0.045078910195886175, 0.8056389830192096, 0.04535049934928371, 0.6934208018516279, 0.5620800282166527, 0.37987450548621343, 0.8145440344147936, 0.0742525974892413, 0.8299404555048857, 0.13042581032350448, 0.028885599783725437, 0.1402773897126939, 0.5857331269591884, 0.02010476721809904, 0.15353273368748163, 0.8841679235209133, 0.8360441996217243, 0.0850642570648109, 0.3680223347141893, 0.021617958329091067, 0.4020528382317587, 0.15862986082266559, 0.287748536976962, 0.026845968786549344, 0.1477068676487875, 0.11954235231969731, 0.4751124156624081, 0.07423074482759819, 0.8655249677820355, 0.6212453084269873, 0.2750374943544743, 0.16367430673156141, 0.03202879467032206, 0.03277529633737212, 0.8644755095346478, 0.402983087973147, 0.523968383978538, 0.12565659165702706, 0.040742742875548854, 0.5825021454833306, 0.005232869721001321, 0.9162367381380134, 0.545451209314824, 0.5638759428946057, 0.013628640145972613, 0.08597275267489465, 0.5116629172066873, 0.8842319255310931, 0.29646666779466563, 0.05815455126410046, 0.4965429493456447, 0.06155873284588964, 0.08992628561968669, 0.04657483301176901, 0.494781392966368, 0.47394049419419165, 0.20676019900050943, 0.8000910941912336, 0.43026432071867865, 0.09032629029077158, 0.020549524017282963, 0.06751629180273876, 0.1015985152464853, 0.7670133773671161, 0.6669925825114417, 0.22242751193060797, 0.10766894925369946, 0.05320072988509203, 0.8700213393964156, 0.5007134778235839, 0.36847137214386916, 0.007380352474599897, 0.04314580387608779, 0.8938567328379106, 0.1063411957502129, 0.5258486266543791, 0.0815075500450505, 0.25295256847408504, 0.6549758270193402, 0.6353857092663353, 0.45438389747940083, 0.8173589585940576, 0.6975635488809995, 0.0595380450724556, 0.8078279700605969, 0.8831855025270767, 0.9199005472843773, 0.4416854229990891, 0.5415104406979105, 0.8876683697982856, 0.4973244506052734, 0.519737530759131, 0.8133050605568599, 0.5464686669306071, 0.04915997493242712, 0.15711482685792416, 0.6746845856303154, 0.4933216353029021, 0.5127781228131885, 0.1686333028941557, 0.3476994179326964, 0.5479678373382928, 0.1268671095125816, 0.4114463286280996, 0.24748938446129887, 0.21150590117267998, 0.49500125876887496, 0.13438548207700285, 0.14568545928902937, 0.05420210637800141, 0.6877219127668929, 0.513828285968101, 0.7721229026594227, 0.8185639776923281, 0.11716395330773073, 0.1671993887629141, 0.7961339204892485, 0.4988880620343518, 0.849374545043797, 0.42814355518427616, 0.03212618860612426, 0.07723474053692332, 0.0999039766779168, 0.0341213359845518, 0.5680657851187711, 0.0696219305478861, 0.8249476188284615, 0.10975040864563773, 0.7039352930355678, 0.930376468562919, 0.8105356649972036, 0.018941530037530283, 0.410477550630982, 0.23003476356531233, 0.04364426621455554, 0.38619737321556336, 0.6912524061742158, 0.5871851038551534, 0.5141561151408207, 0.1457241943571863, 0.12994661870854698, 0.1844595739519379, 0.031987640157051814, 0.8840616720224656, 0.05148308335354934, 0.40691224407846893, 0.9486664297584984, 0.426678677289962, 0.9390639911381322, 0.14393440209383615, 0.8891924483823284, 0.7825239484883935, 0.6803347801387478, 0.6006264666887289, 0.6554306112022976, 0.048972334311076525, 0.04646092563457789, 0.7111614629400291, 0.3129256549839691, 0.2621708531384791, 0.015245065583173184, 0.7908053000226668, 0.3650019680508173, 0.053085251446832016, 0.38049493307072935, 0.26035809439001584, 0.17237252310334691, 0.4342478228924331, 0.4812819468310775, 0.8121860799117265, 0.24890661715604048, 0.6805479068999433, 0.18514187467290646, 0.05311850019505135, 0.8708034771784818, 0.6896796501590318, 0.7884020093440807, 0.8511583556241527, 0.5053567436652652, 0.013645338163378942, 0.11808936862688618, 0.49075062908631484, 0.43302858713576, 0.49963366603986153, 0.07337306731990217, 0.2943858331660483, 0.45153705214977957, 0.4677884368328518, 0.02625362047841387, 0.02426667621050194, 0.09393406761163114, 0.021572188677941168, 0.8884809626027048, 0.4971234950352265, 0.8070555061765345, 0.8834089576464434, 0.04141906250939774, 0.17311500115800926, 0.5692973507634624, 0.3988250963838139, 0.9015058337672919, 0.03286386922591875, 0.01912010094421854, 0.3924588937157102, 0.04632549427650827, 0.05104654831423294, 0.12930478970907905, 0.7343305323413662, 0.7016018135748103, 0.7370874468265793, 0.15166772849573648, 0.13700511738777182, 0.03240759113533122, 0.2417142900442705, 0.9278449352690064, 0.6149444377047971, 0.1291464056812594, 0.26479692277106726, 0.7924507427609475, 0.2789576489181331, 0.7414390409246414, 0.07545908277628734, 0.3406779258390348, 0.5564150112364982, 0.819231447635415, 0.7350603962974233, 0.7506351376160646, 0.1116435007941931, 0.03532058340868798, 0.13785138622927418, 0.7058009980363393, 0.10986119613800692, 0.027557325267296633, 0.4479183434622613, 0.7851405467709731, 0.831576865242659, 0.1789481144919135, 0.18555931659217426, 0.2694987494322571, 0.0295807394092581, 0.641132395283929, 0.1454023498857528, 0.15833672938845725, 0.49199899599805774, 0.5266906040413547, 0.45447375866490336, 0.47779829941773355, 0.9158722087615274, 0.8229893759914775, 0.34838240518381225, 0.0967033835457772, 0.07676230361642795]}\n"
     ]
    }
   ],
   "source": [
    "# Prepare the data\n",
    "X_train = mush_X_train_norm\n",
    "X_test = mush_X_test_norm\n",
    "y_train = mush_y_train_norm\n",
    "y_test = mush_y_test_norm\n",
    "\n",
    "# Define the feature selection methods\n",
    "methods = [random_split_features, pca_based_split, correlation_based_split, importance_based_split]\n",
    "\n",
    "# Evaluate each method\n",
    "view_size_ratios = [0.3, 0.5, 0.7]  # Try different feature size ratios\n",
    "all_results = []\n",
    "\n",
    "for ratio in view_size_ratios:\n",
    "    print(f\"\\n=== Evaluating with View Size Ratio: {ratio} ===\")\n",
    "    best_method, ratio_results = evaluate_feature_split_methods(\n",
    "        methods, X_train_labelled, mush_X_test_norm, y_train_labelled, mush_y_test_norm, view_size_ratio=ratio\n",
    "    )\n",
    "    all_results.extend(ratio_results)\n",
    "\n",
    "# Save the results to a JSON file\n",
    "with open('feature_split_comparison_results.json', 'w') as f:\n",
    "    json.dump(all_results, f, indent=4)\n",
    "\n",
    "# Find the best result\n",
    "best_result = max(all_results, key=lambda x: x['auc'])\n",
    "\n",
    "# Plot the confusion matrix and ROC curve for the best method\n",
    "plot_confusion_matrix(y_test, best_result['y_pred'], best_result['method'])\n",
    "plot_roc_curve(y_test, best_result['y_pred_proba'], best_result['auc'], best_result['method'])\n",
    "\n",
    "print(\"\\nBest Method:\", best_result['method'])\n",
    "print(\"Best Result:\", best_result)\n",
    "joblib.dump(best_result, os.path.join(\n",
    "    constants.MODEL_DIR,\n",
    "    constants.CO_TRAINING_BEST_FEATURE_SPLIT_RESULTS_FILENAME\n",
    "));"
   ]
  },
  {
   "cell_type": "markdown",
   "metadata": {},
   "source": [
    "### Data Preparation"
   ]
  },
  {
   "cell_type": "code",
   "execution_count": 16,
   "metadata": {},
   "outputs": [],
   "source": [
    "features_view1 = best_result[\"features_view1\"]\n",
    "features_view2 = best_result[\"features_view2\"];\n",
    "X_train_labelled_1 = [];\n",
    "X_train_labelled_2 = [];\n",
    "X_train_unlabelled_1 = [];\n",
    "X_train_unlabelled_2 = [];\n",
    "X_test_splitted_1 = [];\n",
    "X_test_splitted_2 = [];\n",
    "# labelled training data\n",
    "for sample_labelled in X_train_labelled:\n",
    "    new_sample_view1 = [];\n",
    "    new_sample_view2 = [];\n",
    "    for featureInd in range(len(sample_labelled)):\n",
    "        if (featureInd in features_view1):\n",
    "            new_sample_view1.append(sample_labelled[featureInd]);\n",
    "        if (featureInd in features_view2):\n",
    "            new_sample_view2.append(sample_labelled[featureInd]);\n",
    "    X_train_labelled_1.append(new_sample_view1);\n",
    "    X_train_labelled_2.append(new_sample_view2);\n",
    "# unlabelled training data\n",
    "for sample_unlabelled in X_train_unlabelled:\n",
    "    new_sample_view1 = [];\n",
    "    new_sample_view2 = [];\n",
    "    for featureInd in range(len(sample_unlabelled)):\n",
    "        if (featureInd in features_view1):\n",
    "            new_sample_view1.append(sample_unlabelled[featureInd]);\n",
    "        if (featureInd in features_view2):\n",
    "            new_sample_view2.append(sample_unlabelled[featureInd]);\n",
    "    X_train_unlabelled_1.append(new_sample_view1);\n",
    "    X_train_unlabelled_2.append(new_sample_view2);\n",
    "# test data\n",
    "for sample_test in X_test:\n",
    "    new_sample_view1 = [];\n",
    "    new_sample_view2 = [];\n",
    "    for featureInd in range(len(sample_test)):\n",
    "        if (featureInd in features_view1):\n",
    "            new_sample_view1.append(sample_test[featureInd]);\n",
    "        if (featureInd in features_view2):\n",
    "            new_sample_view2.append(sample_test[featureInd]);\n",
    "    X_test_splitted_1.append(new_sample_view1);\n",
    "    X_test_splitted_2.append(new_sample_view2);\n",
    "# columns\n",
    "columns_view1 = [];\n",
    "columns_view2 = [];\n",
    "for i in range(len(columns)):\n",
    "    column = columns[i];\n",
    "    if (i in features_view1):\n",
    "        columns_view1.append(column);\n",
    "    if (i in features_view2):\n",
    "        columns_view2.append(column);"
   ]
  },
  {
   "cell_type": "code",
   "execution_count": 17,
   "metadata": {},
   "outputs": [
    {
     "name": "stdout",
     "output_type": "stream",
     "text": [
      "Number of Samples in Classifier 1:  251\n",
      "Number of Samples in Classifier 2:  251\n",
      "Number of Features in the first Labelled Training Set:  6\n",
      "Number of Features in the second Labelled Training Set:  6\n"
     ]
    }
   ],
   "source": [
    "print(\"Number of Samples in Classifier 1: \", len(X_train_labelled_1));\n",
    "print(\"Number of Samples in Classifier 2: \", len(X_train_labelled_2));\n",
    "print(\"Number of Features in the first Labelled Training Set: \", len(X_train_labelled_1[random.randint(0, len(X_train_labelled_1)-1)]));\n",
    "print(\"Number of Features in the second Labelled Training Set: \", len(X_train_labelled_2[random.randint(0, len(X_train_labelled_2)-1)]));"
   ]
  },
  {
   "cell_type": "code",
   "execution_count": 18,
   "metadata": {},
   "outputs": [
    {
     "name": "stdout",
     "output_type": "stream",
     "text": [
      "Number of Unlabelled Samples in the first set:  1005\n",
      "Number of Unlabelled Samples in the second set:  1005\n",
      "Number of Features in the first Unlabelled Training Set:  6\n",
      "Number of Features in the second Unlabelled Training Set:  6\n"
     ]
    }
   ],
   "source": [
    "print(\"Number of Unlabelled Samples in the first set: \", len(X_train_unlabelled_1));\n",
    "print(\"Number of Unlabelled Samples in the second set: \", len(X_train_unlabelled_2));\n",
    "print(\"Number of Features in the first Unlabelled Training Set: \", len(X_train_unlabelled_1[random.randint(0, len(X_train_unlabelled_1)-1)]));\n",
    "print(\"Number of Features in the second Unlabelled Training Set: \", len(X_train_unlabelled_2[random.randint(0, len(X_train_unlabelled_2)-1)]));"
   ]
  },
  {
   "cell_type": "code",
   "execution_count": 19,
   "metadata": {},
   "outputs": [
    {
     "name": "stdout",
     "output_type": "stream",
     "text": [
      "Number of Test Samples in the first set:  629\n",
      "Number of Test Samples in the second set:  629\n",
      "Number of Features in the first Test Set:  6\n",
      "Number of Features in the second Test Set:  6\n"
     ]
    }
   ],
   "source": [
    "print(\"Number of Test Samples in the first set: \", len(X_test_splitted_1));\n",
    "print(\"Number of Test Samples in the second set: \", len(X_test_splitted_2));\n",
    "print(\"Number of Features in the first Test Set: \", len(X_test_splitted_1[random.randint(0, len(X_test_splitted_1)-1)]));\n",
    "print(\"Number of Features in the second Test Set: \", len(X_test_splitted_2[random.randint(0, len(X_test_splitted_2)-1)]));"
   ]
  },
  {
   "cell_type": "code",
   "execution_count": 20,
   "metadata": {},
   "outputs": [
    {
     "name": "stdout",
     "output_type": "stream",
     "text": [
      "Columns in a sample for training the 1st classifier:  ['age', 'gender', 'education', 'nscore', 'escore', 'oscore']\n",
      "Columns in a sample for training the 2nd classifier:  ['country', 'ethnicity', 'ascore', 'cscore', 'impuslive', 'ss']\n"
     ]
    }
   ],
   "source": [
    "print(\"Columns in a sample for training the 1st classifier: \", columns_view1);\n",
    "print(\"Columns in a sample for training the 2nd classifier: \", columns_view2);"
   ]
  },
  {
   "cell_type": "markdown",
   "metadata": {},
   "source": [
    "## Train the Replicated Models"
   ]
  },
  {
   "cell_type": "code",
   "execution_count": 21,
   "metadata": {},
   "outputs": [],
   "source": [
    "model1.fit(X_train_labelled_1, y_train_labelled);"
   ]
  },
  {
   "cell_type": "code",
   "execution_count": 22,
   "metadata": {},
   "outputs": [],
   "source": [
    "model2.fit(X_train_labelled_2, y_train_labelled);"
   ]
  },
  {
   "cell_type": "markdown",
   "metadata": {},
   "source": [
    "### Generate the Pseudo-Labels for Unlabelled Data from Predictions"
   ]
  },
  {
   "cell_type": "code",
   "execution_count": 23,
   "metadata": {},
   "outputs": [
    {
     "name": "stdout",
     "output_type": "stream",
     "text": [
      "Number of Predictions by the 1st classifier:  1005\n",
      "Number of items in the Prediction by the 1st classifier:  2\n",
      "Value range of the Prediction by the 1st classifier:  0.0036989564732136104 0.9963010435267864\n"
     ]
    }
   ],
   "source": [
    "y_pred_1 = model1.predict_proba(X_train_unlabelled_1);\n",
    "print(\"Number of Predictions by the 1st classifier: \", len(y_pred_1));\n",
    "# probablistic prediction: each number represents the probability of the sample being in the corresponding class\n",
    "print(\"Number of items in the Prediction by the 1st classifier: \", len(y_pred_1[random.randint(0, len(y_pred_1)-1)]));\n",
    "print(\"Value range of the Prediction by the 1st classifier: \", np.min(y_pred_1), np.max(y_pred_1));"
   ]
  },
  {
   "cell_type": "code",
   "execution_count": 24,
   "metadata": {},
   "outputs": [
    {
     "name": "stdout",
     "output_type": "stream",
     "text": [
      "Number of Predictions by the 2nd classifier:  1005\n",
      "Number of items in the Prediction by the 2nd classifier:  2\n",
      "Value range of the Prediction by the 2nd classifier:  0.004531471765318438 0.9954685282346816\n"
     ]
    }
   ],
   "source": [
    "y_pred_2 = model2.predict_proba(X_train_unlabelled_2);\n",
    "print(\"Number of Predictions by the 2nd classifier: \", len(y_pred_2));\n",
    "# probablistic prediction: each number represents the probability of the sample being in the corresponding class\n",
    "print(\"Number of items in the Prediction by the 2nd classifier: \", len(y_pred_2[random.randint(0, len(y_pred_2)-1)]));\n",
    "print(\"Value range of the Prediction by the 2nd classifier: \", np.min(y_pred_2), np.max(y_pred_2));"
   ]
  },
  {
   "cell_type": "markdown",
   "metadata": {},
   "source": [
    "#### Format the predictions array"
   ]
  },
  {
   "cell_type": "code",
   "execution_count": 25,
   "metadata": {},
   "outputs": [
    {
     "name": "stdout",
     "output_type": "stream",
     "text": [
      "Number of Predictions by the 1st classifier:  1005\n",
      "Unique Predictions by the 1st classifier:  [0 1]\n"
     ]
    }
   ],
   "source": [
    "y_pred_1 = np.argmax(y_pred_1, axis=1);\n",
    "print(\"Number of Predictions by the 1st classifier: \", len(y_pred_1));\n",
    "print(\"Unique Predictions by the 1st classifier: \", np.unique(y_pred_1));"
   ]
  },
  {
   "cell_type": "code",
   "execution_count": 26,
   "metadata": {},
   "outputs": [
    {
     "name": "stdout",
     "output_type": "stream",
     "text": [
      "Number of Predictions by the 2nd classifier:  1005\n",
      "Unique Predictions by the 2nd classifier:  [0 1]\n"
     ]
    }
   ],
   "source": [
    "y_pred_2 = np.argmax(y_pred_2, axis=1);\n",
    "print(\"Number of Predictions by the 2nd classifier: \", len(y_pred_2));\n",
    "print(\"Unique Predictions by the 2nd classifier: \", np.unique(y_pred_2));"
   ]
  },
  {
   "cell_type": "markdown",
   "metadata": {},
   "source": [
    "## Train the Models again with pseudo-labels"
   ]
  },
  {
   "cell_type": "code",
   "execution_count": 27,
   "metadata": {},
   "outputs": [],
   "source": [
    "model1.fit(X_train_unlabelled_1, y_pred_1);"
   ]
  },
  {
   "cell_type": "code",
   "execution_count": 28,
   "metadata": {},
   "outputs": [],
   "source": [
    "model2.fit(X_train_unlabelled_2, y_pred_2);"
   ]
  },
  {
   "cell_type": "code",
   "execution_count": 29,
   "metadata": {},
   "outputs": [],
   "source": [
    "# save the models\n",
    "joblib.dump(model1, os.path.join(\n",
    "    constants.MODEL_DIR,\n",
    "    constants.MODEL_COTRAIN_1_FILENAME\n",
    "));\n",
    "joblib.dump(model2, os.path.join(\n",
    "    constants.MODEL_DIR,\n",
    "    constants.MODEL_COTRAIN_2_FILENAME\n",
    "));"
   ]
  },
  {
   "cell_type": "markdown",
   "metadata": {},
   "source": [
    "## Evaluation"
   ]
  },
  {
   "cell_type": "markdown",
   "metadata": {},
   "source": [
    "### Make Predictions on the Test Set"
   ]
  },
  {
   "cell_type": "code",
   "execution_count": 30,
   "metadata": {},
   "outputs": [
    {
     "name": "stdout",
     "output_type": "stream",
     "text": [
      "Number of Predictions made:  629\n",
      "Unique Predictions:  [0 1]\n"
     ]
    }
   ],
   "source": [
    "y_pred_test_1 = model1.predict(X_test_splitted_1);\n",
    "print(\"Number of Predictions made: \", len(y_pred_test_1));\n",
    "print(\"Unique Predictions: \", np.unique(y_pred_test_1));"
   ]
  },
  {
   "cell_type": "code",
   "execution_count": 31,
   "metadata": {},
   "outputs": [
    {
     "name": "stdout",
     "output_type": "stream",
     "text": [
      "Number of Predictions made:  629\n",
      "Unique Predictions:  [0 1]\n"
     ]
    }
   ],
   "source": [
    "y_pred_test_2 = model2.predict(X_test_splitted_2);\n",
    "print(\"Number of Predictions made: \", len(y_pred_test_2));\n",
    "print(\"Unique Predictions: \", np.unique(y_pred_test_2));"
   ]
  },
  {
   "cell_type": "markdown",
   "metadata": {},
   "source": [
    "### Choose a Predicted Value to trust with"
   ]
  },
  {
   "cell_type": "code",
   "execution_count": 32,
   "metadata": {},
   "outputs": [
    {
     "name": "stdout",
     "output_type": "stream",
     "text": [
      "Number of Predictions made:  629\n",
      "Unique Predictions:  [0 1]\n"
     ]
    }
   ],
   "source": [
    "assert(len(y_pred_test_1) == len(y_pred_test_2));\n",
    "# decide the final prediction based on random split\n",
    "y_pred_test = [];\n",
    "for i in range(len(y_pred_test_1)):\n",
    "    if y_pred_test_1[i] == y_pred_test_2[i]:\n",
    "        y_pred_test.append(y_pred_test_1[i]);\n",
    "    else:\n",
    "        y_pred_test.append(random.choice([y_pred_test_1[i], y_pred_test_2[i]]));\n",
    "y_pred_test = np.array(y_pred_test);\n",
    "print(\"Number of Predictions made: \", len(y_pred_test));\n",
    "print(\"Unique Predictions: \", np.unique(y_pred_test));"
   ]
  },
  {
   "cell_type": "markdown",
   "metadata": {},
   "source": [
    "### Evaluate the Metrics"
   ]
  },
  {
   "cell_type": "code",
   "execution_count": 33,
   "metadata": {},
   "outputs": [
    {
     "name": "stdout",
     "output_type": "stream",
     "text": [
      "Number of correct predictions:  464\n",
      "Number of incorrect predictions:  165\n"
     ]
    }
   ],
   "source": [
    "evalArr = y_pred_test == y_test;\n",
    "print(\"Number of correct predictions: \", len(evalArr[evalArr == True]));\n",
    "print(\"Number of incorrect predictions: \", len(evalArr[evalArr == False]));"
   ]
  },
  {
   "cell_type": "code",
   "execution_count": 34,
   "metadata": {},
   "outputs": [
    {
     "name": "stdout",
     "output_type": "stream",
     "text": [
      "Accuracy:  0.7376788553259142\n",
      "Precision:  0.6425531914893617\n",
      "Recall:  0.6508620689655172\n",
      "F1 Score:  0.6466809421841542\n"
     ]
    }
   ],
   "source": [
    "accuracy = evalAccuracy(y_pred_test, y_test);\n",
    "precision = evalPrecision(y_pred_test, y_test);\n",
    "recall = evalRecall(y_pred_test, y_test);\n",
    "f1Score = evalF1Score(y_pred_test, y_test);\n",
    "print(\"Accuracy: \", accuracy);\n",
    "print(\"Precision: \", precision);\n",
    "print(\"Recall: \", recall);\n",
    "print(\"F1 Score: \", f1Score);"
   ]
  },
  {
   "cell_type": "markdown",
   "metadata": {},
   "source": [
    "### Print the Confusion Matrix from the Test Set"
   ]
  },
  {
   "cell_type": "code",
   "execution_count": 35,
   "metadata": {},
   "outputs": [
    {
     "data": {
      "text/html": [
       "<div>\n",
       "<style scoped>\n",
       "    .dataframe tbody tr th:only-of-type {\n",
       "        vertical-align: middle;\n",
       "    }\n",
       "\n",
       "    .dataframe tbody tr th {\n",
       "        vertical-align: top;\n",
       "    }\n",
       "\n",
       "    .dataframe thead th {\n",
       "        text-align: right;\n",
       "    }\n",
       "</style>\n",
       "<table border=\"1\" class=\"dataframe\">\n",
       "  <thead>\n",
       "    <tr style=\"text-align: right;\">\n",
       "      <th>Predicted</th>\n",
       "      <th>user</th>\n",
       "      <th>non-user</th>\n",
       "      <th>All</th>\n",
       "    </tr>\n",
       "    <tr>\n",
       "      <th>Actual</th>\n",
       "      <th></th>\n",
       "      <th></th>\n",
       "      <th></th>\n",
       "    </tr>\n",
       "  </thead>\n",
       "  <tbody>\n",
       "    <tr>\n",
       "      <th>user</th>\n",
       "      <td>151</td>\n",
       "      <td>81</td>\n",
       "      <td>232</td>\n",
       "    </tr>\n",
       "    <tr>\n",
       "      <th>non-user</th>\n",
       "      <td>84</td>\n",
       "      <td>313</td>\n",
       "      <td>397</td>\n",
       "    </tr>\n",
       "    <tr>\n",
       "      <th>All</th>\n",
       "      <td>235</td>\n",
       "      <td>394</td>\n",
       "      <td>629</td>\n",
       "    </tr>\n",
       "  </tbody>\n",
       "</table>\n",
       "</div>"
      ],
      "text/plain": [
       "Predicted  user  non-user  All\n",
       "Actual                        \n",
       "user        151        81  232\n",
       "non-user     84       313  397\n",
       "All         235       394  629"
      ]
     },
     "execution_count": 35,
     "metadata": {},
     "output_type": "execute_result"
    }
   ],
   "source": [
    "printConfMtx(y_pred_test, y_test)"
   ]
  },
  {
   "cell_type": "markdown",
   "metadata": {},
   "source": [
    "### Display the ROC Curve and its Area Under the Curve (AUC)"
   ]
  },
  {
   "cell_type": "code",
   "execution_count": 37,
   "metadata": {},
   "outputs": [
    {
     "data": {
      "image/png": "[encoded data removed]",
      "text/plain": [
       "<Figure size 1000x800 with 1 Axes>"
      ]
     },
     "metadata": {},
     "output_type": "display_data"
    },
    {
     "name": "stdout",
     "output_type": "stream",
     "text": [
      "AUC of the Baseline Model: 0.7812907148440892\n",
      "AUC of the Self Learning Model: 0.7852970555024754\n",
      "AUC of the 1st Co-Training Model: 0.7422207504560062\n",
      "AUC of the 2nd Co-Training Model: 0.2978589420654912\n"
     ]
    }
   ],
   "source": [
    "AUC_baseline, AUC_selftraining, AUC_cotraining1, AUC_cotraining2 = plotROC(\n",
    "    models={\n",
    "        \"Baseline Model\": joblib.load(os.path.join(\n",
    "            constants.MODEL_DIR,\n",
    "            constants.MODEL_FILENAME\n",
    "        )),\n",
    "        \"Self Learning Model\": joblib.load(os.path.join(\n",
    "            constants.MODEL_DIR,\n",
    "            constants.MODEL_SELFTRAIN_FILENAME\n",
    "        )),\n",
    "        \"Co-Training Model 1\": joblib.load(os.path.join(\n",
    "            constants.MODEL_DIR,\n",
    "            constants.MODEL_COTRAIN_1_FILENAME\n",
    "        )),\n",
    "        \"Co-Training Model 2\": joblib.load(os.path.join(\n",
    "            constants.MODEL_DIR,\n",
    "            constants.MODEL_COTRAIN_2_FILENAME\n",
    "        ))\n",
    "    },\n",
    "    X_test=X_test,\n",
    "    y_test=y_test,\n",
    "    feature_subsets={\n",
    "        \"Co-Training Model 1\": best_result[\"features_view1\"],\n",
    "        \"Co-Training Model 2\": best_result[\"features_view2\"],\n",
    "    },\n",
    "    dataset=\"mushroom\"\n",
    ");\n",
    "print(f\"AUC of the Baseline Model: {AUC_baseline}\");\n",
    "print(f\"AUC of the Self Learning Model: {AUC_selftraining}\");\n",
    "print(f\"AUC of the 1st Co-Training Model: {AUC_cotraining1}\");\n",
    "print(f\"AUC of the 2nd Co-Training Model: {AUC_cotraining2}\");"
   ]
  }
 ],
 "metadata": {
  "kernelspec": {
   "display_name": "Python 3",
   "language": "python",
   "name": "python3"
  },
  "language_info": {
   "codemirror_mode": {
    "name": "ipython",
    "version": 3
   },
   "file_extension": ".py",
   "mimetype": "text/x-python",
   "name": "python",
   "nbconvert_exporter": "python",
   "pygments_lexer": "ipython3",
   "version": "3.10.7"
  }
 },
 "nbformat": 4,
 "nbformat_minor": 2
}
