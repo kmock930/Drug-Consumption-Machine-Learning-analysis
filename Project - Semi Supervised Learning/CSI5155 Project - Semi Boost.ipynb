{
 "cells": [
  {
   "cell_type": "markdown",
   "metadata": {},
   "source": [
    "# Semi Supervised Learning - Semi-Boost Model"
   ]
  },
  {
   "cell_type": "markdown",
   "metadata": {},
   "source": [
    "This notebook is to perform semi-supervised learning by using the SemiBoost algorithm from the baseline model. The baseline model is developed in `CSI5155 Project - baseline.ipynb`."
   ]
  },
  {
   "cell_type": "markdown",
   "metadata": {},
   "source": [
    "## Import Necessary Packages"
   ]
  },
  {
   "cell_type": "code",
   "execution_count": null,
   "metadata": {},
   "outputs": [],
   "source": [
    "import numpy as np;\n",
    "import os;\n",
    "import sys;\n",
    "import joblib;\n",
    "import random;\n",
    "from sklearn.model_selection import train_test_split;\n",
    "from sklearn.ensemble import GradientBoostingClassifier;\n",
    "import joblib;\n",
    "import pandas as pd;\n",
    "import matplotlib.pyplot as plt;\n",
    "# importing custom modules\n",
    "sys.path.append(\"../Assignment 1 - Model Comparison/\");\n",
    "from fileOrganizer import unpack;\n",
    "from performance import evalAccuracy, evalPrecision, evalRecall, evalF1Score, printConfMtx, plotROC;\n",
    "import constants;\n",
    "from model.SemiBoost import build_semi_boost_model, train, predict;"
   ]
  },
  {
   "cell_type": "markdown",
   "metadata": {},
   "source": [
    "## Load the Data"
   ]
  },
  {
   "cell_type": "markdown",
   "metadata": {},
   "source": [
    "Original Dataset (without labelling/unlabelling, but normalized)"
   ]
  },
  {
   "cell_type": "code",
   "execution_count": null,
   "metadata": {},
   "outputs": [
    {
     "name": "stdout",
     "output_type": "stream",
     "text": [
      "Number of Normalized Samples in Training Set:  1256\n",
      "Number of Features in the Normalized Training Set:  12\n",
      "Value range of the original Training Set:  -4.827248760778992 13.457018899436779\n"
     ]
    }
   ],
   "source": [
    "mush_X_train_norm = joblib.load(os.path.join(\n",
    "    os.pardir,\n",
    "    constants.ASM1_DIR,\n",
    "    constants.MUSH_DIR,\n",
    "    constants.TRAIN_DIR,\n",
    "    constants.X_TRAIN_NORMALIZED_FILENAME\n",
    "));\n",
    "print(\"Number of Normalized Samples in Training Set: \", len(mush_X_train_norm));\n",
    "print(\"Number of Features in the Normalized Training Set: \", len(mush_X_train_norm[random.randint(0, len(mush_X_train_norm)-1)]));\n",
    "print(\"Value range of the original Training Set: \", np.min(mush_X_train_norm), np.max(mush_X_train_norm));"
   ]
  },
  {
   "cell_type": "code",
   "execution_count": null,
   "metadata": {},
   "outputs": [
    {
     "name": "stdout",
     "output_type": "stream",
     "text": [
      "Number of Samples in Training Set:  1256\n",
      "Unique Labels in Training Set:  [0 1]\n"
     ]
    }
   ],
   "source": [
    "mush_y_train_norm = joblib.load(os.path.join(\n",
    "    os.pardir,\n",
    "    constants.ASM1_DIR,\n",
    "    constants.MUSH_DIR,\n",
    "    constants.TRAIN_DIR,\n",
    "    constants.Y_TRAIN_NORMALIZED_FILENAME\n",
    "));\n",
    "print(\"Number of Samples in Training Set: \", len(mush_y_train_norm));\n",
    "print(\"Unique Labels in Training Set: \", np.unique(mush_y_train_norm));"
   ]
  },
  {
   "cell_type": "code",
   "execution_count": null,
   "metadata": {},
   "outputs": [
    {
     "name": "stdout",
     "output_type": "stream",
     "text": [
      "Number of Normalized Samples in Testing Set:  629\n",
      "Number of Features in the Normalized Testing Set:  12\n",
      "Value range of the Normalized Testing Set:  -4.827248760778992 13.457018899436779\n"
     ]
    }
   ],
   "source": [
    "mush_X_test_norm = joblib.load(os.path.join(\n",
    "    os.pardir,\n",
    "    constants.ASM1_DIR,\n",
    "    constants.MUSH_DIR,\n",
    "    constants.TEST_DIR,\n",
    "    constants.X_TEST_NORMALIZED_FILENAME\n",
    "));\n",
    "print(\"Number of Normalized Samples in Testing Set: \", len(mush_X_test_norm));\n",
    "print(\"Number of Features in the Normalized Testing Set: \", len(mush_X_test_norm[random.randint(0, len(mush_X_test_norm)-1)]));\n",
    "print(\"Value range of the Normalized Testing Set: \", np.min(mush_X_test_norm), np.max(mush_X_test_norm));"
   ]
  },
  {
   "cell_type": "code",
   "execution_count": null,
   "metadata": {},
   "outputs": [
    {
     "name": "stdout",
     "output_type": "stream",
     "text": [
      "Number of Samples in Testing Set:  629\n",
      "Unique Labels in Testing Set:  [0 1]\n"
     ]
    }
   ],
   "source": [
    "mush_y_test_norm = joblib.load(os.path.join(\n",
    "    os.pardir,\n",
    "    constants.ASM1_DIR,\n",
    "    constants.MUSH_DIR,\n",
    "    constants.TEST_DIR,\n",
    "    constants.Y_TEST_NORMALIZED_FILENAME\n",
    "));\n",
    "print(\"Number of Samples in Testing Set: \", len(mush_y_test_norm));\n",
    "print(\"Unique Labels in Testing Set: \", np.unique(mush_y_test_norm));"
   ]
  },
  {
   "cell_type": "markdown",
   "metadata": {},
   "source": [
    "Labelled Data"
   ]
  },
  {
   "cell_type": "code",
   "execution_count": null,
   "metadata": {},
   "outputs": [
    {
     "name": "stdout",
     "output_type": "stream",
     "text": [
      "Number of Labelled Samples:  251\n",
      "Number of Features in the Labelled Training Set:  12\n",
      "Value range of the Labelled Training Set:  -4.827248760778992 3.262658784576777\n"
     ]
    }
   ],
   "source": [
    "X_train_labelled = unpack(os.path.join(\n",
    "    constants.TRAIN_DIR,\n",
    "    constants.X_TRAIN_LABELLED_FILENAME\n",
    "));\n",
    "print(\"Number of Labelled Samples: \", len(X_train_labelled));\n",
    "print(\"Number of Features in the Labelled Training Set: \", len(X_train_labelled[random.randint(0, len(X_train_labelled)-1)]));\n",
    "print(\"Value range of the Labelled Training Set: \", np.min(X_train_labelled), np.max(X_train_labelled));"
   ]
  },
  {
   "cell_type": "code",
   "execution_count": null,
   "metadata": {},
   "outputs": [
    {
     "name": "stdout",
     "output_type": "stream",
     "text": [
      "Number of Labelled Labels:  251\n",
      "Unique Labels:  [0 1]\n"
     ]
    }
   ],
   "source": [
    "y_train_labelled = unpack(os.path.join(\n",
    "    constants.TRAIN_DIR,\n",
    "    constants.Y_TRAIN_LABELLED_FILENAME\n",
    "));\n",
    "print(\"Number of Labelled Labels: \", len(y_train_labelled));\n",
    "print(\"Unique Labels: \", np.unique(y_train_labelled));"
   ]
  },
  {
   "cell_type": "markdown",
   "metadata": {},
   "source": [
    "Unlabelled Data"
   ]
  },
  {
   "cell_type": "code",
   "execution_count": null,
   "metadata": {},
   "outputs": [
    {
     "name": "stdout",
     "output_type": "stream",
     "text": [
      "Number of Unlabelled Samples:  1005\n",
      "Number of Features in the Unlabelled Training Set:  12\n",
      "Value range of the Unlabelled Training Set:  -4.827248760778992 13.457018899436779\n"
     ]
    }
   ],
   "source": [
    "X_train_unlabelled = unpack(os.path.join(\n",
    "    constants.TRAIN_DIR,\n",
    "    constants.X_TRAIN_UNLABELLED_FILENAME\n",
    "));\n",
    "print(\"Number of Unlabelled Samples: \", len(X_train_unlabelled));\n",
    "print(\"Number of Features in the Unlabelled Training Set: \", len(X_train_unlabelled[random.randint(0, len(X_train_unlabelled)-1)]));\n",
    "print(\"Value range of the Unlabelled Training Set: \", np.min(X_train_unlabelled), np.max(X_train_unlabelled));"
   ]
  },
  {
   "cell_type": "code",
   "execution_count": null,
   "metadata": {},
   "outputs": [
    {
     "name": "stdout",
     "output_type": "stream",
     "text": [
      "Number of Unlabelled Labels:  1005\n",
      "Unique Labels:  [0 1]\n"
     ]
    }
   ],
   "source": [
    "# This is the true labels for the supposedly unlabelled data\n",
    "# for debugging purpose!!!\n",
    "y_train_unlabelled = unpack(os.path.join(\n",
    "    constants.TRAIN_DIR,\n",
    "    constants.Y_TRAIN_UNLABELLED_FILENAME\n",
    "));\n",
    "print(\"Number of Unlabelled Labels: \", len(y_train_unlabelled));\n",
    "print(\"Unique Labels: \", np.unique(y_train_unlabelled));"
   ]
  },
  {
   "cell_type": "markdown",
   "metadata": {},
   "source": [
    "Test Data"
   ]
  },
  {
   "cell_type": "code",
   "execution_count": null,
   "metadata": {},
   "outputs": [
    {
     "name": "stdout",
     "output_type": "stream",
     "text": [
      "Number of Normalized Samples in Testing Set:  629\n",
      "Number of Features in the Normalized Testing Set:  12\n",
      "Value range of the Normalized Testing Set:  -4.827248760778992 13.457018899436779\n"
     ]
    }
   ],
   "source": [
    "mush_X_test_norm = joblib.load(os.path.join(\n",
    "    os.pardir,\n",
    "    constants.ASM1_DIR,\n",
    "    constants.MUSH_DIR,\n",
    "    constants.TEST_DIR,\n",
    "    constants.X_TEST_NORMALIZED_FILENAME\n",
    "));\n",
    "print(\"Number of Normalized Samples in Testing Set: \", len(mush_X_test_norm));\n",
    "print(\"Number of Features in the Normalized Testing Set: \", len(mush_X_test_norm[random.randint(0, len(mush_X_test_norm)-1)]));\n",
    "print(\"Value range of the Normalized Testing Set: \", np.min(mush_X_test_norm), np.max(mush_X_test_norm));"
   ]
  },
  {
   "cell_type": "code",
   "execution_count": null,
   "metadata": {},
   "outputs": [
    {
     "name": "stdout",
     "output_type": "stream",
     "text": [
      "Number of Samples in Testing Set:  629\n",
      "Unique Labels in Testing Set:  [0 1]\n"
     ]
    }
   ],
   "source": [
    "mush_y_test_norm = joblib.load(os.path.join(\n",
    "    os.pardir,\n",
    "    constants.ASM1_DIR,\n",
    "    constants.MUSH_DIR,\n",
    "    constants.TEST_DIR,\n",
    "    constants.Y_TEST_NORMALIZED_FILENAME\n",
    "));\n",
    "print(\"Number of Samples in Testing Set: \", len(mush_y_test_norm));\n",
    "print(\"Unique Labels in Testing Set: \", np.unique(mush_y_test_norm));"
   ]
  },
  {
   "cell_type": "markdown",
   "metadata": {},
   "source": [
    "## Load the Column Names"
   ]
  },
  {
   "cell_type": "code",
   "execution_count": null,
   "metadata": {},
   "outputs": [
    {
     "name": "stdout",
     "output_type": "stream",
     "text": [
      "Columns in a sample:  ['age' 'gender' 'education' 'country' 'ethnicity' 'nscore' 'escore'\n",
      " 'oscore' 'ascore' 'cscore' 'impuslive' 'ss']\n"
     ]
    }
   ],
   "source": [
    "columns = joblib.load(os.path.join(\n",
    "    constants.COLUMNS_DIR,\n",
    "    constants.COLUMNS_FILENAME\n",
    "));\n",
    "print(\"Columns in a sample: \", columns);"
   ]
  },
  {
   "cell_type": "markdown",
   "metadata": {},
   "source": [
    "## SemiBoost Algorithm"
   ]
  },
  {
   "cell_type": "markdown",
   "metadata": {},
   "source": [
    "### Initialize the SemiBoost Model"
   ]
  },
  {
   "cell_type": "code",
   "execution_count": null,
   "metadata": {},
   "outputs": [
    {
     "name": "stdout",
     "output_type": "stream",
     "text": [
      "Model saved to 'models\\mushrooms_model_SemiBoost.pkl'\n"
     ]
    },
    {
     "data": {
      "text/html": [
       "<style>#sk-container-id-1 {color: black;background-color: white;}#sk-container-id-1 pre{padding: 0;}#sk-container-id-1 div.sk-toggleable {background-color: white;}#sk-container-id-1 label.sk-toggleable__label {cursor: pointer;display: block;width: 100%;margin-bottom: 0;padding: 0.3em;box-sizing: border-box;text-align: center;}#sk-container-id-1 label.sk-toggleable__label-arrow:before {content: \"▸\";float: left;margin-right: 0.25em;color: #696969;}#sk-container-id-1 label.sk-toggleable__label-arrow:hover:before {color: black;}#sk-container-id-1 div.sk-estimator:hover label.sk-toggleable__label-arrow:before {color: black;}#sk-container-id-1 div.sk-toggleable__content {max-height: 0;max-width: 0;overflow: hidden;text-align: left;background-color: #f0f8ff;}#sk-container-id-1 div.sk-toggleable__content pre {margin: 0.2em;color: black;border-radius: 0.25em;background-color: #f0f8ff;}#sk-container-id-1 input.sk-toggleable__control:checked~div.sk-toggleable__content {max-height: 200px;max-width: 100%;overflow: auto;}#sk-container-id-1 input.sk-toggleable__control:checked~label.sk-toggleable__label-arrow:before {content: \"▾\";}#sk-container-id-1 div.sk-estimator input.sk-toggleable__control:checked~label.sk-toggleable__label {background-color: #d4ebff;}#sk-container-id-1 div.sk-label input.sk-toggleable__control:checked~label.sk-toggleable__label {background-color: #d4ebff;}#sk-container-id-1 input.sk-hidden--visually {border: 0;clip: rect(1px 1px 1px 1px);clip: rect(1px, 1px, 1px, 1px);height: 1px;margin: -1px;overflow: hidden;padding: 0;position: absolute;width: 1px;}#sk-container-id-1 div.sk-estimator {font-family: monospace;background-color: #f0f8ff;border: 1px dotted black;border-radius: 0.25em;box-sizing: border-box;margin-bottom: 0.5em;}#sk-container-id-1 div.sk-estimator:hover {background-color: #d4ebff;}#sk-container-id-1 div.sk-parallel-item::after {content: \"\";width: 100%;border-bottom: 1px solid gray;flex-grow: 1;}#sk-container-id-1 div.sk-label:hover label.sk-toggleable__label {background-color: #d4ebff;}#sk-container-id-1 div.sk-serial::before {content: \"\";position: absolute;border-left: 1px solid gray;box-sizing: border-box;top: 0;bottom: 0;left: 50%;z-index: 0;}#sk-container-id-1 div.sk-serial {display: flex;flex-direction: column;align-items: center;background-color: white;padding-right: 0.2em;padding-left: 0.2em;position: relative;}#sk-container-id-1 div.sk-item {position: relative;z-index: 1;}#sk-container-id-1 div.sk-parallel {display: flex;align-items: stretch;justify-content: center;background-color: white;position: relative;}#sk-container-id-1 div.sk-item::before, #sk-container-id-1 div.sk-parallel-item::before {content: \"\";position: absolute;border-left: 1px solid gray;box-sizing: border-box;top: 0;bottom: 0;left: 50%;z-index: -1;}#sk-container-id-1 div.sk-parallel-item {display: flex;flex-direction: column;z-index: 1;position: relative;background-color: white;}#sk-container-id-1 div.sk-parallel-item:first-child::after {align-self: flex-end;width: 50%;}#sk-container-id-1 div.sk-parallel-item:last-child::after {align-self: flex-start;width: 50%;}#sk-container-id-1 div.sk-parallel-item:only-child::after {width: 0;}#sk-container-id-1 div.sk-dashed-wrapped {border: 1px dashed gray;margin: 0 0.4em 0.5em 0.4em;box-sizing: border-box;padding-bottom: 0.4em;background-color: white;}#sk-container-id-1 div.sk-label label {font-family: monospace;font-weight: bold;display: inline-block;line-height: 1.2em;}#sk-container-id-1 div.sk-label-container {text-align: center;}#sk-container-id-1 div.sk-container {/* jupyter's `normalize.less` sets `[hidden] { display: none; }` but bootstrap.min.css set `[hidden] { display: none !important; }` so we also need the `!important` here to be able to override the default hidden behavior on the sphinx rendered scikit-learn.org. See: https://github.com/scikit-learn/scikit-learn/issues/21755 */display: inline-block !important;position: relative;}#sk-container-id-1 div.sk-text-repr-fallback {display: none;}</style><div id=\"sk-container-id-1\" class=\"sk-top-container\"><div class=\"sk-text-repr-fallback\"><pre>SelfTrainingClassifier(base_estimator=AdaBoostClassifier(base_estimator=GradientBoostingClassifier(random_state=42),\n",
       "                                                         random_state=42),\n",
       "                       max_iter=30, threshold=0.8, verbose=True)</pre><b>In a Jupyter environment, please rerun this cell to show the HTML representation or trust the notebook. <br />On GitHub, the HTML representation is unable to render, please try loading this page with nbviewer.org.</b></div><div class=\"sk-container\" hidden><div class=\"sk-item sk-dashed-wrapped\"><div class=\"sk-label-container\"><div class=\"sk-label sk-toggleable\"><input class=\"sk-toggleable__control sk-hidden--visually\" id=\"sk-estimator-id-1\" type=\"checkbox\" ><label for=\"sk-estimator-id-1\" class=\"sk-toggleable__label sk-toggleable__label-arrow\">SelfTrainingClassifier</label><div class=\"sk-toggleable__content\"><pre>SelfTrainingClassifier(base_estimator=AdaBoostClassifier(base_estimator=GradientBoostingClassifier(random_state=42),\n",
       "                                                         random_state=42),\n",
       "                       max_iter=30, threshold=0.8, verbose=True)</pre></div></div></div><div class=\"sk-parallel\"><div class=\"sk-parallel-item\"><div class=\"sk-item\"><div class=\"sk-label-container\"><div class=\"sk-label sk-toggleable\"><input class=\"sk-toggleable__control sk-hidden--visually\" id=\"sk-estimator-id-2\" type=\"checkbox\" ><label for=\"sk-estimator-id-2\" class=\"sk-toggleable__label sk-toggleable__label-arrow\">base_estimator: AdaBoostClassifier</label><div class=\"sk-toggleable__content\"><pre>AdaBoostClassifier(base_estimator=GradientBoostingClassifier(random_state=42),\n",
       "                   random_state=42)</pre></div></div></div><div class=\"sk-serial\"><div class=\"sk-item sk-dashed-wrapped\"><div class=\"sk-parallel\"><div class=\"sk-parallel-item\"><div class=\"sk-item\"><div class=\"sk-label-container\"><div class=\"sk-label sk-toggleable\"><input class=\"sk-toggleable__control sk-hidden--visually\" id=\"sk-estimator-id-3\" type=\"checkbox\" ><label for=\"sk-estimator-id-3\" class=\"sk-toggleable__label sk-toggleable__label-arrow\">base_estimator: GradientBoostingClassifier</label><div class=\"sk-toggleable__content\"><pre>GradientBoostingClassifier(random_state=42)</pre></div></div></div><div class=\"sk-serial\"><div class=\"sk-item\"><div class=\"sk-estimator sk-toggleable\"><input class=\"sk-toggleable__control sk-hidden--visually\" id=\"sk-estimator-id-4\" type=\"checkbox\" ><label for=\"sk-estimator-id-4\" class=\"sk-toggleable__label sk-toggleable__label-arrow\">GradientBoostingClassifier</label><div class=\"sk-toggleable__content\"><pre>GradientBoostingClassifier(random_state=42)</pre></div></div></div></div></div></div></div></div></div></div></div></div></div></div></div>"
      ],
      "text/plain": [
       "SelfTrainingClassifier(base_estimator=AdaBoostClassifier(base_estimator=GradientBoostingClassifier(random_state=42),\n",
       "                                                         random_state=42),\n",
       "                       max_iter=30, threshold=0.8, verbose=True)"
      ]
     },
     "execution_count": 13,
     "metadata": {},
     "output_type": "execute_result"
    }
   ],
   "source": [
    "semiBoost = build_semi_boost_model(\n",
    "    baseModel=GradientBoostingClassifier(random_state=constants.RANDOM_STATE),\n",
    ");\n",
    "semiBoost"
   ]
  },
  {
   "cell_type": "code",
   "execution_count": null,
   "metadata": {},
   "outputs": [],
   "source": [
    "# Save the model\n",
    "joblib.dump(semiBoost, os.path.join(\n",
    "    constants.MODEL_DIR,\n",
    "    constants.MODEL_SEMIBOOST_FILENAME\n",
    "));"
   ]
  },
  {
   "cell_type": "markdown",
   "metadata": {},
   "source": [
    "### Train the Ensemble Model"
   ]
  },
  {
   "cell_type": "code",
   "execution_count": null,
   "metadata": {},
   "outputs": [
    {
     "name": "stdout",
     "output_type": "stream",
     "text": [
      "\n",
      "Training SemiBoost-like Classifier...\n"
     ]
    },
    {
     "name": "stdout",
     "output_type": "stream",
     "text": [
      "Model saved to 'models\\mushrooms_model_SemiBoost.pkl'\n"
     ]
    },
    {
     "name": "stderr",
     "output_type": "stream",
     "text": [
      "c:\\Users\\kelvi\\AppData\\Local\\Programs\\Python\\Python310\\lib\\site-packages\\sklearn\\semi_supervised\\_self_training.py:212: UserWarning: y contains no unlabeled samples\n",
      "  warnings.warn(\"y contains no unlabeled samples\", UserWarning)\n"
     ]
    }
   ],
   "source": [
    "semiBoost = train(\n",
    "    X_train=X_train_labelled, \n",
    "    y_train=y_train_labelled,\n",
    "    model=semiBoost\n",
    ");"
   ]
  },
  {
   "cell_type": "markdown",
   "metadata": {},
   "source": [
    "### Generate the Pseudo-Labels for Unlabelled Data from Predictions"
   ]
  },
  {
   "cell_type": "code",
   "execution_count": null,
   "metadata": {},
   "outputs": [
    {
     "name": "stdout",
     "output_type": "stream",
     "text": [
      "Number of Predictions:  1005\n",
      "Unique Predictions:  [0 1]\n",
      "Number of Probabilities:  1005\n",
      "Value range of the Probabilities:  0.0013153611068132784  to  0.9966462296729446\n"
     ]
    }
   ],
   "source": [
    "y_pred_unlabelled, y_pred_proba_unlabelled = predict(\n",
    "    X_test=X_train_unlabelled, \n",
    "    y_test=y_train_unlabelled,\n",
    "    model=semiBoost\n",
    ");\n",
    "print(\"Number of Predictions: \", len(y_pred_unlabelled));\n",
    "print(\"Unique Predictions: \", np.unique(y_pred_unlabelled));\n",
    "print(\"Number of Probabilities: \", len(y_pred_proba_unlabelled));\n",
    "print(\"Value range of the Probabilities: \", np.min(y_pred_proba_unlabelled), ' to ', np.max(y_pred_proba_unlabelled));"
   ]
  },
  {
   "cell_type": "markdown",
   "metadata": {},
   "source": [
    "### Train the Model again with pseudo-labels"
   ]
  },
  {
   "cell_type": "markdown",
   "metadata": {},
   "source": [
    "#### Concatenate Labelled and Unlabelled Data"
   ]
  },
  {
   "cell_type": "code",
   "execution_count": null,
   "metadata": {},
   "outputs": [
    {
     "name": "stdout",
     "output_type": "stream",
     "text": [
      "Number of samples in total: 1256\n",
      "Number of Features in a sample: 12\n"
     ]
    }
   ],
   "source": [
    "X_combined = np.concatenate((X_train_labelled, X_train_unlabelled));\n",
    "print(f\"Number of samples in total: {len(X_combined)}\");\n",
    "print(f\"Number of Features in a sample: {len(X_combined[random.randint(0, len(X_combined)-1)])}\");"
   ]
  },
  {
   "cell_type": "code",
   "execution_count": null,
   "metadata": {},
   "outputs": [
    {
     "name": "stdout",
     "output_type": "stream",
     "text": [
      "Number of labels in total: 1256\n",
      "Unique Labels: [0 1]\n"
     ]
    }
   ],
   "source": [
    "y_combined = np.concatenate((y_train_labelled, y_pred_unlabelled));\n",
    "print(f\"Number of labels in total: {len(y_combined)}\");\n",
    "print(f\"Unique Labels: {np.unique(y_combined)}\");"
   ]
  },
  {
   "cell_type": "markdown",
   "metadata": {},
   "source": [
    "#### Re-train the Model"
   ]
  },
  {
   "cell_type": "code",
   "execution_count": null,
   "metadata": {},
   "outputs": [
    {
     "name": "stdout",
     "output_type": "stream",
     "text": [
      "\n",
      "Training SemiBoost-like Classifier...\n"
     ]
    },
    {
     "name": "stderr",
     "output_type": "stream",
     "text": [
      "c:\\Users\\kelvi\\AppData\\Local\\Programs\\Python\\Python310\\lib\\site-packages\\sklearn\\semi_supervised\\_self_training.py:212: UserWarning: y contains no unlabeled samples\n",
      "  warnings.warn(\"y contains no unlabeled samples\", UserWarning)\n"
     ]
    },
    {
     "name": "stdout",
     "output_type": "stream",
     "text": [
      "Model saved to 'models\\mushrooms_model_SemiBoost.pkl'\n"
     ]
    }
   ],
   "source": [
    "semiBoost = train(\n",
    "    X_train=X_combined, \n",
    "    y_train=y_combined,\n",
    "    model=semiBoost\n",
    ");"
   ]
  },
  {
   "cell_type": "markdown",
   "metadata": {},
   "source": [
    "## Evaluation"
   ]
  },
  {
   "cell_type": "markdown",
   "metadata": {},
   "source": [
    "### Make Predictions on the Test Set"
   ]
  },
  {
   "cell_type": "code",
   "execution_count": null,
   "metadata": {},
   "outputs": [
    {
     "name": "stdout",
     "output_type": "stream",
     "text": [
      "Number of Predictions made:  629\n",
      "Unique Predictions:  [0 1]\n"
     ]
    }
   ],
   "source": [
    "y_pred = semiBoost.predict(mush_X_test_norm);\n",
    "print(\"Number of Predictions made: \", len(y_pred));\n",
    "print(\"Unique Predictions: \", np.unique(y_pred));"
   ]
  },
  {
   "cell_type": "markdown",
   "metadata": {},
   "source": [
    "### Evaluate the Metrics"
   ]
  },
  {
   "cell_type": "code",
   "execution_count": null,
   "metadata": {},
   "outputs": [
    {
     "name": "stdout",
     "output_type": "stream",
     "text": [
      "Number of correct predictions:  446\n",
      "Number of incorrect predictions:  183\n"
     ]
    }
   ],
   "source": [
    "evalArr = y_pred == mush_y_test_norm;\n",
    "print(\"Number of correct predictions: \", len(evalArr[evalArr == True]));\n",
    "print(\"Number of incorrect predictions: \", len(evalArr[evalArr == False]));"
   ]
  },
  {
   "cell_type": "code",
   "execution_count": null,
   "metadata": {},
   "outputs": [
    {
     "name": "stdout",
     "output_type": "stream",
     "text": [
      "Accuracy:  0.7090620031796503\n",
      "Precision:  0.5976095617529881\n",
      "Recall:  0.646551724137931\n",
      "F1 Score:  0.6211180124223603\n"
     ]
    }
   ],
   "source": [
    "accuracy = evalAccuracy(y_pred, mush_y_test_norm);\n",
    "precision = evalPrecision(y_pred, mush_y_test_norm);\n",
    "recall = evalRecall(y_pred, mush_y_test_norm);\n",
    "f1 = evalF1Score(y_pred, mush_y_test_norm);\n",
    "print(\"Accuracy: \", accuracy);\n",
    "print(\"Precision: \", precision);\n",
    "print(\"Recall: \", recall);\n",
    "print(\"F1 Score: \", f1);"
   ]
  },
  {
   "cell_type": "markdown",
   "metadata": {},
   "source": [
    "### Print the Confusion Matrix from the Test Set"
   ]
  },
  {
   "cell_type": "code",
   "execution_count": null,
   "metadata": {},
   "outputs": [
    {
     "data": {
      "text/html": [
       "<div>\n",
       "<style scoped>\n",
       "    .dataframe tbody tr th:only-of-type {\n",
       "        vertical-align: middle;\n",
       "    }\n",
       "\n",
       "    .dataframe tbody tr th {\n",
       "        vertical-align: top;\n",
       "    }\n",
       "\n",
       "    .dataframe thead th {\n",
       "        text-align: right;\n",
       "    }\n",
       "</style>\n",
       "<table border=\"1\" class=\"dataframe\">\n",
       "  <thead>\n",
       "    <tr style=\"text-align: right;\">\n",
       "      <th>Predicted</th>\n",
       "      <th>user</th>\n",
       "      <th>non-user</th>\n",
       "      <th>All</th>\n",
       "    </tr>\n",
       "    <tr>\n",
       "      <th>Actual</th>\n",
       "      <th></th>\n",
       "      <th></th>\n",
       "      <th></th>\n",
       "    </tr>\n",
       "  </thead>\n",
       "  <tbody>\n",
       "    <tr>\n",
       "      <th>user</th>\n",
       "      <td>150</td>\n",
       "      <td>82</td>\n",
       "      <td>232</td>\n",
       "    </tr>\n",
       "    <tr>\n",
       "      <th>non-user</th>\n",
       "      <td>101</td>\n",
       "      <td>296</td>\n",
       "      <td>397</td>\n",
       "    </tr>\n",
       "    <tr>\n",
       "      <th>All</th>\n",
       "      <td>251</td>\n",
       "      <td>378</td>\n",
       "      <td>629</td>\n",
       "    </tr>\n",
       "  </tbody>\n",
       "</table>\n",
       "</div>"
      ],
      "text/plain": [
       "Predicted  user  non-user  All\n",
       "Actual                        \n",
       "user        150        82  232\n",
       "non-user    101       296  397\n",
       "All         251       378  629"
      ]
     },
     "execution_count": 23,
     "metadata": {},
     "output_type": "execute_result"
    }
   ],
   "source": [
    "printConfMtx(y_pred, mush_y_test_norm)"
   ]
  },
  {
   "cell_type": "markdown",
   "metadata": {},
   "source": [
    "### Display the ROC Curve and its Area Under the Curve (AUC)"
   ]
  },
  {
   "cell_type": "code",
   "execution_count": null,
   "metadata": {},
   "outputs": [
    {
     "data": {
      "image/png": "[encoded data removed]",
      "text/plain": [
       "<Figure size 1000x800 with 1 Axes>"
      ]
     },
     "metadata": {},
     "output_type": "display_data"
    },
    {
     "name": "stdout",
     "output_type": "stream",
     "text": [
      "AUC of the baseline model:  0.7813015721358465\n",
      "AUC of the Self Learning model:  0.7883696690697474\n",
      "AUC of the 1st Co-Training Model: 0.6050877269173977\n",
      "AUC of the 2nd Co-Training Model: 0.2735114653000955\n",
      "AUC of the Semi Boost Model: 0.7826587336054894\n",
      "AUC of the Label Spreading Model: 0.783386172153218\n"
     ]
    }
   ],
   "source": [
    "features_subsets = joblib.load(os.path.join(\n",
    "            constants.MODEL_DIR,\n",
    "            constants.CO_TRAINING_BEST_FEATURE_SPLIT_RESULTS_FILENAME\n",
    "        ));\n",
    "AUC_baseline, AUC_selftraining, AUC_cotraining1, AUC_cotraining2, AUC_semiboost, AUC_labelspread = plotROC(\n",
    "    models={\n",
    "        \"Baseline Model\": joblib.load(os.path.join(\n",
    "            constants.MODEL_DIR,\n",
    "            constants.MODEL_FILENAME\n",
    "        )),\n",
    "        \"Self Learning\": joblib.load(os.path.join(\n",
    "            constants.MODEL_DIR,\n",
    "            constants.MODEL_SELFTRAIN_FILENAME\n",
    "        )),\n",
    "        \"Co-Training Model 1\": joblib.load(os.path.join(\n",
    "            constants.MODEL_DIR,\n",
    "            constants.MODEL_COTRAIN_1_FILENAME\n",
    "        )),\n",
    "        \"Co-Training Model 2\": joblib.load(os.path.join(\n",
    "            constants.MODEL_DIR,\n",
    "            constants.MODEL_COTRAIN_2_FILENAME\n",
    "        )),\n",
    "        \"Semi-Boost\": semiBoost,\n",
    "        \"Label Spreading\": joblib.load(os.path.join(\n",
    "            constants.MODEL_DIR,\n",
    "            constants.MODEL_LABELSPREAD_FILENAME\n",
    "        ))\n",
    "    },\n",
    "    X_test=mush_X_test_norm,\n",
    "    y_test=mush_y_test_norm,\n",
    "    feature_subsets={\n",
    "        \"Co-Training Model 1\": features_subsets[\"features_view1\"],\n",
    "        \"Co-Training Model 2\": features_subsets[\"features_view2\"]\n",
    "    },\n",
    "    dataset=\"mushroom\"\n",
    ");\n",
    "print(\"AUC of the baseline model: \", AUC_baseline);\n",
    "print(\"AUC of the Self Learning model: \", AUC_selftraining);\n",
    "print(f\"AUC of the 1st Co-Training Model: {AUC_cotraining1}\");\n",
    "print(f\"AUC of the 2nd Co-Training Model: {AUC_cotraining2}\");\n",
    "print(f\"AUC of the Semi Boost Model: {AUC_semiboost}\");\n",
    "print(f\"AUC of the Label Spreading Model: {AUC_labelspread}\");"
   ]
  }
 ],
 "metadata": {
  "kernelspec": {
   "display_name": "Python 3",
   "language": "python",
   "name": "python3"
  },
  "language_info": {
   "codemirror_mode": {
    "name": "ipython",
    "version": 3
   },
   "file_extension": ".py",
   "mimetype": "text/x-python",
   "name": "python",
   "nbconvert_exporter": "python",
   "pygments_lexer": "ipython3",
   "version": "3.10.7"
  }
 },
 "nbformat": 4,
 "nbformat_minor": 2
}
