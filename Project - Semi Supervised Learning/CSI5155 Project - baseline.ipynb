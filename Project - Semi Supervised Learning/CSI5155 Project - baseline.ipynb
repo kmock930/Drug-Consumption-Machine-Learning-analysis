{
 "cells": [
  {
   "cell_type": "markdown",
   "metadata": {},
   "source": [
    "# Semi Supervised Learning - Baseline Model"
   ]
  },
  {
   "cell_type": "markdown",
   "metadata": {},
   "source": [
    "This notebook is to perform supervised learning on a particular classifier from assignment 1 to construct a baseline model for the semi-supervised learning. See the Gradient Boosting model handled in `CSI5155 Assignment 1 Modelling Part- Kelvin Mock 300453668.ipynb` (assignment 1)."
   ]
  },
  {
   "cell_type": "markdown",
   "metadata": {},
   "source": [
    "## Import Necessary Packages"
   ]
  },
  {
   "cell_type": "code",
   "execution_count": 1,
   "metadata": {},
   "outputs": [],
   "source": [
    "import numpy as np;\n",
    "import os;\n",
    "import sys;\n",
    "import joblib;\n",
    "import random;\n",
    "from sklearn.model_selection import train_test_split;\n",
    "# importing custom modules\n",
    "sys.path.append(\"../Assignment 1 - Model Comparison/\");\n",
    "from fileOrganizer import unpack;\n",
    "from performance import plotROC;\n",
    "import constants;"
   ]
  },
  {
   "cell_type": "markdown",
   "metadata": {},
   "source": [
    "## Load the Column Names"
   ]
  },
  {
   "cell_type": "code",
   "execution_count": 2,
   "metadata": {},
   "outputs": [
    {
     "name": "stdout",
     "output_type": "stream",
     "text": [
      "Columns in a sample:  ['age' 'gender' 'education' 'country' 'ethnicity' 'nscore' 'escore'\n",
      " 'oscore' 'ascore' 'cscore' 'impuslive' 'ss']\n"
     ]
    }
   ],
   "source": [
    "columns = joblib.load(os.path.join(\n",
    "    os.pardir,\n",
    "    constants.ASM1_DIR,\n",
    "    constants.MUSH_DIR,\n",
    "    constants.COLUMNS_DIR,\n",
    "    constants.COLUMNS_FILENAME\n",
    "));\n",
    "print(\"Columns in a sample: \", columns);"
   ]
  },
  {
   "cell_type": "markdown",
   "metadata": {},
   "source": [
    "## Load the Data"
   ]
  },
  {
   "cell_type": "markdown",
   "metadata": {},
   "source": [
    "Note: We load the original samples and labels array from the training set and test set respectively. The data are stratified during the split in assignment 1. The size of the test set is of the ratio 1/3. "
   ]
  },
  {
   "cell_type": "code",
   "execution_count": 3,
   "metadata": {},
   "outputs": [
    {
     "name": "stdout",
     "output_type": "stream",
     "text": [
      "Number of Samples in Training Set:  1256\n",
      "Number of Features in Training Set:  12\n",
      "Value range of the original Training Set:  -3.46436 3.46436\n"
     ]
    }
   ],
   "source": [
    "mush_X_train = joblib.load(os.path.join(\n",
    "    os.pardir,\n",
    "    constants.ASM1_DIR,\n",
    "    constants.MUSH_DIR,\n",
    "    constants.TRAIN_DIR,\n",
    "    constants.X_TRAIN_FILENAME\n",
    "));\n",
    "print(\"Number of Samples in Training Set: \", len(mush_X_train));\n",
    "print(\"Number of Features in Training Set: \", len(mush_X_train[random.randint(0, len(mush_X_train)-1)]));\n",
    "print(\"Value range of the original Training Set: \", np.min(mush_X_train), np.max(mush_X_train));"
   ]
  },
  {
   "cell_type": "code",
   "execution_count": 4,
   "metadata": {},
   "outputs": [
    {
     "name": "stdout",
     "output_type": "stream",
     "text": [
      "Number of Samples in Training Set:  1256\n",
      "Unique Labels in Training Set:  ['non-user' 'user']\n"
     ]
    }
   ],
   "source": [
    "mush_y_train = joblib.load(os.path.join(\n",
    "    os.pardir,\n",
    "    constants.ASM1_DIR,\n",
    "    constants.MUSH_DIR,\n",
    "    constants.TRAIN_DIR,\n",
    "    constants.Y_TRAIN_FILENAME\n",
    "));\n",
    "print(\"Number of Samples in Training Set: \", len(mush_y_train));\n",
    "print(\"Unique Labels in Training Set: \", np.unique(mush_y_train));"
   ]
  },
  {
   "cell_type": "code",
   "execution_count": 5,
   "metadata": {},
   "outputs": [
    {
     "name": "stdout",
     "output_type": "stream",
     "text": [
      "Number of Samples in Testing Set:  629\n",
      "Number of Features in Testing Set:  12\n",
      "Value range of the original Testing Set:  -3.27393 3.27393\n"
     ]
    }
   ],
   "source": [
    "mush_X_test = joblib.load(os.path.join(\n",
    "    os.pardir,\n",
    "    constants.ASM1_DIR,\n",
    "    constants.MUSH_DIR,\n",
    "    constants.TEST_DIR,\n",
    "    constants.X_TEST_FILENAME\n",
    "));\n",
    "print(\"Number of Samples in Testing Set: \", len(mush_X_test));\n",
    "print(\"Number of Features in Testing Set: \", len(mush_X_test[random.randint(0, len(mush_X_test)-1)]));\n",
    "print(\"Value range of the original Testing Set: \", np.min(mush_X_test), np.max(mush_X_test));"
   ]
  },
  {
   "cell_type": "code",
   "execution_count": 6,
   "metadata": {},
   "outputs": [
    {
     "name": "stdout",
     "output_type": "stream",
     "text": [
      "Number of Samples in Testing Set:  629\n",
      "Unique Labels in Testing Set:  ['non-user' 'user']\n"
     ]
    }
   ],
   "source": [
    "mush_y_test = joblib.load(os.path.join(\n",
    "    os.pardir,\n",
    "    constants.ASM1_DIR,\n",
    "    constants.MUSH_DIR,\n",
    "    constants.TEST_DIR,\n",
    "    constants.Y_TEST_FILENAME\n",
    "));\n",
    "print(\"Number of Samples in Testing Set: \", len(mush_y_test));\n",
    "print(\"Unique Labels in Testing Set: \", np.unique(mush_y_test));"
   ]
  },
  {
   "cell_type": "markdown",
   "metadata": {},
   "source": [
    "### Loading also the Normalized Data"
   ]
  },
  {
   "cell_type": "code",
   "execution_count": 7,
   "metadata": {},
   "outputs": [
    {
     "name": "stdout",
     "output_type": "stream",
     "text": [
      "Number of Normalized Samples in Training Set:  1256\n",
      "Number of Features in the Normalized Training Set:  12\n",
      "Value range of the original Training Set:  -4.827248760778992 13.457018899436779\n"
     ]
    }
   ],
   "source": [
    "mush_X_train_norm = joblib.load(os.path.join(\n",
    "    os.pardir,\n",
    "    constants.ASM1_DIR,\n",
    "    constants.MUSH_DIR,\n",
    "    constants.TRAIN_DIR,\n",
    "    constants.X_TRAIN_NORMALIZED_FILENAME\n",
    "));\n",
    "print(\"Number of Normalized Samples in Training Set: \", len(mush_X_train_norm));\n",
    "print(\"Number of Features in the Normalized Training Set: \", len(mush_X_train_norm[random.randint(0, len(mush_X_train_norm)-1)]));\n",
    "print(\"Value range of the original Training Set: \", np.min(mush_X_train_norm), np.max(mush_X_train_norm));"
   ]
  },
  {
   "cell_type": "code",
   "execution_count": 8,
   "metadata": {},
   "outputs": [
    {
     "name": "stdout",
     "output_type": "stream",
     "text": [
      "Number of Samples in Training Set:  1256\n",
      "Unique Labels in Training Set:  [0 1]\n"
     ]
    }
   ],
   "source": [
    "mush_y_train_norm = joblib.load(os.path.join(\n",
    "    os.pardir,\n",
    "    constants.ASM1_DIR,\n",
    "    constants.MUSH_DIR,\n",
    "    constants.TRAIN_DIR,\n",
    "    constants.Y_TRAIN_NORMALIZED_FILENAME\n",
    "));\n",
    "print(\"Number of Samples in Training Set: \", len(mush_y_train_norm));\n",
    "print(\"Unique Labels in Training Set: \", np.unique(mush_y_train_norm));"
   ]
  },
  {
   "cell_type": "code",
   "execution_count": 9,
   "metadata": {},
   "outputs": [
    {
     "name": "stdout",
     "output_type": "stream",
     "text": [
      "Number of Normalized Samples in Testing Set:  629\n",
      "Number of Features in the Normalized Testing Set:  12\n",
      "Value range of the Normalized Testing Set:  -4.827248760778992 13.457018899436779\n"
     ]
    }
   ],
   "source": [
    "mush_X_test_norm = joblib.load(os.path.join(\n",
    "    os.pardir,\n",
    "    constants.ASM1_DIR,\n",
    "    constants.MUSH_DIR,\n",
    "    constants.TEST_DIR,\n",
    "    constants.X_TEST_NORMALIZED_FILENAME\n",
    "));\n",
    "print(\"Number of Normalized Samples in Testing Set: \", len(mush_X_test_norm));\n",
    "print(\"Number of Features in the Normalized Testing Set: \", len(mush_X_test_norm[random.randint(0, len(mush_X_test_norm)-1)]));\n",
    "print(\"Value range of the Normalized Testing Set: \", np.min(mush_X_test_norm), np.max(mush_X_test_norm));"
   ]
  },
  {
   "cell_type": "code",
   "execution_count": 10,
   "metadata": {},
   "outputs": [
    {
     "name": "stdout",
     "output_type": "stream",
     "text": [
      "Number of Samples in Testing Set:  629\n",
      "Unique Labels in Testing Set:  [0 1]\n"
     ]
    }
   ],
   "source": [
    "mush_y_test_norm = joblib.load(os.path.join(\n",
    "    os.pardir,\n",
    "    constants.ASM1_DIR,\n",
    "    constants.MUSH_DIR,\n",
    "    constants.TEST_DIR,\n",
    "    constants.Y_TEST_NORMALIZED_FILENAME\n",
    "));\n",
    "print(\"Number of Samples in Testing Set: \", len(mush_y_test_norm));\n",
    "print(\"Unique Labels in Testing Set: \", np.unique(mush_y_test_norm));"
   ]
  },
  {
   "cell_type": "markdown",
   "metadata": {},
   "source": [
    "## Load the Model"
   ]
  },
  {
   "cell_type": "markdown",
   "metadata": {},
   "source": [
    "Note: We load the trained version of the model."
   ]
  },
  {
   "cell_type": "code",
   "execution_count": 11,
   "metadata": {},
   "outputs": [
    {
     "data": {
      "text/html": [
       "<style>#sk-container-id-1 {color: black;background-color: white;}#sk-container-id-1 pre{padding: 0;}#sk-container-id-1 div.sk-toggleable {background-color: white;}#sk-container-id-1 label.sk-toggleable__label {cursor: pointer;display: block;width: 100%;margin-bottom: 0;padding: 0.3em;box-sizing: border-box;text-align: center;}#sk-container-id-1 label.sk-toggleable__label-arrow:before {content: \"▸\";float: left;margin-right: 0.25em;color: #696969;}#sk-container-id-1 label.sk-toggleable__label-arrow:hover:before {color: black;}#sk-container-id-1 div.sk-estimator:hover label.sk-toggleable__label-arrow:before {color: black;}#sk-container-id-1 div.sk-toggleable__content {max-height: 0;max-width: 0;overflow: hidden;text-align: left;background-color: #f0f8ff;}#sk-container-id-1 div.sk-toggleable__content pre {margin: 0.2em;color: black;border-radius: 0.25em;background-color: #f0f8ff;}#sk-container-id-1 input.sk-toggleable__control:checked~div.sk-toggleable__content {max-height: 200px;max-width: 100%;overflow: auto;}#sk-container-id-1 input.sk-toggleable__control:checked~label.sk-toggleable__label-arrow:before {content: \"▾\";}#sk-container-id-1 div.sk-estimator input.sk-toggleable__control:checked~label.sk-toggleable__label {background-color: #d4ebff;}#sk-container-id-1 div.sk-label input.sk-toggleable__control:checked~label.sk-toggleable__label {background-color: #d4ebff;}#sk-container-id-1 input.sk-hidden--visually {border: 0;clip: rect(1px 1px 1px 1px);clip: rect(1px, 1px, 1px, 1px);height: 1px;margin: -1px;overflow: hidden;padding: 0;position: absolute;width: 1px;}#sk-container-id-1 div.sk-estimator {font-family: monospace;background-color: #f0f8ff;border: 1px dotted black;border-radius: 0.25em;box-sizing: border-box;margin-bottom: 0.5em;}#sk-container-id-1 div.sk-estimator:hover {background-color: #d4ebff;}#sk-container-id-1 div.sk-parallel-item::after {content: \"\";width: 100%;border-bottom: 1px solid gray;flex-grow: 1;}#sk-container-id-1 div.sk-label:hover label.sk-toggleable__label {background-color: #d4ebff;}#sk-container-id-1 div.sk-serial::before {content: \"\";position: absolute;border-left: 1px solid gray;box-sizing: border-box;top: 0;bottom: 0;left: 50%;z-index: 0;}#sk-container-id-1 div.sk-serial {display: flex;flex-direction: column;align-items: center;background-color: white;padding-right: 0.2em;padding-left: 0.2em;position: relative;}#sk-container-id-1 div.sk-item {position: relative;z-index: 1;}#sk-container-id-1 div.sk-parallel {display: flex;align-items: stretch;justify-content: center;background-color: white;position: relative;}#sk-container-id-1 div.sk-item::before, #sk-container-id-1 div.sk-parallel-item::before {content: \"\";position: absolute;border-left: 1px solid gray;box-sizing: border-box;top: 0;bottom: 0;left: 50%;z-index: -1;}#sk-container-id-1 div.sk-parallel-item {display: flex;flex-direction: column;z-index: 1;position: relative;background-color: white;}#sk-container-id-1 div.sk-parallel-item:first-child::after {align-self: flex-end;width: 50%;}#sk-container-id-1 div.sk-parallel-item:last-child::after {align-self: flex-start;width: 50%;}#sk-container-id-1 div.sk-parallel-item:only-child::after {width: 0;}#sk-container-id-1 div.sk-dashed-wrapped {border: 1px dashed gray;margin: 0 0.4em 0.5em 0.4em;box-sizing: border-box;padding-bottom: 0.4em;background-color: white;}#sk-container-id-1 div.sk-label label {font-family: monospace;font-weight: bold;display: inline-block;line-height: 1.2em;}#sk-container-id-1 div.sk-label-container {text-align: center;}#sk-container-id-1 div.sk-container {/* jupyter's `normalize.less` sets `[hidden] { display: none; }` but bootstrap.min.css set `[hidden] { display: none !important; }` so we also need the `!important` here to be able to override the default hidden behavior on the sphinx rendered scikit-learn.org. See: https://github.com/scikit-learn/scikit-learn/issues/21755 */display: inline-block !important;position: relative;}#sk-container-id-1 div.sk-text-repr-fallback {display: none;}</style><div id=\"sk-container-id-1\" class=\"sk-top-container\"><div class=\"sk-text-repr-fallback\"><pre>RandomizedSearchCV(estimator=GradientBoostingClassifier(),\n",
       "                   param_distributions={&#x27;max_depth&#x27;: array([ 6,  8,  4, 14, 12,  9,  9,  3,  7, 17, 19,  1, 19, 17, 15, 12, 16,\n",
       "       18,  2,  8, 15,  9, 12,  2,  8, 17, 11,  1, 14, 15, 13,  4,  1, 19,\n",
       "       12, 15,  6, 19,  9, 17, 10, 12, 16,  3,  5, 13, 10, 19,  5,  5,  4,\n",
       "       10,  6,  4,  5,  2, 17,  1,  1,  5, 10,  1, 10, 11,  8, 14, 13, 12,\n",
       "        8, 17, 14,  1,  3,  4, 19, 10,  6, 19, 14,  2, 19, 15, 13,  7,  5,\n",
       "        3,  4,  3, 14, 10,  5, 16, 10,  5, 16, 15,  4,  8, 17,  8],\n",
       "      dtype=int64),\n",
       "                                        &#x27;min_samples_split&#x27;: &lt;scipy.stats._distn_infrastructure.rv_continuous_frozen object at 0x000001B037DE4190&gt;},\n",
       "                   random_state=42)</pre><b>In a Jupyter environment, please rerun this cell to show the HTML representation or trust the notebook. <br />On GitHub, the HTML representation is unable to render, please try loading this page with nbviewer.org.</b></div><div class=\"sk-container\" hidden><div class=\"sk-item sk-dashed-wrapped\"><div class=\"sk-label-container\"><div class=\"sk-label sk-toggleable\"><input class=\"sk-toggleable__control sk-hidden--visually\" id=\"sk-estimator-id-1\" type=\"checkbox\" ><label for=\"sk-estimator-id-1\" class=\"sk-toggleable__label sk-toggleable__label-arrow\">RandomizedSearchCV</label><div class=\"sk-toggleable__content\"><pre>RandomizedSearchCV(estimator=GradientBoostingClassifier(),\n",
       "                   param_distributions={&#x27;max_depth&#x27;: array([ 6,  8,  4, 14, 12,  9,  9,  3,  7, 17, 19,  1, 19, 17, 15, 12, 16,\n",
       "       18,  2,  8, 15,  9, 12,  2,  8, 17, 11,  1, 14, 15, 13,  4,  1, 19,\n",
       "       12, 15,  6, 19,  9, 17, 10, 12, 16,  3,  5, 13, 10, 19,  5,  5,  4,\n",
       "       10,  6,  4,  5,  2, 17,  1,  1,  5, 10,  1, 10, 11,  8, 14, 13, 12,\n",
       "        8, 17, 14,  1,  3,  4, 19, 10,  6, 19, 14,  2, 19, 15, 13,  7,  5,\n",
       "        3,  4,  3, 14, 10,  5, 16, 10,  5, 16, 15,  4,  8, 17,  8],\n",
       "      dtype=int64),\n",
       "                                        &#x27;min_samples_split&#x27;: &lt;scipy.stats._distn_infrastructure.rv_continuous_frozen object at 0x000001B037DE4190&gt;},\n",
       "                   random_state=42)</pre></div></div></div><div class=\"sk-parallel\"><div class=\"sk-parallel-item\"><div class=\"sk-item\"><div class=\"sk-label-container\"><div class=\"sk-label sk-toggleable\"><input class=\"sk-toggleable__control sk-hidden--visually\" id=\"sk-estimator-id-2\" type=\"checkbox\" ><label for=\"sk-estimator-id-2\" class=\"sk-toggleable__label sk-toggleable__label-arrow\">estimator: GradientBoostingClassifier</label><div class=\"sk-toggleable__content\"><pre>GradientBoostingClassifier()</pre></div></div></div><div class=\"sk-serial\"><div class=\"sk-item\"><div class=\"sk-estimator sk-toggleable\"><input class=\"sk-toggleable__control sk-hidden--visually\" id=\"sk-estimator-id-3\" type=\"checkbox\" ><label for=\"sk-estimator-id-3\" class=\"sk-toggleable__label sk-toggleable__label-arrow\">GradientBoostingClassifier</label><div class=\"sk-toggleable__content\"><pre>GradientBoostingClassifier()</pre></div></div></div></div></div></div></div></div></div></div>"
      ],
      "text/plain": [
       "RandomizedSearchCV(estimator=GradientBoostingClassifier(),\n",
       "                   param_distributions={'max_depth': array([ 6,  8,  4, 14, 12,  9,  9,  3,  7, 17, 19,  1, 19, 17, 15, 12, 16,\n",
       "       18,  2,  8, 15,  9, 12,  2,  8, 17, 11,  1, 14, 15, 13,  4,  1, 19,\n",
       "       12, 15,  6, 19,  9, 17, 10, 12, 16,  3,  5, 13, 10, 19,  5,  5,  4,\n",
       "       10,  6,  4,  5,  2, 17,  1,  1,  5, 10,  1, 10, 11,  8, 14, 13, 12,\n",
       "        8, 17, 14,  1,  3,  4, 19, 10,  6, 19, 14,  2, 19, 15, 13,  7,  5,\n",
       "        3,  4,  3, 14, 10,  5, 16, 10,  5, 16, 15,  4,  8, 17,  8],\n",
       "      dtype=int64),\n",
       "                                        'min_samples_split': <scipy.stats._distn_infrastructure.rv_continuous_frozen object at 0x000001B037DE4190>},\n",
       "                   random_state=42)"
      ]
     },
     "execution_count": 11,
     "metadata": {},
     "output_type": "execute_result"
    }
   ],
   "source": [
    "# Gradient Boost (Trained)\n",
    "supervisedModel = unpack(os.path.join(\n",
    "    os.pardir,\n",
    "    constants.ASM1_DIR,\n",
    "    constants.MUSH_DIR,\n",
    "    constants.POSTTRAINED_DIR,\n",
    "    constants.MODEL_FILENAME\n",
    "));\n",
    "supervisedModel"
   ]
  },
  {
   "cell_type": "markdown",
   "metadata": {},
   "source": [
    "## Split the Datasets into Labelled and Unlabelled sets"
   ]
  },
  {
   "cell_type": "markdown",
   "metadata": {},
   "source": [
    "Note: We use normalized data here."
   ]
  },
  {
   "cell_type": "code",
   "execution_count": 12,
   "metadata": {},
   "outputs": [
    {
     "name": "stdout",
     "output_type": "stream",
     "text": [
      "Number of Labelled Samples:  251\n",
      "Number of Unlabelled Samples:  1005\n",
      "Number of Features in Labelled Samples:  12\n",
      "Number of Features in Unlabelled Samples:  12\n",
      "Value range of the Labelled Samples:  -4.827248760778992 3.262658784576777\n",
      "Value range of the Unlabelled Samples:  -4.827248760778992 13.457018899436779\n",
      "Unique Labels in Labelled Samples:  [0 1]\n",
      "Unique Labels in Unlabelled Samples:  [0 1]\n",
      "Size of a random sample from Labelled Samples:  [ 0.53976709  0.98734126  1.22904214  0.85971296  2.58176576  0.43021343\n",
      " -0.81795623  1.06588791  0.7873342   0.57342152 -0.71190347 -0.20099215]\n"
     ]
    }
   ],
   "source": [
    "X_train_labelled,  X_trained_unlabelled, y_train_labelled, y_train_unlabelled = train_test_split(\n",
    "    mush_X_train_norm,\n",
    "    mush_y_train_norm,\n",
    "    test_size=1-constants.LABELLED_PORTION,\n",
    "    random_state=constants.RANDOM_STATE\n",
    ")\n",
    "print(\"Number of Labelled Samples: \", len(X_train_labelled));\n",
    "print(\"Number of Unlabelled Samples: \", len(X_trained_unlabelled));\n",
    "print(\"Number of Features in Labelled Samples: \", len(X_train_labelled[random.randint(0, len(X_train_labelled))]));\n",
    "print(\"Number of Features in Unlabelled Samples: \", len(X_trained_unlabelled[random.randint(0, len(X_trained_unlabelled))]));\n",
    "print(\"Value range of the Labelled Samples: \", np.min(X_train_labelled), np.max(X_train_labelled));\n",
    "print(\"Value range of the Unlabelled Samples: \", np.min(X_trained_unlabelled), np.max(X_trained_unlabelled));\n",
    "print(\"Unique Labels in Labelled Samples: \", np.unique(y_train_labelled));\n",
    "print(\"Unique Labels in Unlabelled Samples: \", np.unique(y_train_unlabelled));\n",
    "print(\"Size of a random sample from Labelled Samples: \", X_train_labelled[random.randint(0, len(X_train_labelled))]);"
   ]
  },
  {
   "cell_type": "markdown",
   "metadata": {},
   "source": [
    "## Train the Model with Labelled Data"
   ]
  },
  {
   "cell_type": "code",
   "execution_count": 13,
   "metadata": {},
   "outputs": [],
   "source": [
    "supervisedModel.fit(X_train_labelled, y_train_labelled);"
   ]
  },
  {
   "cell_type": "markdown",
   "metadata": {},
   "source": [
    "## Save the Baseline Model and Related Data"
   ]
  },
  {
   "cell_type": "code",
   "execution_count": 14,
   "metadata": {},
   "outputs": [],
   "source": [
    "# save the model (trained with labelled data) in the current project directory\n",
    "if (constants.MODEL_DIR not in os.listdir(os.curdir)):\n",
    "    os.mkdir(constants.MODEL_DIR);\n",
    "joblib.dump(supervisedModel, os.path.join(\n",
    "    constants.MODEL_DIR,\n",
    "    constants.MODEL_FILENAME\n",
    "));"
   ]
  },
  {
   "cell_type": "code",
   "execution_count": 15,
   "metadata": {},
   "outputs": [],
   "source": [
    "# save the original training set data in the current project directory\n",
    "if (constants.TRAIN_DIR not in os.listdir(os.curdir)):\n",
    "    os.mkdir(constants.TRAIN_DIR);\n",
    "# original training set\n",
    "joblib.dump(mush_X_train, os.path.join(\n",
    "    constants.TRAIN_DIR,\n",
    "    constants.X_TRAIN_FILENAME\n",
    "));\n",
    "joblib.dump(mush_y_train, os.path.join(\n",
    "    constants.TRAIN_DIR,\n",
    "    constants.Y_TRAIN_FILENAME\n",
    "));\n",
    "# normalized training set\n",
    "joblib.dump(mush_X_train_norm, os.path.join(\n",
    "    constants.TRAIN_DIR,\n",
    "    constants.X_TRAIN_NORMALIZED_FILENAME\n",
    "));\n",
    "joblib.dump(mush_y_train_norm, os.path.join(\n",
    "    constants.TRAIN_DIR,\n",
    "    constants.Y_TRAIN_NORMALIZED_FILENAME\n",
    "));"
   ]
  },
  {
   "cell_type": "code",
   "execution_count": 16,
   "metadata": {},
   "outputs": [],
   "source": [
    "# save the original testing set data in the current project directory\n",
    "if (constants.TEST_DIR not in os.listdir(os.curdir)):\n",
    "    os.mkdir(constants.TEST_DIR);\n",
    "# original testing set\n",
    "joblib.dump(mush_X_test, os.path.join(\n",
    "    constants.TEST_DIR,\n",
    "    constants.X_TEST_FILENAME\n",
    "));\n",
    "joblib.dump(mush_y_test, os.path.join(\n",
    "    constants.TEST_DIR,\n",
    "    constants.Y_TEST_FILENAME\n",
    "));\n",
    "# normalized testing set\n",
    "joblib.dump(mush_X_test_norm, os.path.join(\n",
    "    constants.TEST_DIR,\n",
    "    constants.X_TEST_NORMALIZED_FILENAME\n",
    "));\n",
    "joblib.dump(mush_y_test_norm, os.path.join(\n",
    "    constants.TEST_DIR,\n",
    "    constants.Y_TEST_NORMALIZED_FILENAME\n",
    "));"
   ]
  },
  {
   "cell_type": "code",
   "execution_count": 17,
   "metadata": {},
   "outputs": [],
   "source": [
    "# save the column names in the current project directory\n",
    "if (constants.COLUMNS_DIR not in os.listdir(os.curdir)):\n",
    "    os.mkdir(constants.COLUMNS_DIR);\n",
    "joblib.dump(columns, os.path.join(\n",
    "    constants.COLUMNS_DIR,\n",
    "    constants.COLUMNS_FILENAME\n",
    "));"
   ]
  },
  {
   "cell_type": "code",
   "execution_count": 18,
   "metadata": {},
   "outputs": [],
   "source": [
    "# Save the data after split\n",
    "# labelled data\n",
    "joblib.dump(X_train_labelled, os.path.join(\n",
    "    constants.TRAIN_DIR,\n",
    "    constants.X_TRAIN_LABELLED_FILENAME\n",
    "));\n",
    "joblib.dump(y_train_labelled, os.path.join(\n",
    "    constants.TRAIN_DIR,\n",
    "    constants.Y_TRAIN_LABELLED_FILENAME\n",
    "));\n",
    "# unlabeled data\n",
    "joblib.dump(X_trained_unlabelled, os.path.join(\n",
    "    constants.TRAIN_DIR,\n",
    "    constants.X_TRAIN_UNLABELLED_FILENAME\n",
    "));\n",
    "joblib.dump(y_train_unlabelled, os.path.join(\n",
    "    constants.TRAIN_DIR,\n",
    "    constants.Y_TRAIN_UNLABELLED_FILENAME\n",
    "));"
   ]
  },
  {
   "cell_type": "markdown",
   "metadata": {},
   "source": [
    "### Save the Pred Proba of the Baseline Model"
   ]
  },
  {
   "cell_type": "code",
   "execution_count": 26,
   "metadata": {},
   "outputs": [],
   "source": [
    "y_pred_proba = supervisedModel.predict_proba(mush_X_test_norm)[:, 1];\n",
    "joblib.dump(y_pred_proba, os.path.join(\n",
    "    constants.PRED_DIR,\n",
    "    constants.Y_PRED_TEST_BASELINE_FILENAME\n",
    "));"
   ]
  },
  {
   "cell_type": "markdown",
   "metadata": {},
   "source": [
    "### Display the ROC Curve and its Area Under the Curve (AUC)"
   ]
  },
  {
   "cell_type": "code",
   "execution_count": null,
   "metadata": {},
   "outputs": [
    {
     "ename": "ValueError",
     "evalue": "y should be a 1d array, got an array of shape (629, 2) instead.",
     "output_type": "error",
     "traceback": [
      "\u001b[1;31m---------------------------------------------------------------------------\u001b[0m",
      "\u001b[1;31mValueError\u001b[0m                                Traceback (most recent call last)",
      "Cell \u001b[1;32mIn[27], line 5\u001b[0m\n\u001b[0;32m      1\u001b[0m features_subsets \u001b[38;5;241m=\u001b[39m joblib\u001b[38;5;241m.\u001b[39mload(os\u001b[38;5;241m.\u001b[39mpath\u001b[38;5;241m.\u001b[39mjoin(\n\u001b[0;32m      2\u001b[0m             constants\u001b[38;5;241m.\u001b[39mMODEL_DIR,\n\u001b[0;32m      3\u001b[0m             constants\u001b[38;5;241m.\u001b[39mCO_TRAINING_BEST_FEATURE_SPLIT_RESULTS_FILENAME\n\u001b[0;32m      4\u001b[0m         ));\n\u001b[1;32m----> 5\u001b[0m AUC_baseline, AUC_selftraining, AUC_cotraining, AUC_semiboost, AUC_labelspread \u001b[38;5;241m=\u001b[39m \u001b[43mplotROC\u001b[49m\u001b[43m(\u001b[49m\n\u001b[0;32m      6\u001b[0m \u001b[43m    \u001b[49m\u001b[43mmodels\u001b[49m\u001b[38;5;241;43m=\u001b[39;49m\u001b[43m{\u001b[49m\n\u001b[0;32m      7\u001b[0m \u001b[43m        \u001b[49m\u001b[38;5;124;43m\"\u001b[39;49m\u001b[38;5;124;43mBaseline Model\u001b[39;49m\u001b[38;5;124;43m\"\u001b[39;49m\u001b[43m:\u001b[49m\u001b[43m \u001b[49m\u001b[43msupervisedModel\u001b[49m\u001b[43m,\u001b[49m\n\u001b[0;32m      8\u001b[0m \u001b[43m        \u001b[49m\u001b[38;5;124;43m\"\u001b[39;49m\u001b[38;5;124;43mSelf Learning Model\u001b[39;49m\u001b[38;5;124;43m\"\u001b[39;49m\u001b[43m:\u001b[49m\u001b[43m \u001b[49m\u001b[43mjoblib\u001b[49m\u001b[38;5;241;43m.\u001b[39;49m\u001b[43mload\u001b[49m\u001b[43m(\u001b[49m\u001b[43mos\u001b[49m\u001b[38;5;241;43m.\u001b[39;49m\u001b[43mpath\u001b[49m\u001b[38;5;241;43m.\u001b[39;49m\u001b[43mjoin\u001b[49m\u001b[43m(\u001b[49m\n\u001b[0;32m      9\u001b[0m \u001b[43m            \u001b[49m\u001b[43mconstants\u001b[49m\u001b[38;5;241;43m.\u001b[39;49m\u001b[43mMODEL_DIR\u001b[49m\u001b[43m,\u001b[49m\n\u001b[0;32m     10\u001b[0m \u001b[43m            \u001b[49m\u001b[43mconstants\u001b[49m\u001b[38;5;241;43m.\u001b[39;49m\u001b[43mMODEL_SELFTRAIN_FILENAME\u001b[49m\n\u001b[0;32m     11\u001b[0m \u001b[43m        \u001b[49m\u001b[43m)\u001b[49m\u001b[43m)\u001b[49m\u001b[43m,\u001b[49m\n\u001b[0;32m     12\u001b[0m \u001b[43m        \u001b[49m\u001b[38;5;124;43m\"\u001b[39;49m\u001b[38;5;124;43mCo-Training Model\u001b[39;49m\u001b[38;5;124;43m\"\u001b[39;49m\u001b[43m:\u001b[49m\u001b[43m \u001b[49m\u001b[43mjoblib\u001b[49m\u001b[38;5;241;43m.\u001b[39;49m\u001b[43mload\u001b[49m\u001b[43m(\u001b[49m\u001b[43mos\u001b[49m\u001b[38;5;241;43m.\u001b[39;49m\u001b[43mpath\u001b[49m\u001b[38;5;241;43m.\u001b[39;49m\u001b[43mjoin\u001b[49m\u001b[43m(\u001b[49m\n\u001b[0;32m     13\u001b[0m \u001b[43m            \u001b[49m\u001b[43mconstants\u001b[49m\u001b[38;5;241;43m.\u001b[39;49m\u001b[43mMODEL_DIR\u001b[49m\u001b[43m,\u001b[49m\n\u001b[0;32m     14\u001b[0m \u001b[43m            \u001b[49m\u001b[43mconstants\u001b[49m\u001b[38;5;241;43m.\u001b[39;49m\u001b[43mMODEL_COTRAIN_1_FILENAME\u001b[49m\n\u001b[0;32m     15\u001b[0m \u001b[43m        \u001b[49m\u001b[43m)\u001b[49m\u001b[43m)\u001b[49m\u001b[43m,\u001b[49m\n\u001b[0;32m     16\u001b[0m \u001b[43m        \u001b[49m\u001b[38;5;124;43m\"\u001b[39;49m\u001b[38;5;124;43mSemi-Boost\u001b[39;49m\u001b[38;5;124;43m\"\u001b[39;49m\u001b[43m:\u001b[49m\u001b[43m \u001b[49m\u001b[43mjoblib\u001b[49m\u001b[38;5;241;43m.\u001b[39;49m\u001b[43mload\u001b[49m\u001b[43m(\u001b[49m\u001b[43mos\u001b[49m\u001b[38;5;241;43m.\u001b[39;49m\u001b[43mpath\u001b[49m\u001b[38;5;241;43m.\u001b[39;49m\u001b[43mjoin\u001b[49m\u001b[43m(\u001b[49m\n\u001b[0;32m     17\u001b[0m \u001b[43m            \u001b[49m\u001b[43mconstants\u001b[49m\u001b[38;5;241;43m.\u001b[39;49m\u001b[43mMODEL_DIR\u001b[49m\u001b[43m,\u001b[49m\n\u001b[0;32m     18\u001b[0m \u001b[43m            \u001b[49m\u001b[43mconstants\u001b[49m\u001b[38;5;241;43m.\u001b[39;49m\u001b[43mMODEL_SEMIBOOST_FILENAME\u001b[49m\n\u001b[0;32m     19\u001b[0m \u001b[43m        \u001b[49m\u001b[43m)\u001b[49m\u001b[43m)\u001b[49m\u001b[43m,\u001b[49m\n\u001b[0;32m     20\u001b[0m \u001b[43m        \u001b[49m\u001b[38;5;124;43m\"\u001b[39;49m\u001b[38;5;124;43mLabel Spreading\u001b[39;49m\u001b[38;5;124;43m\"\u001b[39;49m\u001b[43m:\u001b[49m\u001b[43m \u001b[49m\u001b[43mjoblib\u001b[49m\u001b[38;5;241;43m.\u001b[39;49m\u001b[43mload\u001b[49m\u001b[43m(\u001b[49m\u001b[43mos\u001b[49m\u001b[38;5;241;43m.\u001b[39;49m\u001b[43mpath\u001b[49m\u001b[38;5;241;43m.\u001b[39;49m\u001b[43mjoin\u001b[49m\u001b[43m(\u001b[49m\n\u001b[0;32m     21\u001b[0m \u001b[43m            \u001b[49m\u001b[43mconstants\u001b[49m\u001b[38;5;241;43m.\u001b[39;49m\u001b[43mMODEL_DIR\u001b[49m\u001b[43m,\u001b[49m\n\u001b[0;32m     22\u001b[0m \u001b[43m            \u001b[49m\u001b[43mconstants\u001b[49m\u001b[38;5;241;43m.\u001b[39;49m\u001b[43mMODEL_LABELSPREAD_FILENAME\u001b[49m\n\u001b[0;32m     23\u001b[0m \u001b[43m        \u001b[49m\u001b[43m)\u001b[49m\u001b[43m)\u001b[49m\n\u001b[0;32m     24\u001b[0m \u001b[43m    \u001b[49m\u001b[43m}\u001b[49m\u001b[43m,\u001b[49m\n\u001b[0;32m     25\u001b[0m \u001b[43m    \u001b[49m\u001b[43mX_test\u001b[49m\u001b[38;5;241;43m=\u001b[39;49m\u001b[43mmush_X_test_norm\u001b[49m\u001b[43m,\u001b[49m\n\u001b[0;32m     26\u001b[0m \u001b[43m    \u001b[49m\u001b[43my_test\u001b[49m\u001b[38;5;241;43m=\u001b[39;49m\u001b[43mmush_y_test_norm\u001b[49m\u001b[43m,\u001b[49m\n\u001b[0;32m     27\u001b[0m \u001b[43m    \u001b[49m\u001b[43mfeature_subsets\u001b[49m\u001b[38;5;241;43m=\u001b[39;49m\u001b[43m{\u001b[49m\n\u001b[0;32m     28\u001b[0m \u001b[43m        \u001b[49m\u001b[38;5;124;43m\"\u001b[39;49m\u001b[38;5;124;43mCo-Training Model 1\u001b[39;49m\u001b[38;5;124;43m\"\u001b[39;49m\u001b[43m:\u001b[49m\u001b[43m \u001b[49m\u001b[43mfeatures_subsets\u001b[49m\u001b[43m[\u001b[49m\u001b[38;5;124;43m\"\u001b[39;49m\u001b[38;5;124;43mfeatures_view1\u001b[39;49m\u001b[38;5;124;43m\"\u001b[39;49m\u001b[43m]\u001b[49m\u001b[43m,\u001b[49m\n\u001b[0;32m     29\u001b[0m \u001b[43m        \u001b[49m\u001b[38;5;124;43m\"\u001b[39;49m\u001b[38;5;124;43mCo-Training Model 2\u001b[39;49m\u001b[38;5;124;43m\"\u001b[39;49m\u001b[43m:\u001b[49m\u001b[43m \u001b[49m\u001b[43mfeatures_subsets\u001b[49m\u001b[43m[\u001b[49m\u001b[38;5;124;43m\"\u001b[39;49m\u001b[38;5;124;43mfeatures_view2\u001b[39;49m\u001b[38;5;124;43m\"\u001b[39;49m\u001b[43m]\u001b[49m\u001b[43m,\u001b[49m\n\u001b[0;32m     30\u001b[0m \u001b[43m    \u001b[49m\u001b[43m}\u001b[49m\u001b[43m,\u001b[49m\n\u001b[0;32m     31\u001b[0m \u001b[43m    \u001b[49m\u001b[43my_pred_proba\u001b[49m\u001b[38;5;241;43m=\u001b[39;49m\u001b[43m[\u001b[49m\n\u001b[0;32m     32\u001b[0m \u001b[43m        \u001b[49m\u001b[43msupervisedModel\u001b[49m\u001b[38;5;241;43m.\u001b[39;49m\u001b[43mpredict_proba\u001b[49m\u001b[43m(\u001b[49m\u001b[43mmush_X_test_norm\u001b[49m\u001b[43m)\u001b[49m\u001b[43m,\u001b[49m\n\u001b[0;32m     33\u001b[0m \u001b[43m        \u001b[49m\u001b[43mjoblib\u001b[49m\u001b[38;5;241;43m.\u001b[39;49m\u001b[43mload\u001b[49m\u001b[43m(\u001b[49m\u001b[43mos\u001b[49m\u001b[38;5;241;43m.\u001b[39;49m\u001b[43mpath\u001b[49m\u001b[38;5;241;43m.\u001b[39;49m\u001b[43mjoin\u001b[49m\u001b[43m(\u001b[49m\n\u001b[0;32m     34\u001b[0m \u001b[43m            \u001b[49m\u001b[43mconstants\u001b[49m\u001b[38;5;241;43m.\u001b[39;49m\u001b[43mPRED_DIR\u001b[49m\u001b[43m,\u001b[49m\n\u001b[0;32m     35\u001b[0m \u001b[43m            \u001b[49m\u001b[43mconstants\u001b[49m\u001b[38;5;241;43m.\u001b[39;49m\u001b[43mY_PRED_TEST_SELFTRAIN_FILENAME\u001b[49m\n\u001b[0;32m     36\u001b[0m \u001b[43m        \u001b[49m\u001b[43m)\u001b[49m\u001b[43m)\u001b[49m\u001b[43m,\u001b[49m\n\u001b[0;32m     37\u001b[0m \u001b[43m        \u001b[49m\u001b[43mjoblib\u001b[49m\u001b[38;5;241;43m.\u001b[39;49m\u001b[43mload\u001b[49m\u001b[43m(\u001b[49m\u001b[43mos\u001b[49m\u001b[38;5;241;43m.\u001b[39;49m\u001b[43mpath\u001b[49m\u001b[38;5;241;43m.\u001b[39;49m\u001b[43mjoin\u001b[49m\u001b[43m(\u001b[49m\n\u001b[0;32m     38\u001b[0m \u001b[43m            \u001b[49m\u001b[43mconstants\u001b[49m\u001b[38;5;241;43m.\u001b[39;49m\u001b[43mPRED_DIR\u001b[49m\u001b[43m,\u001b[49m\n\u001b[0;32m     39\u001b[0m \u001b[43m            \u001b[49m\u001b[43mconstants\u001b[49m\u001b[38;5;241;43m.\u001b[39;49m\u001b[43mY_PRED_TEST_COTRAIN_FILENAME\u001b[49m\n\u001b[0;32m     40\u001b[0m \u001b[43m        \u001b[49m\u001b[43m)\u001b[49m\u001b[43m)\u001b[49m\u001b[43m,\u001b[49m\n\u001b[0;32m     41\u001b[0m \u001b[43m        \u001b[49m\u001b[43mjoblib\u001b[49m\u001b[38;5;241;43m.\u001b[39;49m\u001b[43mload\u001b[49m\u001b[43m(\u001b[49m\u001b[43mos\u001b[49m\u001b[38;5;241;43m.\u001b[39;49m\u001b[43mpath\u001b[49m\u001b[38;5;241;43m.\u001b[39;49m\u001b[43mjoin\u001b[49m\u001b[43m(\u001b[49m\n\u001b[0;32m     42\u001b[0m \u001b[43m            \u001b[49m\u001b[43mconstants\u001b[49m\u001b[38;5;241;43m.\u001b[39;49m\u001b[43mPRED_DIR\u001b[49m\u001b[43m,\u001b[49m\n\u001b[0;32m     43\u001b[0m \u001b[43m            \u001b[49m\u001b[43mconstants\u001b[49m\u001b[38;5;241;43m.\u001b[39;49m\u001b[43mY_PRED_TEST_SEMIBOOST_FILENAME\u001b[49m\n\u001b[0;32m     44\u001b[0m \u001b[43m        \u001b[49m\u001b[43m)\u001b[49m\u001b[43m)\u001b[49m\u001b[43m,\u001b[49m\n\u001b[0;32m     45\u001b[0m \u001b[43m        \u001b[49m\u001b[43mjoblib\u001b[49m\u001b[38;5;241;43m.\u001b[39;49m\u001b[43mload\u001b[49m\u001b[43m(\u001b[49m\u001b[43mos\u001b[49m\u001b[38;5;241;43m.\u001b[39;49m\u001b[43mpath\u001b[49m\u001b[38;5;241;43m.\u001b[39;49m\u001b[43mjoin\u001b[49m\u001b[43m(\u001b[49m\n\u001b[0;32m     46\u001b[0m \u001b[43m            \u001b[49m\u001b[43mconstants\u001b[49m\u001b[38;5;241;43m.\u001b[39;49m\u001b[43mPRED_DIR\u001b[49m\u001b[43m,\u001b[49m\n\u001b[0;32m     47\u001b[0m \u001b[43m            \u001b[49m\u001b[43mconstants\u001b[49m\u001b[38;5;241;43m.\u001b[39;49m\u001b[43mY_PRED_TEST_LABELSPREAD_FILENAME\u001b[49m\n\u001b[0;32m     48\u001b[0m \u001b[43m        \u001b[49m\u001b[43m)\u001b[49m\u001b[43m)\u001b[49m\n\u001b[0;32m     49\u001b[0m \u001b[43m    \u001b[49m\u001b[43m]\u001b[49m\u001b[43m,\u001b[49m\n\u001b[0;32m     50\u001b[0m \u001b[43m    \u001b[49m\u001b[43mdataset\u001b[49m\u001b[38;5;241;43m=\u001b[39;49m\u001b[38;5;124;43m\"\u001b[39;49m\u001b[38;5;124;43mmushroom\u001b[39;49m\u001b[38;5;124;43m\"\u001b[39;49m\n\u001b[0;32m     51\u001b[0m \u001b[43m)\u001b[49m;\n\u001b[0;32m     52\u001b[0m \u001b[38;5;28mprint\u001b[39m(\u001b[38;5;124mf\u001b[39m\u001b[38;5;124m\"\u001b[39m\u001b[38;5;124mAUC of the Baseline Model: \u001b[39m\u001b[38;5;132;01m{\u001b[39;00mAUC_baseline\u001b[38;5;132;01m}\u001b[39;00m\u001b[38;5;124m\"\u001b[39m);\n\u001b[0;32m     53\u001b[0m \u001b[38;5;28mprint\u001b[39m(\u001b[38;5;124mf\u001b[39m\u001b[38;5;124m\"\u001b[39m\u001b[38;5;124mAUC of the Self Learning Model: \u001b[39m\u001b[38;5;132;01m{\u001b[39;00mAUC_selftraining\u001b[38;5;132;01m}\u001b[39;00m\u001b[38;5;124m\"\u001b[39m);\n",
      "File \u001b[1;32mc:\\Data\\Canada\\Study\\masters\\CSI5155 - Machine Learning\\Assignment 2\\Drug-Consumption-Machine-Learning-analysis\\Project - Semi Supervised Learning\\../Assignment 1 - Model Comparison\\performance.py:183\u001b[0m, in \u001b[0;36mplotROC\u001b[1;34m(models, X_test, y_test, dataset, feature_subsets, y_pred_proba)\u001b[0m\n\u001b[0;32m    180\u001b[0m \u001b[38;5;28;01melse\u001b[39;00m:\n\u001b[0;32m    181\u001b[0m     y_scores \u001b[38;5;241m=\u001b[39m getYScore(model, X_test_subset);\n\u001b[1;32m--> 183\u001b[0m fpr, tpr, _ \u001b[38;5;241m=\u001b[39m \u001b[43mroc_curve\u001b[49m\u001b[43m(\u001b[49m\u001b[43my_test\u001b[49m\u001b[43m,\u001b[49m\u001b[43m \u001b[49m\u001b[43my_scores\u001b[49m\u001b[43m)\u001b[49m;\n\u001b[0;32m    184\u001b[0m auc \u001b[38;5;241m=\u001b[39m getAUC(y_test, y_scores);\n\u001b[0;32m    185\u001b[0m plt\u001b[38;5;241m.\u001b[39mplot(fpr, tpr, label\u001b[38;5;241m=\u001b[39m\u001b[38;5;124mf\u001b[39m\u001b[38;5;124m'\u001b[39m\u001b[38;5;132;01m{\u001b[39;00mmodelName\u001b[38;5;132;01m}\u001b[39;00m\u001b[38;5;124m (AUC = \u001b[39m\u001b[38;5;132;01m{\u001b[39;00mauc\u001b[38;5;132;01m:\u001b[39;00m\u001b[38;5;124m.2f\u001b[39m\u001b[38;5;132;01m}\u001b[39;00m\u001b[38;5;124m)\u001b[39m\u001b[38;5;124m'\u001b[39m);\n",
      "File \u001b[1;32mc:\\Users\\kelvi\\AppData\\Local\\Programs\\Python\\Python310\\lib\\site-packages\\sklearn\\metrics\\_ranking.py:981\u001b[0m, in \u001b[0;36mroc_curve\u001b[1;34m(y_true, y_score, pos_label, sample_weight, drop_intermediate)\u001b[0m\n\u001b[0;32m    892\u001b[0m \u001b[38;5;28;01mdef\u001b[39;00m \u001b[38;5;21mroc_curve\u001b[39m(\n\u001b[0;32m    893\u001b[0m     y_true, y_score, \u001b[38;5;241m*\u001b[39m, pos_label\u001b[38;5;241m=\u001b[39m\u001b[38;5;28;01mNone\u001b[39;00m, sample_weight\u001b[38;5;241m=\u001b[39m\u001b[38;5;28;01mNone\u001b[39;00m, drop_intermediate\u001b[38;5;241m=\u001b[39m\u001b[38;5;28;01mTrue\u001b[39;00m\n\u001b[0;32m    894\u001b[0m ):\n\u001b[0;32m    895\u001b[0m \u001b[38;5;250m    \u001b[39m\u001b[38;5;124;03m\"\"\"Compute Receiver operating characteristic (ROC).\u001b[39;00m\n\u001b[0;32m    896\u001b[0m \n\u001b[0;32m    897\u001b[0m \u001b[38;5;124;03m    Note: this implementation is restricted to the binary classification task.\u001b[39;00m\n\u001b[1;32m   (...)\u001b[0m\n\u001b[0;32m    979\u001b[0m \n\u001b[0;32m    980\u001b[0m \u001b[38;5;124;03m    \"\"\"\u001b[39;00m\n\u001b[1;32m--> 981\u001b[0m     fps, tps, thresholds \u001b[38;5;241m=\u001b[39m \u001b[43m_binary_clf_curve\u001b[49m\u001b[43m(\u001b[49m\n\u001b[0;32m    982\u001b[0m \u001b[43m        \u001b[49m\u001b[43my_true\u001b[49m\u001b[43m,\u001b[49m\u001b[43m \u001b[49m\u001b[43my_score\u001b[49m\u001b[43m,\u001b[49m\u001b[43m \u001b[49m\u001b[43mpos_label\u001b[49m\u001b[38;5;241;43m=\u001b[39;49m\u001b[43mpos_label\u001b[49m\u001b[43m,\u001b[49m\u001b[43m \u001b[49m\u001b[43msample_weight\u001b[49m\u001b[38;5;241;43m=\u001b[39;49m\u001b[43msample_weight\u001b[49m\n\u001b[0;32m    983\u001b[0m \u001b[43m    \u001b[49m\u001b[43m)\u001b[49m\n\u001b[0;32m    985\u001b[0m     \u001b[38;5;66;03m# Attempt to drop thresholds corresponding to points in between and\u001b[39;00m\n\u001b[0;32m    986\u001b[0m     \u001b[38;5;66;03m# collinear with other points. These are always suboptimal and do not\u001b[39;00m\n\u001b[0;32m    987\u001b[0m     \u001b[38;5;66;03m# appear on a plotted ROC curve (and thus do not affect the AUC).\u001b[39;00m\n\u001b[1;32m   (...)\u001b[0m\n\u001b[0;32m    992\u001b[0m     \u001b[38;5;66;03m# but does not drop more complicated cases like fps = [1, 3, 7],\u001b[39;00m\n\u001b[0;32m    993\u001b[0m     \u001b[38;5;66;03m# tps = [1, 2, 4]; there is no harm in keeping too many thresholds.\u001b[39;00m\n\u001b[0;32m    994\u001b[0m     \u001b[38;5;28;01mif\u001b[39;00m drop_intermediate \u001b[38;5;129;01mand\u001b[39;00m \u001b[38;5;28mlen\u001b[39m(fps) \u001b[38;5;241m>\u001b[39m \u001b[38;5;241m2\u001b[39m:\n",
      "File \u001b[1;32mc:\\Users\\kelvi\\AppData\\Local\\Programs\\Python\\Python310\\lib\\site-packages\\sklearn\\metrics\\_ranking.py:744\u001b[0m, in \u001b[0;36m_binary_clf_curve\u001b[1;34m(y_true, y_score, pos_label, sample_weight)\u001b[0m\n\u001b[0;32m    742\u001b[0m check_consistent_length(y_true, y_score, sample_weight)\n\u001b[0;32m    743\u001b[0m y_true \u001b[38;5;241m=\u001b[39m column_or_1d(y_true)\n\u001b[1;32m--> 744\u001b[0m y_score \u001b[38;5;241m=\u001b[39m \u001b[43mcolumn_or_1d\u001b[49m\u001b[43m(\u001b[49m\u001b[43my_score\u001b[49m\u001b[43m)\u001b[49m\n\u001b[0;32m    745\u001b[0m assert_all_finite(y_true)\n\u001b[0;32m    746\u001b[0m assert_all_finite(y_score)\n",
      "File \u001b[1;32mc:\\Users\\kelvi\\AppData\\Local\\Programs\\Python\\Python310\\lib\\site-packages\\sklearn\\utils\\validation.py:1156\u001b[0m, in \u001b[0;36mcolumn_or_1d\u001b[1;34m(y, warn)\u001b[0m\n\u001b[0;32m   1147\u001b[0m         warnings\u001b[38;5;241m.\u001b[39mwarn(\n\u001b[0;32m   1148\u001b[0m             \u001b[38;5;124m\"\u001b[39m\u001b[38;5;124mA column-vector y was passed when a 1d array was\u001b[39m\u001b[38;5;124m\"\u001b[39m\n\u001b[0;32m   1149\u001b[0m             \u001b[38;5;124m\"\u001b[39m\u001b[38;5;124m expected. Please change the shape of y to \u001b[39m\u001b[38;5;124m\"\u001b[39m\n\u001b[1;32m   (...)\u001b[0m\n\u001b[0;32m   1152\u001b[0m             stacklevel\u001b[38;5;241m=\u001b[39m\u001b[38;5;241m2\u001b[39m,\n\u001b[0;32m   1153\u001b[0m         )\n\u001b[0;32m   1154\u001b[0m     \u001b[38;5;28;01mreturn\u001b[39;00m np\u001b[38;5;241m.\u001b[39mravel(y)\n\u001b[1;32m-> 1156\u001b[0m \u001b[38;5;28;01mraise\u001b[39;00m \u001b[38;5;167;01mValueError\u001b[39;00m(\n\u001b[0;32m   1157\u001b[0m     \u001b[38;5;124m\"\u001b[39m\u001b[38;5;124my should be a 1d array, got an array of shape \u001b[39m\u001b[38;5;132;01m{}\u001b[39;00m\u001b[38;5;124m instead.\u001b[39m\u001b[38;5;124m\"\u001b[39m\u001b[38;5;241m.\u001b[39mformat(shape)\n\u001b[0;32m   1158\u001b[0m )\n",
      "\u001b[1;31mValueError\u001b[0m: y should be a 1d array, got an array of shape (629, 2) instead."
     ]
    },
    {
     "data": {
      "image/png": "[encoded data removed]",
      "text/plain": [
       "<Figure size 1000x800 with 1 Axes>"
      ]
     },
     "metadata": {},
     "output_type": "display_data"
    }
   ],
   "source": [
    "features_subsets = joblib.load(os.path.join(\n",
    "            constants.MODEL_DIR,\n",
    "            constants.CO_TRAINING_BEST_FEATURE_SPLIT_RESULTS_FILENAME\n",
    "        ));\n",
    "AUC_baseline, AUC_selftraining, AUC_cotraining, AUC_semiboost, AUC_labelspread = plotROC(\n",
    "    models={\n",
    "        \"Baseline Model\": supervisedModel,\n",
    "        \"Self Learning Model\": joblib.load(os.path.join(\n",
    "            constants.MODEL_DIR,\n",
    "            constants.MODEL_SELFTRAIN_FILENAME\n",
    "        )),\n",
    "        \"Co-Training Model\": joblib.load(os.path.join(\n",
    "            constants.MODEL_DIR,\n",
    "            constants.MODEL_COTRAIN_1_FILENAME\n",
    "        )),\n",
    "        \"Semi-Boost\": joblib.load(os.path.join(\n",
    "            constants.MODEL_DIR,\n",
    "            constants.MODEL_SEMIBOOST_FILENAME\n",
    "        )),\n",
    "        \"Label Spreading\": joblib.load(os.path.join(\n",
    "            constants.MODEL_DIR,\n",
    "            constants.MODEL_LABELSPREAD_FILENAME\n",
    "        ))\n",
    "    },\n",
    "    X_test=mush_X_test_norm,\n",
    "    y_test=mush_y_test_norm,\n",
    "    feature_subsets={\n",
    "        \"Co-Training Model 1\": features_subsets[\"features_view1\"],\n",
    "        \"Co-Training Model 2\": features_subsets[\"features_view2\"],\n",
    "    },\n",
    "    y_pred_proba=[\n",
    "        y_pred_proba, # baseline\n",
    "        joblib.load(os.path.join(\n",
    "            constants.PRED_DIR,\n",
    "            constants.Y_PRED_TEST_SELFTRAIN_FILENAME\n",
    "        )),\n",
    "        joblib.load(os.path.join(\n",
    "            constants.PRED_DIR,\n",
    "            constants.Y_PRED_TEST_COTRAIN_FILENAME\n",
    "        )),\n",
    "        joblib.load(os.path.join(\n",
    "            constants.PRED_DIR,\n",
    "            constants.Y_PRED_TEST_SEMIBOOST_FILENAME\n",
    "        )),\n",
    "        joblib.load(os.path.join(\n",
    "            constants.PRED_DIR,\n",
    "            constants.Y_PRED_TEST_LABELSPREAD_FILENAME\n",
    "        ))\n",
    "    ],\n",
    "    dataset=\"mushroom\"\n",
    ");\n",
    "print(f\"AUC of the Baseline Model: {AUC_baseline}\");\n",
    "print(f\"AUC of the Self Learning Model: {AUC_selftraining}\");\n",
    "print(f\"AUC of the combined Co-Training Model: {AUC_cotraining}\");\n",
    "print(f\"AUC of the Semi boost Model: {AUC_semiboost}\");\n",
    "print(f\"AUC of the Label Spreading Model: {AUC_labelspread}\");"
   ]
  }
 ],
 "metadata": {
  "kernelspec": {
   "display_name": "Python 3",
   "language": "python",
   "name": "python3"
  },
  "language_info": {
   "codemirror_mode": {
    "name": "ipython",
    "version": 3
   },
   "file_extension": ".py",
   "mimetype": "text/x-python",
   "name": "python",
   "nbconvert_exporter": "python",
   "pygments_lexer": "ipython3",
   "version": "3.10.7"
  }
 },
 "nbformat": 4,
 "nbformat_minor": 2
}
